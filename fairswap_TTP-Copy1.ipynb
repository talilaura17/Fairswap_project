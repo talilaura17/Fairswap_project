{
 "cells": [
  {
   "cell_type": "markdown",
   "id": "8b4ca77c-4949-46f2-a623-42ee99592a51",
   "metadata": {},
   "source": [
    "測試版"
   ]
  },
  {
   "cell_type": "markdown",
   "id": "89607236-1f81-4b02-98b6-921273b1f50e",
   "metadata": {
    "tags": []
   },
   "source": [
    "# TTP (Trust Third Party)\n",
    "#### 幫合約進行解密π\n",
    "收到 inputZ 與 outputZ，回傳解密+hash結果 input 與 output 給智能合約"
   ]
  },
  {
   "cell_type": "code",
   "execution_count": null,
   "id": "f1c01e0d-4c21-41e0-a82b-4cca76d1bbd6",
   "metadata": {},
   "outputs": [],
   "source": [
    "from Crypto.Cipher import AES\n",
    "from Crypto.Random import get_random_bytes\n",
    "from Crypto.Util.Padding import pad, unpad\n",
    "\n",
    "def generate_key():\n",
    "    return get_random_bytes(32)\n",
    "\n",
    "def encrypt(data, key):\n",
    "    cipher = AES.new(key, AES.MODE_CBC)\n",
    "    ciphertext = cipher.encrypt(pad(data.encode('utf-8'), AES.block_size))\n",
    "    iv = cipher.iv\n",
    "    return ciphertext, iv\n",
    "\n",
    "def decrypt(ciphertext, key, iv):\n",
    "    cipher = AES.new(key, AES.MODE_CBC, iv)\n",
    "    decrypted_data = unpad(cipher.decrypt(ciphertext), AES.block_size)\n",
    "    return decrypted_data.decode('utf-8')\n",
    "\n",
    "with open(\"key.txt\", \"rb\") as f:\n",
    "    key = f.read()"
   ]
  },
  {
   "cell_type": "code",
   "execution_count": null,
   "id": "7f8d5712-23cd-4806-850d-9195e1d87c88",
   "metadata": {},
   "outputs": [],
   "source": []
  },
  {
   "cell_type": "code",
   "execution_count": null,
   "id": "4bda1443-81b0-4945-9f54-7a91fb38cf4c",
   "metadata": {},
   "outputs": [
    {
     "name": "stdout",
     "output_type": "stream",
     "text": [
      "Creating event filter\n",
      "Starting event loop\n"
     ]
    }
   ],
   "source": [
    "from web3 import Web3\n",
    "import time\n",
    "import json\n",
    "import base64\n",
    "\n",
    "ganache_url = \"http://localhost:7545\"\n",
    "web3 = Web3(Web3.HTTPProvider(ganache_url))\n",
    "\n",
    "# 检查连接\n",
    "if not web3.is_connected():\n",
    "    print(\"Unable to connect to Ethereum node.\")\n",
    "    exit()\n",
    "\n",
    "# 合约地址和 ABI\n",
    "contract_address = '0x04DAC69F0B1c7b0c0C129Fcb83280c74551550d5'\n",
    "with open('abi7.json', 'r') as file:\n",
    "    contract_abi = json.load(file) \n",
    "\n",
    "# 创建合约实例\n",
    "contract = web3.eth.contract(address=contract_address, abi=contract_abi)\n",
    "\n",
    "# 监听事件\n",
    "def handle_event(event):\n",
    "    print(f\"Event received: {event}\")\n",
    "    message = event['args']['message']\n",
    "    ori_data = []\n",
    "    ori_data.append(event['args']['input1'])\n",
    "    ori_data.append(event['args']['input2'])\n",
    "    ori_data.append(event['args']['output'])\n",
    "    \n",
    "    # 调用外部程序或 API 获取数据\n",
    "    data = fetch_data_from_external_source(ori_data)\n",
    "    # 将数据发送回智能合约\n",
    "    send_data_to_contract(event['args']['caller'], data)\n",
    "\n",
    "def fetch_data_from_external_source(ori_data):\n",
    "    # 模拟外部数据获取过程\n",
    "    hash_data = []\n",
    "    for item in ori_data:\n",
    "        encrypted_data, iv_data = item.strip().split(\",\")\n",
    "        decrypted_data = decrypt(base64.b64decode(encrypted_data), key, base64.b64decode(iv_data))\n",
    "        hash_data.append(web3.solidity_keccak(['string'], [decrypted_data]).hex())\n",
    "    print(hash_data)\n",
    "    return hash_data\n",
    "\n",
    "def send_data_to_contract(caller_address, data):\n",
    "    # 使用私钥对交易进行签名\n",
    "    private_key = '0x05bdd1aa1ae4202edd88d25c0c34ae40a1e11ae47f582739e53d67e34ba2284f'\n",
    "    account_address = '0x09ea376Ff3D21010615c4f263a72AF13AEDF77CD'\n",
    "    nonce = web3.eth.get_transaction_count(account_address)\n",
    "    transaction = contract.functions.receiveData(data[0], data[1], data[2]).build_transaction({\n",
    "        'from': account_address,\n",
    "        'nonce': nonce,\n",
    "        'gas': 2000000,\n",
    "        'gasPrice': web3.to_wei('50', 'gwei')\n",
    "    })\n",
    "    signed_txn = web3.eth.account.sign_transaction(transaction, private_key)\n",
    "    tx_hash = web3.eth.send_raw_transaction(signed_txn.rawTransaction)\n",
    "    print(f\"Transaction sent: {web3.to_hex(tx_hash)}\")\n",
    "\n",
    "# 监听并处理事件\n",
    "def listen_for_events():\n",
    "    print(\"Creating event filter\")\n",
    "    event_filter = contract.events.RequestData.create_filter(fromBlock='latest')\n",
    "    print(\"Starting event loop\")\n",
    "    while True:\n",
    "        #print(\"Checking for new events\")\n",
    "        for event in event_filter.get_new_entries():\n",
    "            handle_event(event)\n",
    "        time.sleep(2)\n",
    "\n",
    "if __name__ == \"__main__\":\n",
    "    \n",
    "    # 启动事件监听\n",
    "    listen_for_events()"
   ]
  },
  {
   "cell_type": "code",
   "execution_count": null,
   "id": "2f650fab-81ba-4087-928a-b74176f7e068",
   "metadata": {},
   "outputs": [],
   "source": []
  }
 ],
 "metadata": {
  "kernelspec": {
   "display_name": "Python 3 (ipykernel)",
   "language": "python",
   "name": "python3"
  },
  "language_info": {
   "codemirror_mode": {
    "name": "ipython",
    "version": 3
   },
   "file_extension": ".py",
   "mimetype": "text/x-python",
   "name": "python",
   "nbconvert_exporter": "python",
   "pygments_lexer": "ipython3",
   "version": "3.9.13"
  }
 },
 "nbformat": 4,
 "nbformat_minor": 5
}
