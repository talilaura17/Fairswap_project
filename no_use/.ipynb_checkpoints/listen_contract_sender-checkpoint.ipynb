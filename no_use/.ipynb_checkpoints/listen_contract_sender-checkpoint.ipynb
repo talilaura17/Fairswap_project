{
 "cells": [
  {
   "cell_type": "code",
   "execution_count": 7,
   "id": "02b40354-42b3-498f-a70d-d1684b414f91",
   "metadata": {},
   "outputs": [
    {
     "name": "stdout",
     "output_type": "stream",
     "text": [
      "Creating event filter\n",
      "Starting event loop\n",
      "Event received: AttributeDict({'args': AttributeDict({'message': 'verifyChild input[0]:', 'bb': b'\\x7f\\xec\\xd2\\xf4CZ\\xbeh\\xb4\\x81n\\x86\\xdb\\xca\\x12\\x12\\xdfd^YG\\xe7\\n\\xad\\x99-\\xa6\\x97\\xcf\\xfd\\xa2\\x0c'}), 'event': 'Debug', 'logIndex': 0, 'transactionIndex': 0, 'transactionHash': HexBytes('0x2608cfcf526ef12effdd9b6241230bd4f697a973dc00c40cb43124716b3a02a6'), 'address': '0x584Da36D41E4667C11F7732317f32eFBB8b43148', 'blockHash': HexBytes('0xeadb616afb55a352720713904fd8bebd0aca9128a5cd7001df6fe1f8b9d5b888'), 'blockNumber': 753})\n",
      "verifyChild input[0]:\n",
      "7fecd2f4435abe68b4816e86dbca1212df645e5947e70aad992da697cffda20c\n",
      "Event received: AttributeDict({'args': AttributeDict({'message': 'verifyChild input[1]:', 'bb': b'\\\\\\x99G\\x07\\xd8T_K\\xce\\xe7\\xcb\\x8dz\\x94\\x07\\x06\\x85I rSA\\xcf\\xc7#y\\xb4(\\x81\\xd1~v'}), 'event': 'Debug', 'logIndex': 1, 'transactionIndex': 0, 'transactionHash': HexBytes('0x2608cfcf526ef12effdd9b6241230bd4f697a973dc00c40cb43124716b3a02a6'), 'address': '0x584Da36D41E4667C11F7732317f32eFBB8b43148', 'blockHash': HexBytes('0xeadb616afb55a352720713904fd8bebd0aca9128a5cd7001df6fe1f8b9d5b888'), 'blockNumber': 753})\n",
      "verifyChild input[1]:\n",
      "5c994707d8545f4bcee7cb8d7a940706854920725341cfc72379b42881d17e76\n",
      "Event received: AttributeDict({'args': AttributeDict({'message': 'verifyChild output:', 'bb': b'\\x9aC[\\x86\\xa6\\x0f\\xcezX\\xc7|#\\x1c1}\\xeeF\\x13d\\xceT\\x958\\x07S5\"1\\xd4\\x9f\\x0b\\xeb'}), 'event': 'Debug', 'logIndex': 2, 'transactionIndex': 0, 'transactionHash': HexBytes('0x2608cfcf526ef12effdd9b6241230bd4f697a973dc00c40cb43124716b3a02a6'), 'address': '0x584Da36D41E4667C11F7732317f32eFBB8b43148', 'blockHash': HexBytes('0xeadb616afb55a352720713904fd8bebd0aca9128a5cd7001df6fe1f8b9d5b888'), 'blockNumber': 753})\n",
      "verifyChild output:\n",
      "9a435b86a60fce7a58c77c231c317dee461364ce5495380753352231d49f0beb\n",
      "Event received: AttributeDict({'args': AttributeDict({'message': 'verifyChild computedHash:', 'bb': b'\\xa87E\\x15r3ud\\x10=\\xf1\\xa5#\\xb1?\\xf9\\r\\xaf\\xce)\\xd7\\x18\\x03\\xcfG42t\\xf8|\\xf5A'}), 'event': 'Debug', 'logIndex': 3, 'transactionIndex': 0, 'transactionHash': HexBytes('0x2608cfcf526ef12effdd9b6241230bd4f697a973dc00c40cb43124716b3a02a6'), 'address': '0x584Da36D41E4667C11F7732317f32eFBB8b43148', 'blockHash': HexBytes('0xeadb616afb55a352720713904fd8bebd0aca9128a5cd7001df6fe1f8b9d5b888'), 'blockNumber': 753})\n",
      "verifyChild computedHash:\n",
      "a837451572337564103df1a523b13ff90dafce29d71803cf47343274f87cf541\n"
     ]
    },
    {
     "ename": "KeyboardInterrupt",
     "evalue": "",
     "output_type": "error",
     "traceback": [
      "\u001b[1;31m---------------------------------------------------------------------------\u001b[0m",
      "\u001b[1;31mKeyboardInterrupt\u001b[0m                         Traceback (most recent call last)",
      "\u001b[1;32m~\\AppData\\Local\\Temp\\ipykernel_9304\\1451168161.py\u001b[0m in \u001b[0;36m<module>\u001b[1;34m\u001b[0m\n\u001b[0;32m     42\u001b[0m \u001b[1;33m\u001b[0m\u001b[0m\n\u001b[0;32m     43\u001b[0m     \u001b[1;31m# 启动事件监听\u001b[0m\u001b[1;33m\u001b[0m\u001b[1;33m\u001b[0m\u001b[0m\n\u001b[1;32m---> 44\u001b[1;33m     \u001b[0mlisten_for_events\u001b[0m\u001b[1;33m(\u001b[0m\u001b[1;33m)\u001b[0m\u001b[1;33m\u001b[0m\u001b[1;33m\u001b[0m\u001b[0m\n\u001b[0m",
      "\u001b[1;32m~\\AppData\\Local\\Temp\\ipykernel_9304\\1451168161.py\u001b[0m in \u001b[0;36mlisten_for_events\u001b[1;34m()\u001b[0m\n\u001b[0;32m     37\u001b[0m         \u001b[1;32mfor\u001b[0m \u001b[0mevent\u001b[0m \u001b[1;32min\u001b[0m \u001b[0mevent_filter\u001b[0m\u001b[1;33m.\u001b[0m\u001b[0mget_new_entries\u001b[0m\u001b[1;33m(\u001b[0m\u001b[1;33m)\u001b[0m\u001b[1;33m:\u001b[0m\u001b[1;33m\u001b[0m\u001b[1;33m\u001b[0m\u001b[0m\n\u001b[0;32m     38\u001b[0m             \u001b[0mhandle_event\u001b[0m\u001b[1;33m(\u001b[0m\u001b[0mevent\u001b[0m\u001b[1;33m)\u001b[0m\u001b[1;33m\u001b[0m\u001b[1;33m\u001b[0m\u001b[0m\n\u001b[1;32m---> 39\u001b[1;33m         \u001b[0mtime\u001b[0m\u001b[1;33m.\u001b[0m\u001b[0msleep\u001b[0m\u001b[1;33m(\u001b[0m\u001b[1;36m2\u001b[0m\u001b[1;33m)\u001b[0m\u001b[1;33m\u001b[0m\u001b[1;33m\u001b[0m\u001b[0m\n\u001b[0m\u001b[0;32m     40\u001b[0m \u001b[1;33m\u001b[0m\u001b[0m\n\u001b[0;32m     41\u001b[0m \u001b[1;32mif\u001b[0m \u001b[0m__name__\u001b[0m \u001b[1;33m==\u001b[0m \u001b[1;34m\"__main__\"\u001b[0m\u001b[1;33m:\u001b[0m\u001b[1;33m\u001b[0m\u001b[1;33m\u001b[0m\u001b[0m\n",
      "\u001b[1;31mKeyboardInterrupt\u001b[0m: "
     ]
    }
   ],
   "source": [
    "from web3 import Web3\n",
    "import time\n",
    "import json\n",
    "import base64\n",
    "\n",
    "ganache_url = \"http://localhost:7545\"\n",
    "web3 = Web3(Web3.HTTPProvider(ganache_url))\n",
    "\n",
    "if not web3.is_connected():\n",
    "    print(\"Unable to connect to Ethereum node.\")\n",
    "    exit()\n",
    "    \n",
    "with open(\"contract_address.txt\", \"r\") as f:\n",
    "    contract_address = f.read()\n",
    "\n",
    "with open('abi7.json', 'r') as file:\n",
    "    contract_abi = json.load(file) \n",
    "\n",
    "contract = web3.eth.contract(address=contract_address, abi=contract_abi)\n",
    "\n",
    "# 監聽event\n",
    "def handle_event(event):\n",
    "    print(f\"Event received: {event}\")\n",
    "\n",
    "def listen_for_events():\n",
    "    print(\"Creating event filter\")\n",
    "    event_filter = contract.events.ForSender.create_filter(fromBlock='latest')\n",
    "    print(\"Starting event loop\")\n",
    "    while True:\n",
    "        #print(\"Checking for new events\")\n",
    "        for event in event_filter.get_new_entries():\n",
    "            handle_event(event)\n",
    "        time.sleep(2)\n",
    "    \n",
    "listen_for_events()"
   ]
  },
  {
   "cell_type": "code",
   "execution_count": null,
   "id": "b9cd8045-0ae7-47e3-b3b1-b79589832057",
   "metadata": {},
   "outputs": [],
   "source": [
    "# refund\n",
    "# 等待 10 分鐘\n",
    "import time\n",
    "#time.sleep(600)\n",
    "time.sleep(60)\n",
    "\n",
    "nonce = w3.eth.get_transaction_count(sender_address)\n",
    "transaction_params = {\n",
    "    'gas': 500000,\n",
    "    'gasPrice': w3.to_wei('10', 'gwei'),\n",
    "    'nonce': nonce,\n",
    "    'from': sender_address\n",
    "}\n",
    "\n",
    "# 調用 refund 函數\n",
    "try:\n",
    "    tx_hash = contract.functions.refund().transact(transaction_params)\n",
    "    receipt = w3.eth.wait_for_transaction_receipt(tx_hash)\n",
    "    print(f\"Refund transaction receipt: {receipt}\")\n",
    "except ValueError as e:\n",
    "    print(f\"Transaction failed: {e}\")"
   ]
  },
  {
   "cell_type": "code",
   "execution_count": null,
   "id": "f1e47005-31d5-4345-8a8a-77e80e4e46bf",
   "metadata": {},
   "outputs": [],
   "source": []
  }
 ],
 "metadata": {
  "kernelspec": {
   "display_name": "Python 3 (ipykernel)",
   "language": "python",
   "name": "python3"
  },
  "language_info": {
   "codemirror_mode": {
    "name": "ipython",
    "version": 3
   },
   "file_extension": ".py",
   "mimetype": "text/x-python",
   "name": "python",
   "nbconvert_exporter": "python",
   "pygments_lexer": "ipython3",
   "version": "3.9.13"
  }
 },
 "nbformat": 4,
 "nbformat_minor": 5
}
