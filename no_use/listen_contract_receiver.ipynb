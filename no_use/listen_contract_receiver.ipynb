{
 "cells": [
  {
   "cell_type": "code",
   "execution_count": 1,
   "id": "02b40354-42b3-498f-a70d-d1684b414f91",
   "metadata": {},
   "outputs": [
    {
     "name": "stdout",
     "output_type": "stream",
     "text": [
      "Creating event filter\n",
      "Starting event loop\n",
      "Event received: AttributeDict({'args': AttributeDict({'message': 'key from sender', 'data': b'\\xed\\xc5\\xa3\\x1cn\\xaa4\\xfc\\xfb\\xb8\\xf4\\xca\\xe3#\\x06\\xc5,+\\x02\\xbe^\\xaa\\x97\\x89\\x91\\x8c\\xba\\x98h\\xfd\\x9e\\x17'}), 'event': 'ForReceiver', 'logIndex': 0, 'transactionIndex': 0, 'transactionHash': HexBytes('0x8ae59377a16d5ed60e18182a679ce585115703cf7e7d03602296225e0489da58'), 'address': '0xBDD96F8588c9D8833124DAA0ECA9d82005899a5d', 'blockHash': HexBytes('0xfefe5e2e3df52c679f513d3da9bb2715856e02842cd461f867787e4c11b4fa42'), 'blockNumber': 805})\n"
     ]
    },
    {
     "ename": "KeyboardInterrupt",
     "evalue": "",
     "output_type": "error",
     "traceback": [
      "\u001b[1;31m---------------------------------------------------------------------------\u001b[0m",
      "\u001b[1;31mKeyboardInterrupt\u001b[0m                         Traceback (most recent call last)",
      "\u001b[1;32m~\\AppData\\Local\\Temp\\ipykernel_23740\\1978588203.py\u001b[0m in \u001b[0;36m<module>\u001b[1;34m\u001b[0m\n\u001b[0;32m     32\u001b[0m         \u001b[0mtime\u001b[0m\u001b[1;33m.\u001b[0m\u001b[0msleep\u001b[0m\u001b[1;33m(\u001b[0m\u001b[1;36m2\u001b[0m\u001b[1;33m)\u001b[0m\u001b[1;33m\u001b[0m\u001b[1;33m\u001b[0m\u001b[0m\n\u001b[0;32m     33\u001b[0m \u001b[1;33m\u001b[0m\u001b[0m\n\u001b[1;32m---> 34\u001b[1;33m \u001b[0mlisten_for_events\u001b[0m\u001b[1;33m(\u001b[0m\u001b[1;33m)\u001b[0m\u001b[1;33m\u001b[0m\u001b[1;33m\u001b[0m\u001b[0m\n\u001b[0m",
      "\u001b[1;32m~\\AppData\\Local\\Temp\\ipykernel_23740\\1978588203.py\u001b[0m in \u001b[0;36mlisten_for_events\u001b[1;34m()\u001b[0m\n\u001b[0;32m     30\u001b[0m         \u001b[1;32mfor\u001b[0m \u001b[0mevent\u001b[0m \u001b[1;32min\u001b[0m \u001b[0mevent_filter\u001b[0m\u001b[1;33m.\u001b[0m\u001b[0mget_new_entries\u001b[0m\u001b[1;33m(\u001b[0m\u001b[1;33m)\u001b[0m\u001b[1;33m:\u001b[0m\u001b[1;33m\u001b[0m\u001b[1;33m\u001b[0m\u001b[0m\n\u001b[0;32m     31\u001b[0m             \u001b[0mhandle_event\u001b[0m\u001b[1;33m(\u001b[0m\u001b[0mevent\u001b[0m\u001b[1;33m)\u001b[0m\u001b[1;33m\u001b[0m\u001b[1;33m\u001b[0m\u001b[0m\n\u001b[1;32m---> 32\u001b[1;33m         \u001b[0mtime\u001b[0m\u001b[1;33m.\u001b[0m\u001b[0msleep\u001b[0m\u001b[1;33m(\u001b[0m\u001b[1;36m2\u001b[0m\u001b[1;33m)\u001b[0m\u001b[1;33m\u001b[0m\u001b[1;33m\u001b[0m\u001b[0m\n\u001b[0m\u001b[0;32m     33\u001b[0m \u001b[1;33m\u001b[0m\u001b[0m\n\u001b[0;32m     34\u001b[0m \u001b[0mlisten_for_events\u001b[0m\u001b[1;33m(\u001b[0m\u001b[1;33m)\u001b[0m\u001b[1;33m\u001b[0m\u001b[1;33m\u001b[0m\u001b[0m\n",
      "\u001b[1;31mKeyboardInterrupt\u001b[0m: "
     ]
    }
   ],
   "source": [
    "from web3 import Web3\n",
    "import time\n",
    "import json\n",
    "import base64\n",
    "\n",
    "ganache_url = \"http://localhost:7545\"\n",
    "web3 = Web3(Web3.HTTPProvider(ganache_url))\n",
    "\n",
    "if not web3.is_connected():\n",
    "    print(\"Unable to connect to Ethereum node.\")\n",
    "    exit()\n",
    "\n",
    "with open(\"contract_address.txt\", \"r\") as f:\n",
    "    contract_address = f.read()\n",
    "with open('abi7.json', 'r') as file:\n",
    "    contract_abi = json.load(file) \n",
    "\n",
    "contract = web3.eth.contract(address=contract_address, abi=contract_abi)\n",
    "\n",
    "# 監聽event\n",
    "def handle_event(event):\n",
    "    print(f\"Event received: {event}\")\n",
    "\n",
    "def listen_for_events():\n",
    "    print(\"Creating event filter\")\n",
    "    event_filter = contract.events.ForReceiver.create_filter(fromBlock='latest')\n",
    "    print(\"Starting event loop\")\n",
    "    while True:\n",
    "        #print(\"Checking for new events\")\n",
    "        for event in event_filter.get_new_entries():\n",
    "            handle_event(event)\n",
    "        time.sleep(2)\n",
    "\n",
    "listen_for_events()"
   ]
  },
  {
   "cell_type": "code",
   "execution_count": null,
   "id": "f1e47005-31d5-4345-8a8a-77e80e4e46bf",
   "metadata": {},
   "outputs": [],
   "source": []
  }
 ],
 "metadata": {
  "kernelspec": {
   "display_name": "Python 3 (ipykernel)",
   "language": "python",
   "name": "python3"
  },
  "language_info": {
   "codemirror_mode": {
    "name": "ipython",
    "version": 3
   },
   "file_extension": ".py",
   "mimetype": "text/x-python",
   "name": "python",
   "nbconvert_exporter": "python",
   "pygments_lexer": "ipython3",
   "version": "3.9.13"
  }
 },
 "nbformat": 4,
 "nbformat_minor": 5
}
