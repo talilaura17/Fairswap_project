{
 "cells": [
  {
   "cell_type": "code",
   "execution_count": 41,
   "id": "a0c9c25c-9dd6-4814-872d-5a36ae19708a",
   "metadata": {},
   "outputs": [
    {
     "name": "stdout",
     "output_type": "stream",
     "text": [
      "0x3ac225168df54212a25c1c01fd35bebfea408fdac2e31ddd6f80a4bbf9a5f1cb\n"
     ]
    }
   ],
   "source": [
    "from web3 import Web3\n",
    "\n",
    "# 創建一個 Web3 實例\n",
    "w3 = Web3()\n",
    "\n",
    "packed_data = w3.solidity_keccak(['string'], ['a'])\n",
    "\n",
    "print(packed_data.hex())"
   ]
  },
  {
   "cell_type": "code",
   "execution_count": 52,
   "id": "74158914-298d-448a-a895-2172d60d5ab6",
   "metadata": {},
   "outputs": [
    {
     "name": "stdout",
     "output_type": "stream",
     "text": [
      "0x3ac225168df54212a25c1c01fd35bebfea408fdac2e31ddd6f80a4bbf9a5f1cb\n",
      "0xb5553de315e0edf504d9150af82dafa5c4667fa618ed0a6f19c69b41166c5510\n",
      "0x0b42b6393c1f53060fe3ddbfcd7aadcca894465a5a438f69c87d790b2299b9b2\n",
      "0xf1918e8562236eb17adc8502332f4c9c82bc14e19bfc0aa10ab674ff75b3d2f3\n"
     ]
    }
   ],
   "source": [
    "h0 = w3.solidity_keccak(['string'], ['a']).hex()\n",
    "h1 = w3.solidity_keccak(['string'], ['b']).hex()\n",
    "h2 = w3.solidity_keccak(['string'], ['c']).hex()\n",
    "h3 = w3.solidity_keccak(['string'], ['d']).hex()\n",
    "\n",
    "print(h0)\n",
    "print(h1)\n",
    "print(h2)\n",
    "print(h3)"
   ]
  },
  {
   "cell_type": "code",
   "execution_count": 54,
   "id": "cff7e9f4-66fb-4886-a248-926cec0b2d19",
   "metadata": {},
   "outputs": [
    {
     "name": "stdout",
     "output_type": "stream",
     "text": [
      "0x805b21d846b189efaeb0377d6bb0d201b3872a363e607c25088f025b0c6ae1f8\n",
      "0xd253a52d4cb00de2895e85f2529e2976e6aaaa5c18106b68ab66813e14415669\n"
     ]
    }
   ],
   "source": [
    "h01=w3.solidity_keccak(['bytes32', 'bytes32'], [h0, h1]).hex()\n",
    "h23=w3.solidity_keccak(['bytes32', 'bytes32'], [h2, h3]).hex()\n",
    "\n",
    "print(h01)\n",
    "print(h23)"
   ]
  },
  {
   "cell_type": "code",
   "execution_count": 55,
   "id": "715473e7-d42f-4061-a1d4-f52d69301995",
   "metadata": {},
   "outputs": [
    {
     "name": "stdout",
     "output_type": "stream",
     "text": [
      "0x68203f90e9d07dc5859259d7536e87a6ba9d345f2552b5b9de2999ddce9ce1bf\n"
     ]
    }
   ],
   "source": [
    "hroot = w3.solidity_keccak(['bytes32', 'bytes32'], [h01, h23]).hex()\n",
    "\n",
    "print(hroot)"
   ]
  },
  {
   "cell_type": "code",
   "execution_count": null,
   "id": "4da9b3dc-dad6-4ced-9351-8b254da34361",
   "metadata": {},
   "outputs": [],
   "source": []
  }
 ],
 "metadata": {
  "kernelspec": {
   "display_name": "Python 3 (ipykernel)",
   "language": "python",
   "name": "python3"
  },
  "language_info": {
   "codemirror_mode": {
    "name": "ipython",
    "version": 3
   },
   "file_extension": ".py",
   "mimetype": "text/x-python",
   "name": "python",
   "nbconvert_exporter": "python",
   "pygments_lexer": "ipython3",
   "version": "3.9.13"
  }
 },
 "nbformat": 4,
 "nbformat_minor": 5
}
