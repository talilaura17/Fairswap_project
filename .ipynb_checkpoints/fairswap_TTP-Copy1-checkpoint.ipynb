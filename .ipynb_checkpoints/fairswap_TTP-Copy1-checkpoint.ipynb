{
 "cells": [
  {
   "cell_type": "markdown",
   "id": "89607236-1f81-4b02-98b6-921273b1f50e",
   "metadata": {
    "tags": []
   },
   "source": [
    "# TTP (Trust Third Party)\n",
    "#### 幫合約進行解密π\n",
    "收到 inputZ 與 outputZ，回傳解密結果 input 與 output 給智能合約"
   ]
  },
  {
   "cell_type": "code",
   "execution_count": 161,
   "id": "f1c01e0d-4c21-41e0-a82b-4cca76d1bbd6",
   "metadata": {},
   "outputs": [],
   "source": [
    "from Crypto.Cipher import AES\n",
    "from Crypto.Random import get_random_bytes\n",
    "from Crypto.Util.Padding import pad, unpad\n",
    "\n",
    "def generate_key():\n",
    "    return get_random_bytes(32)\n",
    "\n",
    "def encrypt(data, key):\n",
    "    cipher = AES.new(key, AES.MODE_CBC)\n",
    "    ciphertext = cipher.encrypt(pad(data.encode('utf-8'), AES.block_size))\n",
    "    iv = cipher.iv\n",
    "    return ciphertext, iv\n",
    "\n",
    "def decrypt(ciphertext, key, iv):\n",
    "    cipher = AES.new(key, AES.MODE_CBC, iv)\n",
    "    decrypted_data = unpad(cipher.decrypt(ciphertext), AES.block_size)\n",
    "    return decrypted_data.decode('utf-8')"
   ]
  },
  {
   "cell_type": "code",
   "execution_count": 167,
   "id": "7f8d5712-23cd-4806-850d-9195e1d87c88",
   "metadata": {},
   "outputs": [],
   "source": [
    "import json\n",
    "\n",
    "with open(\"key.txt\", \"rb\") as f:\n",
    "    key = f.read()\n",
    "\n",
    "with open('verify_item.json', 'r', encoding='utf-8') as f:\n",
    "    loaded_verify_item = json.load(f)"
   ]
  },
  {
   "cell_type": "code",
   "execution_count": 168,
   "id": "d6d2e4ff-bbae-4aa4-b925-4bb9d18457d1",
   "metadata": {},
   "outputs": [
    {
     "name": "stdout",
     "output_type": "stream",
     "text": [
      "x1zJYloCafgAAQgkVWUeCKDg6+E0bPtO3OnK1eftw4DUKV9QnGbQL2RvSecCuY/8GfGVIlSWn+pv5X8keM9ywNO7MzoUIwznjLpJgGWQrlk=,NjPRvwXeiCUeSc46KXIbsg==\n",
      "['z6KsXgHzoYlV+2ZQWA8LbQ==,sFb5bhTfx0uiM9MZeie+VQ==', 'UwYjuO9QUz7TT8iJWtJu7g==,AGCn3j5pIf6IfACg8gWfzg==']\n"
     ]
    }
   ],
   "source": [
    "outputZ = loaded_verify_item.get('outputZ')\n",
    "inputsZ = loaded_verify_item.get('inputsZ')\n",
    "\n",
    "print(outputZ)\n",
    "print(inputsZ)\n"
   ]
  },
  {
   "cell_type": "code",
   "execution_count": 169,
   "id": "8ce9d854-e026-4beb-b66c-c07867784243",
   "metadata": {},
   "outputs": [
    {
     "name": "stdout",
     "output_type": "stream",
     "text": [
      "['0x9a435b86a60fce7a58c77c231c317dee461364ce5495380753352231d49f0beb', '一二', '三四']\n"
     ]
    }
   ],
   "source": [
    "import base64\n",
    "# decrypted_data = [outputZ, inputsZ[0], inputsZ[1]]\n",
    "decrypted_data=[]\n",
    "\n",
    "# outputZ\n",
    "encrypted_data, iv_data = outputZ.strip().split(\",\")\n",
    "decrypted_data.append(decrypt(base64.b64decode(encrypted_data), key, base64.b64decode(iv_data)))\n",
    "\n",
    "\n",
    "# inputsZ\n",
    "for i in inputsZ:\n",
    "    encrypted_data, iv_data = i.strip().split(\",\")\n",
    "    d = decrypt(base64.b64decode(encrypted_data), key, base64.b64decode(iv_data))\n",
    "    decrypted_data.append(d)\n",
    "\n",
    "print(decrypted_data)"
   ]
  },
  {
   "cell_type": "code",
   "execution_count": 170,
   "id": "be2956cf-5fde-4d8a-bca4-c36ce9c79f78",
   "metadata": {},
   "outputs": [
    {
     "name": "stdout",
     "output_type": "stream",
     "text": [
      "0x58de9d1f02387c03fc8b4344a5f90ce287c6114622daaacf46fc7c162b2dfd96\n",
      "0xcf8caf939c79e9b6e8d9dc22f91f29120bdc82f02a396fcc6bab1df540310b71\n",
      "0x1e29928f5a1bd8dcfd9a7b3fc6c835ac148b51db6598b524ff7c97c9c8bc1507\n"
     ]
    }
   ],
   "source": [
    "# hash\n",
    "for i in range(len(decrypted_data)):\n",
    "    decrypted_data[i] = w3.solidity_keccak(['string'], [decrypted_data[i]]).hex()\n",
    "    print(decrypted_data[i])"
   ]
  },
  {
   "cell_type": "code",
   "execution_count": 171,
   "id": "f23eca29-324d-4e1a-a9cf-7cadad6eac94",
   "metadata": {},
   "outputs": [],
   "source": [
    "with open(\"decrypted_data.txt\", \"w\") as file:\n",
    "    for d in decrypted_data:\n",
    "        file.write(d + \"\\n\")"
   ]
  },
  {
   "cell_type": "code",
   "execution_count": 173,
   "id": "43973902-8f76-49bb-8ec5-da21d78bda86",
   "metadata": {},
   "outputs": [
    {
     "name": "stdout",
     "output_type": "stream",
     "text": [
      "0x7fecd2f4435abe68b4816e86dbca1212df645e5947e70aad992da697cffda20c\n",
      "0x5c994707d8545f4bcee7cb8d7a940706854920725341cfc72379b42881d17e76\n"
     ]
    }
   ],
   "source": [
    "# test\n",
    "from web3 import Web3\n",
    "\n",
    "# 創建一個 Web3 實例\n",
    "w3 = Web3()\n",
    "\n",
    "h0 = w3.solidity_keccak(['string'], [decrypted_data[1]]).hex()\n",
    "h1 = w3.solidity_keccak(['string'], [decrypted_data[2]]).hex()\n",
    "print(h0)\n",
    "print(h1)\n"
   ]
  },
  {
   "cell_type": "code",
   "execution_count": 174,
   "id": "e05c18b3-3534-43fa-bdd8-19cb53f22e1c",
   "metadata": {},
   "outputs": [
    {
     "name": "stdout",
     "output_type": "stream",
     "text": [
      "0xa837451572337564103df1a523b13ff90dafce29d71803cf47343274f87cf541\n"
     ]
    }
   ],
   "source": [
    "\n",
    "h = w3.solidity_keccak(['bytes32', 'bytes32'], [h0, h1]).hex()\n",
    "\n",
    "print(h)"
   ]
  },
  {
   "cell_type": "code",
   "execution_count": null,
   "id": "4bda1443-81b0-4945-9f54-7a91fb38cf4c",
   "metadata": {},
   "outputs": [],
   "source": []
  }
 ],
 "metadata": {
  "kernelspec": {
   "display_name": "Python 3 (ipykernel)",
   "language": "python",
   "name": "python3"
  },
  "language_info": {
   "codemirror_mode": {
    "name": "ipython",
    "version": 3
   },
   "file_extension": ".py",
   "mimetype": "text/x-python",
   "name": "python",
   "nbconvert_exporter": "python",
   "pygments_lexer": "ipython3",
   "version": "3.9.13"
  }
 },
 "nbformat": 4,
 "nbformat_minor": 5
}
