{
 "cells": [
  {
   "cell_type": "code",
   "execution_count": 41,
   "id": "74be4130-5d0c-4fe1-b308-96740a67e10c",
   "metadata": {},
   "outputs": [],
   "source": [
    "from web3 import Web3\n",
    "\n",
    "# 創建一個 Web3 實例\n",
    "w3 = Web3()\n",
    "\n",
    "# w3.solidity_keccak(['string'], ['a']).hex()"
   ]
  },
  {
   "cell_type": "code",
   "execution_count": 45,
   "id": "e22f9335-4d90-43bb-952e-b5c87d2f6196",
   "metadata": {},
   "outputs": [
    {
     "ename": "TypeError",
     "evalue": "ABI values of abi-type 'bytes' must be eithera python3 'bytes' object or an '0x' prefixed string.",
     "output_type": "error",
     "traceback": [
      "\u001b[1;31m---------------------------------------------------------------------------\u001b[0m",
      "\u001b[1;31mTypeError\u001b[0m                                 Traceback (most recent call last)",
      "\u001b[1;32m~\\AppData\\Local\\Temp\\ipykernel_6784\\3880750239.py\u001b[0m in \u001b[0;36m<module>\u001b[1;34m\u001b[0m\n\u001b[0;32m     38\u001b[0m \u001b[0mleaves\u001b[0m \u001b[1;33m=\u001b[0m \u001b[1;33m[\u001b[0m\u001b[1;34m\"data1\"\u001b[0m\u001b[1;33m,\u001b[0m \u001b[1;34m\"data2\"\u001b[0m\u001b[1;33m,\u001b[0m \u001b[1;34m\"data3\"\u001b[0m\u001b[1;33m,\u001b[0m \u001b[1;34m\"data4\"\u001b[0m\u001b[1;33m]\u001b[0m\u001b[1;33m\u001b[0m\u001b[1;33m\u001b[0m\u001b[0m\n\u001b[0;32m     39\u001b[0m \u001b[0mf\u001b[0m \u001b[1;33m=\u001b[0m \u001b[0mopen\u001b[0m\u001b[1;33m(\u001b[0m\u001b[1;34m\"merkle.tree\"\u001b[0m\u001b[1;33m,\u001b[0m \u001b[1;34m\"w\"\u001b[0m\u001b[1;33m)\u001b[0m\u001b[1;33m\u001b[0m\u001b[1;33m\u001b[0m\u001b[0m\n\u001b[1;32m---> 40\u001b[1;33m \u001b[0mroot\u001b[0m \u001b[1;33m=\u001b[0m \u001b[0mbuildTree\u001b[0m\u001b[1;33m(\u001b[0m\u001b[0mleaves\u001b[0m\u001b[1;33m,\u001b[0m\u001b[0mf\u001b[0m\u001b[1;33m)\u001b[0m\u001b[1;33m\u001b[0m\u001b[1;33m\u001b[0m\u001b[0m\n\u001b[0m\u001b[0;32m     41\u001b[0m \u001b[0mf\u001b[0m\u001b[1;33m.\u001b[0m\u001b[0mclose\u001b[0m\u001b[1;33m(\u001b[0m\u001b[1;33m)\u001b[0m\u001b[1;33m\u001b[0m\u001b[1;33m\u001b[0m\u001b[0m\n",
      "\u001b[1;32m~\\AppData\\Local\\Temp\\ipykernel_6784\\3880750239.py\u001b[0m in \u001b[0;36mbuildTree\u001b[1;34m(leaves, f)\u001b[0m\n\u001b[0;32m     12\u001b[0m     \u001b[0mnodes\u001b[0m \u001b[1;33m=\u001b[0m \u001b[1;33m[\u001b[0m\u001b[1;33m]\u001b[0m\u001b[1;33m\u001b[0m\u001b[1;33m\u001b[0m\u001b[0m\n\u001b[0;32m     13\u001b[0m     \u001b[1;32mfor\u001b[0m \u001b[0mi\u001b[0m \u001b[1;32min\u001b[0m \u001b[0mleaves\u001b[0m\u001b[1;33m:\u001b[0m\u001b[1;33m\u001b[0m\u001b[1;33m\u001b[0m\u001b[0m\n\u001b[1;32m---> 14\u001b[1;33m         \u001b[0mnodes\u001b[0m\u001b[1;33m.\u001b[0m\u001b[0mappend\u001b[0m\u001b[1;33m(\u001b[0m\u001b[0mMerkleTreeNode\u001b[0m\u001b[1;33m(\u001b[0m\u001b[0mi\u001b[0m\u001b[1;33m)\u001b[0m\u001b[1;33m)\u001b[0m\u001b[1;33m\u001b[0m\u001b[1;33m\u001b[0m\u001b[0m\n\u001b[0m\u001b[0;32m     15\u001b[0m \u001b[1;33m\u001b[0m\u001b[0m\n\u001b[0;32m     16\u001b[0m     \u001b[1;32mwhile\u001b[0m \u001b[0mlen\u001b[0m\u001b[1;33m(\u001b[0m\u001b[0mnodes\u001b[0m\u001b[1;33m)\u001b[0m\u001b[1;33m!=\u001b[0m\u001b[1;36m1\u001b[0m\u001b[1;33m:\u001b[0m\u001b[1;33m\u001b[0m\u001b[1;33m\u001b[0m\u001b[0m\n",
      "\u001b[1;32m~\\AppData\\Local\\Temp\\ipykernel_6784\\3880750239.py\u001b[0m in \u001b[0;36m__init__\u001b[1;34m(self, value)\u001b[0m\n\u001b[0;32m      7\u001b[0m         \u001b[0mself\u001b[0m\u001b[1;33m.\u001b[0m\u001b[0mright\u001b[0m \u001b[1;33m=\u001b[0m \u001b[1;32mNone\u001b[0m\u001b[1;33m\u001b[0m\u001b[1;33m\u001b[0m\u001b[0m\n\u001b[0;32m      8\u001b[0m         \u001b[0mself\u001b[0m\u001b[1;33m.\u001b[0m\u001b[0mvalue\u001b[0m \u001b[1;33m=\u001b[0m \u001b[0mvalue\u001b[0m\u001b[1;33m\u001b[0m\u001b[1;33m\u001b[0m\u001b[0m\n\u001b[1;32m----> 9\u001b[1;33m         \u001b[0mself\u001b[0m\u001b[1;33m.\u001b[0m\u001b[0mhashValue\u001b[0m \u001b[1;33m=\u001b[0m \u001b[0mw3\u001b[0m\u001b[1;33m.\u001b[0m\u001b[0msolidity_keccak\u001b[0m\u001b[1;33m(\u001b[0m\u001b[1;33m[\u001b[0m\u001b[1;34m'bytes32'\u001b[0m\u001b[1;33m]\u001b[0m\u001b[1;33m,\u001b[0m \u001b[1;33m[\u001b[0m\u001b[0mvalue\u001b[0m\u001b[1;33m]\u001b[0m\u001b[1;33m)\u001b[0m\u001b[1;33m.\u001b[0m\u001b[0mhex\u001b[0m\u001b[1;33m(\u001b[0m\u001b[1;33m)\u001b[0m\u001b[1;33m\u001b[0m\u001b[1;33m\u001b[0m\u001b[0m\n\u001b[0m\u001b[0;32m     10\u001b[0m \u001b[1;33m\u001b[0m\u001b[0m\n\u001b[0;32m     11\u001b[0m \u001b[1;32mdef\u001b[0m \u001b[0mbuildTree\u001b[0m\u001b[1;33m(\u001b[0m\u001b[0mleaves\u001b[0m\u001b[1;33m,\u001b[0m\u001b[0mf\u001b[0m\u001b[1;33m)\u001b[0m\u001b[1;33m:\u001b[0m\u001b[1;33m\u001b[0m\u001b[1;33m\u001b[0m\u001b[0m\n",
      "\u001b[1;32m~\\anaconda3\\lib\\site-packages\\eth_utils\\decorators.py\u001b[0m in \u001b[0;36m_wrapper\u001b[1;34m(*args, **kwargs)\u001b[0m\n\u001b[0;32m     16\u001b[0m         \u001b[1;32mdef\u001b[0m \u001b[0m_wrapper\u001b[0m\u001b[1;33m(\u001b[0m\u001b[1;33m*\u001b[0m\u001b[0margs\u001b[0m\u001b[1;33m:\u001b[0m \u001b[0mAny\u001b[0m\u001b[1;33m,\u001b[0m \u001b[1;33m**\u001b[0m\u001b[0mkwargs\u001b[0m\u001b[1;33m:\u001b[0m \u001b[0mAny\u001b[0m\u001b[1;33m)\u001b[0m \u001b[1;33m->\u001b[0m \u001b[0mAny\u001b[0m\u001b[1;33m:\u001b[0m\u001b[1;33m\u001b[0m\u001b[1;33m\u001b[0m\u001b[0m\n\u001b[0;32m     17\u001b[0m             \u001b[1;32mif\u001b[0m \u001b[0mobj\u001b[0m \u001b[1;32mis\u001b[0m \u001b[1;32mnot\u001b[0m \u001b[1;32mNone\u001b[0m\u001b[1;33m:\u001b[0m\u001b[1;33m\u001b[0m\u001b[1;33m\u001b[0m\u001b[0m\n\u001b[1;32m---> 18\u001b[1;33m                 \u001b[1;32mreturn\u001b[0m \u001b[0mself\u001b[0m\u001b[1;33m.\u001b[0m\u001b[0mmethod\u001b[0m\u001b[1;33m(\u001b[0m\u001b[0mobj\u001b[0m\u001b[1;33m,\u001b[0m \u001b[1;33m*\u001b[0m\u001b[0margs\u001b[0m\u001b[1;33m,\u001b[0m \u001b[1;33m**\u001b[0m\u001b[0mkwargs\u001b[0m\u001b[1;33m)\u001b[0m\u001b[1;33m\u001b[0m\u001b[1;33m\u001b[0m\u001b[0m\n\u001b[0m\u001b[0;32m     19\u001b[0m             \u001b[1;32melse\u001b[0m\u001b[1;33m:\u001b[0m\u001b[1;33m\u001b[0m\u001b[1;33m\u001b[0m\u001b[0m\n\u001b[0;32m     20\u001b[0m                 \u001b[1;32mreturn\u001b[0m \u001b[0mself\u001b[0m\u001b[1;33m.\u001b[0m\u001b[0mmethod\u001b[0m\u001b[1;33m(\u001b[0m\u001b[0mobjtype\u001b[0m\u001b[1;33m,\u001b[0m \u001b[1;33m*\u001b[0m\u001b[0margs\u001b[0m\u001b[1;33m,\u001b[0m \u001b[1;33m**\u001b[0m\u001b[0mkwargs\u001b[0m\u001b[1;33m)\u001b[0m\u001b[1;33m\u001b[0m\u001b[1;33m\u001b[0m\u001b[0m\n",
      "\u001b[1;32m~\\anaconda3\\lib\\site-packages\\web3\\main.py\u001b[0m in \u001b[0;36msolidity_keccak\u001b[1;34m(cls, abi_types, values)\u001b[0m\n\u001b[0;32m    324\u001b[0m         hex_string = add_0x_prefix(\n\u001b[0;32m    325\u001b[0m             HexStr(\n\u001b[1;32m--> 326\u001b[1;33m                 \"\".join(\n\u001b[0m\u001b[0;32m    327\u001b[0m                     \u001b[0mremove_0x_prefix\u001b[0m\u001b[1;33m(\u001b[0m\u001b[0mhex_encode_abi_type\u001b[0m\u001b[1;33m(\u001b[0m\u001b[0mabi_type\u001b[0m\u001b[1;33m,\u001b[0m \u001b[0mvalue\u001b[0m\u001b[1;33m)\u001b[0m\u001b[1;33m)\u001b[0m\u001b[1;33m\u001b[0m\u001b[1;33m\u001b[0m\u001b[0m\n\u001b[0;32m    328\u001b[0m                     \u001b[1;32mfor\u001b[0m \u001b[0mabi_type\u001b[0m\u001b[1;33m,\u001b[0m \u001b[0mvalue\u001b[0m \u001b[1;32min\u001b[0m \u001b[0mzip\u001b[0m\u001b[1;33m(\u001b[0m\u001b[0mabi_types\u001b[0m\u001b[1;33m,\u001b[0m \u001b[0mnormalized_values\u001b[0m\u001b[1;33m)\u001b[0m\u001b[1;33m\u001b[0m\u001b[1;33m\u001b[0m\u001b[0m\n",
      "\u001b[1;32m~\\anaconda3\\lib\\site-packages\\web3\\main.py\u001b[0m in \u001b[0;36m<genexpr>\u001b[1;34m(.0)\u001b[0m\n\u001b[0;32m    325\u001b[0m             HexStr(\n\u001b[0;32m    326\u001b[0m                 \"\".join(\n\u001b[1;32m--> 327\u001b[1;33m                     \u001b[0mremove_0x_prefix\u001b[0m\u001b[1;33m(\u001b[0m\u001b[0mhex_encode_abi_type\u001b[0m\u001b[1;33m(\u001b[0m\u001b[0mabi_type\u001b[0m\u001b[1;33m,\u001b[0m \u001b[0mvalue\u001b[0m\u001b[1;33m)\u001b[0m\u001b[1;33m)\u001b[0m\u001b[1;33m\u001b[0m\u001b[1;33m\u001b[0m\u001b[0m\n\u001b[0m\u001b[0;32m    328\u001b[0m                     \u001b[1;32mfor\u001b[0m \u001b[0mabi_type\u001b[0m\u001b[1;33m,\u001b[0m \u001b[0mvalue\u001b[0m \u001b[1;32min\u001b[0m \u001b[0mzip\u001b[0m\u001b[1;33m(\u001b[0m\u001b[0mabi_types\u001b[0m\u001b[1;33m,\u001b[0m \u001b[0mnormalized_values\u001b[0m\u001b[1;33m)\u001b[0m\u001b[1;33m\u001b[0m\u001b[1;33m\u001b[0m\u001b[0m\n\u001b[0;32m    329\u001b[0m                 )\n",
      "\u001b[1;32m~\\anaconda3\\lib\\site-packages\\web3\\_utils\\encoding.py\u001b[0m in \u001b[0;36mhex_encode_abi_type\u001b[1;34m(abi_type, value, force_size)\u001b[0m\n\u001b[0;32m     65\u001b[0m     \"\"\"\n\u001b[0;32m     66\u001b[0m     \u001b[0mvalidate_abi_type\u001b[0m\u001b[1;33m(\u001b[0m\u001b[0mabi_type\u001b[0m\u001b[1;33m)\u001b[0m\u001b[1;33m\u001b[0m\u001b[1;33m\u001b[0m\u001b[0m\n\u001b[1;32m---> 67\u001b[1;33m     \u001b[0mvalidate_abi_value\u001b[0m\u001b[1;33m(\u001b[0m\u001b[0mabi_type\u001b[0m\u001b[1;33m,\u001b[0m \u001b[0mvalue\u001b[0m\u001b[1;33m)\u001b[0m\u001b[1;33m\u001b[0m\u001b[1;33m\u001b[0m\u001b[0m\n\u001b[0m\u001b[0;32m     68\u001b[0m \u001b[1;33m\u001b[0m\u001b[0m\n\u001b[0;32m     69\u001b[0m     \u001b[0mdata_size\u001b[0m \u001b[1;33m=\u001b[0m \u001b[0mforce_size\u001b[0m \u001b[1;32mor\u001b[0m \u001b[0msize_of_type\u001b[0m\u001b[1;33m(\u001b[0m\u001b[0mabi_type\u001b[0m\u001b[1;33m)\u001b[0m\u001b[1;33m\u001b[0m\u001b[1;33m\u001b[0m\u001b[0m\n",
      "\u001b[1;32m~\\anaconda3\\lib\\site-packages\\web3\\_utils\\validation.py\u001b[0m in \u001b[0;36mvalidate_abi_value\u001b[1;34m(abi_type, value)\u001b[0m\n\u001b[0;32m    139\u001b[0m                 \u001b[1;32mreturn\u001b[0m\u001b[1;33m\u001b[0m\u001b[1;33m\u001b[0m\u001b[0m\n\u001b[0;32m    140\u001b[0m             \u001b[1;32melse\u001b[0m\u001b[1;33m:\u001b[0m\u001b[1;33m\u001b[0m\u001b[1;33m\u001b[0m\u001b[0m\n\u001b[1;32m--> 141\u001b[1;33m                 raise TypeError(\n\u001b[0m\u001b[0;32m    142\u001b[0m                     \u001b[1;34m\"ABI values of abi-type 'bytes' must be either\"\u001b[0m\u001b[1;33m\u001b[0m\u001b[1;33m\u001b[0m\u001b[0m\n\u001b[0;32m    143\u001b[0m                     \u001b[1;34m\"a python3 'bytes' object or an '0x' prefixed string.\"\u001b[0m\u001b[1;33m\u001b[0m\u001b[1;33m\u001b[0m\u001b[0m\n",
      "\u001b[1;31mTypeError\u001b[0m: ABI values of abi-type 'bytes' must be eithera python3 'bytes' object or an '0x' prefixed string."
     ]
    }
   ],
   "source": [
    "#!/usr/bin/python3\n",
    "import hashlib,sys\n",
    "    \n",
    "class MerkleTreeNode:\n",
    "    def __init__(self,value):\n",
    "        self.left = None\n",
    "        self.right = None\n",
    "        self.value = value\n",
    "        self.hashValue = w3.solidity_keccak(['string'], [value]).hex()\n",
    "    \n",
    "def buildTree(leaves,f):\n",
    "    nodes = []\n",
    "    for i in leaves:\n",
    "        nodes.append(MerkleTreeNode(i))\n",
    "\n",
    "    while len(nodes)!=1:\n",
    "        temp = []\n",
    "        for i in range(0,len(nodes),2):\n",
    "            node1 = nodes[i]\n",
    "            if i+1 < len(nodes):\n",
    "                node2 = nodes[i+1]\n",
    "            else:\n",
    "                temp.append(nodes[i])\n",
    "                break\n",
    "            f.write(\"Left child : \"+ node1.value + \" | Hash : \" + node1.hashValue +\" \\n\")\n",
    "            f.write(\"Right child : \"+ node2.value + \" | Hash : \" + node2.hashValue +\" \\n\")\n",
    "            concatenatedHash = node1.hashValue + node2.hashValue\n",
    "            parent = MerkleTreeNode(concatenatedHash)\n",
    "            parent.left = node1\n",
    "            parent.right = node2\n",
    "            f.write(\"Parent(concatenation of \"+ node1.value + \" and \" + node2.value + \") : \" +parent.value + \" | Hash : \" + parent.hashValue +\" \\n\")\n",
    "            temp.append(parent)\n",
    "        nodes = temp \n",
    "    return nodes[0]\n",
    "\n",
    "inputString = \"data11\", \"data2\", \"data3\", \"data41\"\n",
    "leavesString = inputString[1:len(inputString)-1]\n",
    "leaves = [\"data1\", \"data2\", \"data3\", \"data4\"]\n",
    "f = open(\"merkle.tree\", \"w\")\n",
    "root = buildTree(leaves,f)\n",
    "f.close()"
   ]
  },
  {
   "cell_type": "code",
   "execution_count": 44,
   "id": "d038efc9-80ef-4c3f-8436-36ec23beba98",
   "metadata": {},
   "outputs": [
    {
     "name": "stdout",
     "output_type": "stream",
     "text": [
      "b'Left child : data1 | Hash : 0x622b1092273fe26f6a2c370a5c34a690337e7f802f2fa5006b40790bd3f7d69b \\r\\n'\n",
      "\n",
      "b'Right child : data2 | Hash : 0x7012f98e24c6b2f609d365c959c99a9bc691d6939cc7162e679fb1226697a56b \\r\\n'\n",
      "\n",
      "b'Parent(concatenation of data1 and data2) : 0x622b1092273fe26f6a2c370a5c34a690337e7f802f2fa5006b40790bd3f7d69b0x7012f98e24c6b2f609d365c959c99a9bc691d6939cc7162e679fb1226697a56b | Hash : 0x777e687d7f9d6281113df7c6510d199a7332363f3aa435f6e95db443f587e66c \\r\\n'\n",
      "\n",
      "b'Left child : data3 | Hash : 0x1988284e7250800b37f11b3fbe7b25ad52b72cb5caff67934f69015a4263ffb5 \\r\\n'\n",
      "\n",
      "b'Right child : data4 | Hash : 0xa706adce5b41b9fab05150b0ad504f75d877a594784ce6bcc1bb8c7590296d74 \\r\\n'\n",
      "\n",
      "b'Parent(concatenation of data3 and data4) : 0x1988284e7250800b37f11b3fbe7b25ad52b72cb5caff67934f69015a4263ffb50xa706adce5b41b9fab05150b0ad504f75d877a594784ce6bcc1bb8c7590296d74 | Hash : 0x240bb6e80db9648841a43027a3dbca9f0ca9b096f32c88bdfe6fe752464707fb \\r\\n'\n",
      "\n",
      "b'Left child : 0x622b1092273fe26f6a2c370a5c34a690337e7f802f2fa5006b40790bd3f7d69b0x7012f98e24c6b2f609d365c959c99a9bc691d6939cc7162e679fb1226697a56b | Hash : 0x777e687d7f9d6281113df7c6510d199a7332363f3aa435f6e95db443f587e66c \\r\\n'\n",
      "\n",
      "b'Right child : 0x1988284e7250800b37f11b3fbe7b25ad52b72cb5caff67934f69015a4263ffb50xa706adce5b41b9fab05150b0ad504f75d877a594784ce6bcc1bb8c7590296d74 | Hash : 0x240bb6e80db9648841a43027a3dbca9f0ca9b096f32c88bdfe6fe752464707fb \\r\\n'\n",
      "\n",
      "b'Parent(concatenation of 0x622b1092273fe26f6a2c370a5c34a690337e7f802f2fa5006b40790bd3f7d69b0x7012f98e24c6b2f609d365c959c99a9bc691d6939cc7162e679fb1226697a56b and 0x1988284e7250800b37f11b3fbe7b25ad52b72cb5caff67934f69015a4263ffb50xa706adce5b41b9fab05150b0ad504f75d877a594784ce6bcc1bb8c7590296d74) : 0x777e687d7f9d6281113df7c6510d199a7332363f3aa435f6e95db443f587e66c0x240bb6e80db9648841a43027a3dbca9f0ca9b096f32c88bdfe6fe752464707fb | Hash : 0x1c288ad07953b0d02df76d6b8cfd5b3f63674d7bace9dd7cbaf1f5d93e05bfbb \\r\\n'\n",
      "\n"
     ]
    }
   ],
   "source": [
    "with open(\"merkle.tree\", \"rb\") as f:\n",
    "    data = f.readlines()\n",
    "for i in data:\n",
    "    print(i)\n",
    "    print()"
   ]
  },
  {
   "cell_type": "code",
   "execution_count": null,
   "id": "002f8655-5bac-4519-8980-dbaf85564b93",
   "metadata": {},
   "outputs": [],
   "source": []
  },
  {
   "cell_type": "code",
   "execution_count": null,
   "id": "df5ba30b-6619-4c71-897d-f5889e661c37",
   "metadata": {},
   "outputs": [],
   "source": []
  },
  {
   "cell_type": "code",
   "execution_count": 25,
   "id": "43cc0d5d-3665-4591-a99c-f12e64a30e96",
   "metadata": {},
   "outputs": [
    {
     "name": "stdout",
     "output_type": "stream",
     "text": [
      "1 :  9722201502e620d70d78ee63045f3493812c206b988cbbe76c28918a7364fdbd\n",
      "1\n",
      "2 :  e99905ac9f9583a5737a07d20a7129343f486f5f549b42c05192046188ef5f66\n",
      "2\n",
      "3 :  4c89fefa814dbe46b640ca2ffb4682a1eaad32985c6604e98cc0a2fd76e49550\n",
      "3\n",
      "4 :  2ce80d2bc0bfe54c2499d066ac958c02304ce64ca318ae19a4636c32d583429c\n",
      "4\n"
     ]
    }
   ],
   "source": [
    "from pymerkle import InmemoryTree as MerkleTree\n",
    "\n",
    "tree = MerkleTree(algorithm='keccak_256')\n",
    "\n",
    "x = ['a', 'b', 'c', 'd']\n",
    "for i in x:\n",
    "    index = tree.append_entry(i.encode()) # leaf index\n",
    "    value = tree.get_leaf(index).hex()        # leaf hash\n",
    "    print(index,': ',value)\n",
    "    print(tree.get_size())"
   ]
  },
  {
   "cell_type": "code",
   "execution_count": null,
   "id": "5e67e687-7aad-4a39-b587-95324ac46a7e",
   "metadata": {},
   "outputs": [],
   "source": []
  },
  {
   "cell_type": "code",
   "execution_count": 23,
   "id": "735a373e-5479-4a7f-822c-96e5d8a9ccdb",
   "metadata": {},
   "outputs": [
    {
     "name": "stdout",
     "output_type": "stream",
     "text": [
      "\n",
      "\n",
      " └─d0c277df...\n",
      "    ├──00d25e3e...\n",
      "    │   ├──97222015...\n",
      "    │   └──e99905ac...\n",
      "    └──0e4c742c...\n",
      "        ├──4c89fefa...\n",
      "        └──2ce80d2b...\n",
      "\n",
      "\n",
      "4\n",
      "d0c277dfc49909fb27fb9a2fc5000f8c9a49dfb3a1e54a2cc3f1bebe11c2b18c\n"
     ]
    }
   ],
   "source": [
    "print(tree)\n",
    "size = tree.get_size()    # number of leaves\n",
    "print(size)\n",
    "state = tree.get_state()    # current root-hash\n",
    "print(state.hex())"
   ]
  },
  {
   "cell_type": "code",
   "execution_count": null,
   "id": "7a539785-d07d-4bf4-9428-8a510806bd72",
   "metadata": {},
   "outputs": [],
   "source": []
  }
 ],
 "metadata": {
  "kernelspec": {
   "display_name": "Python 3 (ipykernel)",
   "language": "python",
   "name": "python3"
  },
  "language_info": {
   "codemirror_mode": {
    "name": "ipython",
    "version": 3
   },
   "file_extension": ".py",
   "mimetype": "text/x-python",
   "name": "python",
   "nbconvert_exporter": "python",
   "pygments_lexer": "ipython3",
   "version": "3.9.13"
  }
 },
 "nbformat": 4,
 "nbformat_minor": 5
}
