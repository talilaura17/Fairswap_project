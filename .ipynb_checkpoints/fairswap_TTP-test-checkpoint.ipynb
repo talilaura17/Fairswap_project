{
 "cells": [
  {
   "cell_type": "markdown",
   "id": "89607236-1f81-4b02-98b6-921273b1f50e",
   "metadata": {
    "tags": []
   },
   "source": [
    "# TTP (Trust Third Party)\n",
    "#### 幫合約進行解密π\n",
    "收到 inputZ 與 outputZ，回傳解密結果 hash(input) 與 output 給智能合約"
   ]
  },
  {
   "cell_type": "code",
   "execution_count": 44,
   "id": "f1c01e0d-4c21-41e0-a82b-4cca76d1bbd6",
   "metadata": {},
   "outputs": [],
   "source": [
    "from Crypto.Cipher import AES\n",
    "from Crypto.Random import get_random_bytes\n",
    "from Crypto.Util.Padding import pad, unpad\n",
    "\n",
    "def generate_key():\n",
    "    return get_random_bytes(32)\n",
    "\n",
    "def encrypt(datas, key):\n",
    "    encrypted_z = []\n",
    "    for data in datas:\n",
    "        if isinstance(data, HexBytes):\n",
    "            data = bytes(data)\n",
    "        cipher = AES.new(key, AES.MODE_CBC)\n",
    "        iv = cipher.iv\n",
    "        encrypted_data = iv + cipher.encrypt(pad(data, AES.block_size))\n",
    "        encrypted_z.append(encrypted_data)\n",
    "    return encrypted_z\n",
    "\n",
    "def decrypt(encrypted_parts, key):\n",
    "    decrypted_parts = []\n",
    "    for encrypted_part in encrypted_parts:\n",
    "        iv = encrypted_part[:16]\n",
    "        encrypted_data = encrypted_part[16:]\n",
    "        cipher = AES.new(key, AES.MODE_CBC, iv)\n",
    "        decrypted_part = unpad(cipher.decrypt(encrypted_data), AES.block_size)\n",
    "        decrypted_parts.append(decrypted_part)\n",
    "    return decrypted_parts"
   ]
  },
  {
   "cell_type": "code",
   "execution_count": 45,
   "id": "7f8d5712-23cd-4806-850d-9195e1d87c88",
   "metadata": {},
   "outputs": [],
   "source": [
    "import json\n",
    "\n",
    "with open(\"key.txt\", \"rb\") as f:\n",
    "    key = f.read()\n",
    "\n",
    "with open('verify_item.json', 'r', encoding='utf-8') as f:\n",
    "    loaded_verify_item = json.load(f)"
   ]
  },
  {
   "cell_type": "code",
   "execution_count": 46,
   "id": "d6d2e4ff-bbae-4aa4-b925-4bb9d18457d1",
   "metadata": {},
   "outputs": [],
   "source": [
    "outputZ = loaded_verify_item.get('outputZ')\n",
    "inputsZ = loaded_verify_item.get('inputsZ')\n",
    "\n",
    "en_data=[]\n",
    "en_data.append(bytes.fromhex(outputZ))\n",
    "en_data.append(bytes.fromhex(inputsZ[0]))\n",
    "en_data.append(bytes.fromhex(inputsZ[1]))\n",
    "#print(en_data)"
   ]
  },
  {
   "cell_type": "code",
   "execution_count": 47,
   "id": "3e844ad9-466e-4632-98a1-0106095cc6ea",
   "metadata": {},
   "outputs": [],
   "source": [
    "from web3 import Web3\n",
    "\n",
    "w3 = Web3()\n",
    "\n",
    "# decrypted_data = [outputZ, inputsZ[0], inputsZ[1]]\n",
    "decrypted_data = decrypt(en_data, key)\n",
    "\n",
    "#print(decrypted_data)\n",
    "#print(decrypted_data[1].decode('utf-8'))\n",
    "#print(decrypted_data[2].decode('utf-8'))"
   ]
  },
  {
   "cell_type": "code",
   "execution_count": 48,
   "id": "be2956cf-5fde-4d8a-bca4-c36ce9c79f78",
   "metadata": {},
   "outputs": [],
   "source": [
    "# hash input\n",
    "decrypted_data[1] = w3.solidity_keccak(['bytes'], [decrypted_data[1]])\n",
    "decrypted_data[2] = w3.solidity_keccak(['bytes'], [decrypted_data[2]])\n",
    "#print(decrypted_data)"
   ]
  },
  {
   "cell_type": "code",
   "execution_count": 49,
   "id": "f23eca29-324d-4e1a-a9cf-7cadad6eac94",
   "metadata": {},
   "outputs": [
    {
     "name": "stdout",
     "output_type": "stream",
     "text": [
      "已生成 decrypted_data.txt\n"
     ]
    }
   ],
   "source": [
    "with open(\"decrypted_data.txt\", \"wb\") as file:\n",
    "    for d in decrypted_data:\n",
    "        file.write(d + b\"\\n\")\n",
    "        #print(d)\n",
    "print('已生成 decrypted_data.txt')"
   ]
  },
  {
   "cell_type": "code",
   "execution_count": 29,
   "id": "88037c59-cf2a-49a9-9822-67c228e41b7b",
   "metadata": {},
   "outputs": [
    {
     "name": "stdout",
     "output_type": "stream",
     "text": [
      "[b'0\\xda\\xf6\\xd1\\xfd\\xdd\\x18jTp\\x9di7\\x89X\\xcd\\xc9r\\x10\\xf0|\\xbdl\\xef\\x01\\xb4>\\x1d\\x9a,\\x1b1', b'\\xc9\\xd5\\x8a\\xdb\\x01\\t\\x1f\\x00E\\xc55\\xcb\\xbbLIZ\\x98D\\x06\\x9f\\xf4\\x9d\\x01*\\xe3\\xd47\\x90\\x0c\\x97\\xf1\\xb5', b'\\x1d\\x88\\x1c\\xef_\\x1a\\xc8\\xe3\\x9f\\xd4\\xfe\\xffl@.c\\xb5Vl\\x1c\\xc67\\x10\\xc3\\xfb\\x1cP+\\x92\\x88`\\xb5']\n"
     ]
    }
   ],
   "source": [
    "# test \n",
    "decrypted_data=[]\n",
    "with open(\"decrypted_data.txt\", \"rb\") as f:\n",
    "    for line in f:\n",
    "        decrypted_data.append(line.strip())\n",
    "print(decrypted_data)"
   ]
  },
  {
   "cell_type": "code",
   "execution_count": 246,
   "id": "e05c18b3-3534-43fa-bdd8-19cb53f22e1c",
   "metadata": {},
   "outputs": [
    {
     "name": "stdout",
     "output_type": "stream",
     "text": [
      "0x22e090d0b62d30887cba1aa0c98b368b21051d6d9ff129ec7c6203294c81a87e\n",
      "False\n"
     ]
    }
   ],
   "source": [
    "# test\n",
    "h = w3.solidity_keccak(['bytes32', 'bytes32'], [decrypted_data[1], decrypted_data[2]]).hex()\n",
    "\n",
    "print(h)\n",
    "print(h==decrypted_data[0])"
   ]
  },
  {
   "cell_type": "code",
   "execution_count": 247,
   "id": "43973902-8f76-49bb-8ec5-da21d78bda86",
   "metadata": {},
   "outputs": [
    {
     "name": "stdout",
     "output_type": "stream",
     "text": [
      "0x439cc586d027b66962c3735c55c2b34a64c6add23711aba043b8417d49fe648f\n",
      "0x4c0f0a23c9115ce34c9e7169bb7ede40c35af8b78481f416b56f888482158931\n",
      "0xe3adb85ad26d5e14b6d3a2ddff0b4b026ee91cddba4a26489d1d07ec805604cc\n"
     ]
    }
   ],
   "source": [
    "# test\n",
    "#print(decrypted_data[1],decrypted_data[2])\n",
    "h0 = decrypted_data[1]\n",
    "h1 = decrypted_data[2]\n",
    "h0 =w3.solidity_keccak(['string'], [h0]).hex()\n",
    "h1 =w3.solidity_keccak(['string'], [h1]).hex()\n",
    "print(h0)\n",
    "print(h1)\n",
    "\n",
    "h = w3.solidity_keccak(['bytes32', 'bytes32'], [h0, h1]).hex()\n",
    "\n",
    "print(h)"
   ]
  },
  {
   "cell_type": "code",
   "execution_count": 248,
   "id": "26a070ab-f1a9-4845-8b05-05fc9d781990",
   "metadata": {},
   "outputs": [
    {
     "name": "stdout",
     "output_type": "stream",
     "text": [
      "0xa1941bfadce985d48ded4a7150be58083c8de01a6c13b0d2a61b7e2599ea6455\n",
      "0x1d881cef5f1ac8e39fd4feff6c402e63b5566c1cc63710c3fb1c502b928860b5\n"
     ]
    }
   ],
   "source": [
    "# test\n",
    "#print(decrypted_data[1],decrypted_data[2])\n",
    "h0 = decrypted_data[1]\n",
    "h1 = decrypted_data[2]\n",
    "print(h0)\n",
    "print(h1)"
   ]
  },
  {
   "cell_type": "code",
   "execution_count": 249,
   "id": "4bda1443-81b0-4945-9f54-7a91fb38cf4c",
   "metadata": {},
   "outputs": [
    {
     "name": "stdout",
     "output_type": "stream",
     "text": [
      "0x2cbd8591864766a50744d25da9e7f33a906722776c702ba23f9c6f5d1552c574\n"
     ]
    }
   ],
   "source": [
    "hhh = w3.solidity_keccak(['string'], [h]).hex()\n",
    "print(hhh)"
   ]
  },
  {
   "cell_type": "code",
   "execution_count": null,
   "id": "71fbdd06-cfe9-439f-8ae0-d08583b8ac13",
   "metadata": {},
   "outputs": [],
   "source": []
  }
 ],
 "metadata": {
  "kernelspec": {
   "display_name": "Python 3 (ipykernel)",
   "language": "python",
   "name": "python3"
  },
  "language_info": {
   "codemirror_mode": {
    "name": "ipython",
    "version": 3
   },
   "file_extension": ".py",
   "mimetype": "text/x-python",
   "name": "python",
   "nbconvert_exporter": "python",
   "pygments_lexer": "ipython3",
   "version": "3.9.13"
  }
 },
 "nbformat": 4,
 "nbformat_minor": 5
}
