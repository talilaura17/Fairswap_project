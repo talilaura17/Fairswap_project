{
 "cells": [
  {
   "cell_type": "code",
   "execution_count": null,
   "id": "02b40354-42b3-498f-a70d-d1684b414f91",
   "metadata": {},
   "outputs": [
    {
     "name": "stdout",
     "output_type": "stream",
     "text": [
      "Creating event filter\n",
      "Starting event loop\n",
      "Event received: AttributeDict({'args': AttributeDict({'message': 'verifyChild input[0]:', 'bb': b'\\x7f\\xec\\xd2\\xf4CZ\\xbeh\\xb4\\x81n\\x86\\xdb\\xca\\x12\\x12\\xdfd^YG\\xe7\\n\\xad\\x99-\\xa6\\x97\\xcf\\xfd\\xa2\\x0c'}), 'event': 'Debug', 'logIndex': 0, 'transactionIndex': 0, 'transactionHash': HexBytes('0xcd87b76e8bb4ae0dd648d0706f7f310d5fb4804842d02f101e76138b215bba89'), 'address': '0x2beBCBbBA1133420659D9FBE1B337Bfe69151c44', 'blockHash': HexBytes('0x1789acc5da2254e366905464f31cc50c15e0a558b26bc279ed4519c0f7f1bc32'), 'blockNumber': 747})\n",
      "verifyChild input[0]:\n",
      "7fecd2f4435abe68b4816e86dbca1212df645e5947e70aad992da697cffda20c\n",
      "Event received: AttributeDict({'args': AttributeDict({'message': 'verifyChild input[1]:', 'bb': b'\\\\\\x99G\\x07\\xd8T_K\\xce\\xe7\\xcb\\x8dz\\x94\\x07\\x06\\x85I rSA\\xcf\\xc7#y\\xb4(\\x81\\xd1~v'}), 'event': 'Debug', 'logIndex': 1, 'transactionIndex': 0, 'transactionHash': HexBytes('0xcd87b76e8bb4ae0dd648d0706f7f310d5fb4804842d02f101e76138b215bba89'), 'address': '0x2beBCBbBA1133420659D9FBE1B337Bfe69151c44', 'blockHash': HexBytes('0x1789acc5da2254e366905464f31cc50c15e0a558b26bc279ed4519c0f7f1bc32'), 'blockNumber': 747})\n",
      "verifyChild input[1]:\n",
      "5c994707d8545f4bcee7cb8d7a940706854920725341cfc72379b42881d17e76\n",
      "Event received: AttributeDict({'args': AttributeDict({'message': 'verifyChild output:', 'bb': b'\\x9aC[\\x86\\xa6\\x0f\\xcezX\\xc7|#\\x1c1}\\xeeF\\x13d\\xceT\\x958\\x07S5\"1\\xd4\\x9f\\x0b\\xeb'}), 'event': 'Debug', 'logIndex': 2, 'transactionIndex': 0, 'transactionHash': HexBytes('0xcd87b76e8bb4ae0dd648d0706f7f310d5fb4804842d02f101e76138b215bba89'), 'address': '0x2beBCBbBA1133420659D9FBE1B337Bfe69151c44', 'blockHash': HexBytes('0x1789acc5da2254e366905464f31cc50c15e0a558b26bc279ed4519c0f7f1bc32'), 'blockNumber': 747})\n",
      "verifyChild output:\n",
      "9a435b86a60fce7a58c77c231c317dee461364ce5495380753352231d49f0beb\n",
      "Event received: AttributeDict({'args': AttributeDict({'message': 'verifyChild computedHash:', 'bb': b'\\xa87E\\x15r3ud\\x10=\\xf1\\xa5#\\xb1?\\xf9\\r\\xaf\\xce)\\xd7\\x18\\x03\\xcfG42t\\xf8|\\xf5A'}), 'event': 'Debug', 'logIndex': 3, 'transactionIndex': 0, 'transactionHash': HexBytes('0xcd87b76e8bb4ae0dd648d0706f7f310d5fb4804842d02f101e76138b215bba89'), 'address': '0x2beBCBbBA1133420659D9FBE1B337Bfe69151c44', 'blockHash': HexBytes('0x1789acc5da2254e366905464f31cc50c15e0a558b26bc279ed4519c0f7f1bc32'), 'blockNumber': 747})\n",
      "verifyChild computedHash:\n",
      "a837451572337564103df1a523b13ff90dafce29d71803cf47343274f87cf541\n"
     ]
    }
   ],
   "source": [
    "from web3 import Web3\n",
    "import time\n",
    "import json\n",
    "import base64\n",
    "\n",
    "ganache_url = \"http://localhost:7545\"\n",
    "web3 = Web3(Web3.HTTPProvider(ganache_url))\n",
    "\n",
    "# 检查连接\n",
    "if not web3.is_connected():\n",
    "    print(\"Unable to connect to Ethereum node.\")\n",
    "    exit()\n",
    "\n",
    "# 合约地址和 ABI\n",
    "contract_address = '0x584Da36D41E4667C11F7732317f32eFBB8b43148'\n",
    "with open('abi7.json', 'r') as file:\n",
    "    contract_abi = json.load(file) \n",
    "\n",
    "# 创建合约实例\n",
    "contract = web3.eth.contract(address=contract_address, abi=contract_abi)\n",
    "\n",
    "# 监听事件\n",
    "def handle_event(event):\n",
    "    print(f\"Event received: {event}\")\n",
    "    message = event['args']['message']\n",
    "    bb = event['args']['bb']\n",
    "    print(message)\n",
    "    print(bb.hex())\n",
    "\n",
    "# 监听并处理事件\n",
    "def listen_for_events():\n",
    "    print(\"Creating event filter\")\n",
    "    event_filter = contract.events.Debug.create_filter(fromBlock='latest')\n",
    "    print(\"Starting event loop\")\n",
    "    while True:\n",
    "        #print(\"Checking for new events\")\n",
    "        for event in event_filter.get_new_entries():\n",
    "            handle_event(event)\n",
    "        time.sleep(2)\n",
    "\n",
    "if __name__ == \"__main__\":\n",
    "    \n",
    "    # 启动事件监听\n",
    "    listen_for_events()"
   ]
  },
  {
   "cell_type": "code",
   "execution_count": null,
   "id": "b9cd8045-0ae7-47e3-b3b1-b79589832057",
   "metadata": {},
   "outputs": [],
   "source": []
  }
 ],
 "metadata": {
  "kernelspec": {
   "display_name": "Python 3 (ipykernel)",
   "language": "python",
   "name": "python3"
  },
  "language_info": {
   "codemirror_mode": {
    "name": "ipython",
    "version": 3
   },
   "file_extension": ".py",
   "mimetype": "text/x-python",
   "name": "python",
   "nbconvert_exporter": "python",
   "pygments_lexer": "ipython3",
   "version": "3.9.13"
  }
 },
 "nbformat": 4,
 "nbformat_minor": 5
}
