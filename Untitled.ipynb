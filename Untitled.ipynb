{
 "cells": [
  {
   "cell_type": "code",
   "execution_count": 1,
   "id": "510f5b2d-bbc7-481e-bac7-3098308f9bf1",
   "metadata": {},
   "outputs": [
    {
     "name": "stdout",
     "output_type": "stream",
     "text": [
      "b'\\xfd\\x96l\\xa7\\x16\\xeb\\xfez\\x08\\x8f/<b\\xb6\\xfdK\\xda1k\\x8d\\xd8\\x9c(\\xcf_\\xc5\\x0f\\x11\\xd2\\x15\\x1f\\xf0'\n",
      "b'\\xa1\\x10\\xdc\\xdc!L\\x89\\xd6\\x84\\xa8\\xcf\\xc3\\x01\\x19\\x08\\xf7\\x88R\\xe8\\xf0=\\xe9\\xc6\\x178\\x8b\\xd3\\xc2d\\xb4\\xfc\\x19'\n"
     ]
    }
   ],
   "source": [
    "from hashlib import sha256\n",
    "\n",
    "# 32 bytes key (256 bits)\n",
    "with open(\"key.txt\", \"rb\") as f:\n",
    "    key = f.read()\n",
    "\n",
    "# 設定參數    \n",
    "ciphertextRoot = bytes.fromhex('0787e266574a3e36d4721764e4dda72dd1d8f94768435406e24f8015ac01ef77')\n",
    "#file_root = bytes.fromhex('9db5d220104995c3b30c4ec8472a8dd292f3e5ca759a919ce5428e3e9f3ba486')\n",
    "file_root = b'\\xa1\\x10\\xdc\\xdc!L\\x89\\xd6\\x84\\xa8\\xcf\\xc3\\x01\\x19\\x08\\xf7\\x88R\\xe8\\xf0=\\xe9\\xc6\\x178\\x8b\\xd3\\xc2d\\xb4\\xfc\\x19'\n",
    "\n",
    "print(key)\n",
    "print(file_root)"
   ]
  },
  {
   "cell_type": "code",
   "execution_count": 2,
   "id": "759aaaeb-7c79-4d14-acc1-6910dd629750",
   "metadata": {},
   "outputs": [],
   "source": [
    "def complain_about_root(_Zm, _proofZm):\n",
    "    global phase\n",
    "    n=8\n",
    "    \n",
    "    if crypt_small(2 * (n - 1), _Zm) != file_root:\n",
    "        #receiver.transfer(price)\n",
    "        print(\"\\n與file_root不一致(贖回成功)\")\n",
    "        #phase = stage.created\n",
    "    else:\n",
    "        print(\"\\n與file_root一致(贖回失敗)\")"
   ]
  },
  {
   "cell_type": "code",
   "execution_count": 3,
   "id": "d6e0020d-4aa1-4565-bf5c-26e2e03cf4c1",
   "metadata": {},
   "outputs": [],
   "source": [
    "def crypt_small(index, ciphertext):\n",
    "    print(\"index:\", index, \"\\nciphertext:\", ciphertext)\n",
    "    \n",
    "    # Using encodePacked equivalent in Python\n",
    "    packed_data = bytes(str(index) + str(key), 'utf-8')\n",
    "    hash_result = sha256(packed_data).digest()\n",
    "    \n",
    "    # XOR operation\n",
    "    result = bytes([a ^ b for a, b in zip(hash_result, ciphertext)])\n",
    "    \n",
    "    print()\n",
    "    print(\"packed_data:\", packed_data)\n",
    "    print(\"hash_result:\",hash_result)\n",
    "    \n",
    "    print(\"\\nresult\", result)\n",
    "    return result"
   ]
  },
  {
   "cell_type": "code",
   "execution_count": 4,
   "id": "c7876d1d-01e6-44c7-b923-9477153680b5",
   "metadata": {},
   "outputs": [],
   "source": [
    "# 32 bytes key (256 bits)\n",
    "with open(\"encodingZ.txt\", \"rb\") as f:\n",
    "    encodingZ = f.read()\n"
   ]
  },
  {
   "cell_type": "code",
   "execution_count": 5,
   "id": "ad27fd8b-23fd-4415-991f-15112115f822",
   "metadata": {},
   "outputs": [],
   "source": [
    "#print(encodingZ)"
   ]
  },
  {
   "cell_type": "code",
   "execution_count": 6,
   "id": "756f78b9-7fa8-4e68-ac34-ac21769e39fd",
   "metadata": {},
   "outputs": [
    {
     "name": "stdout",
     "output_type": "stream",
     "text": [
      "proofs:\n",
      " ['9db5d220104995c3b30c4ec8472a8dd292f3e5ca759a919ce5428e3e9f3ba486', 'a31e3b6e94fc21a1c189603c61021c440284b3ee85c893ec0e39f435c32bfb16', '869bc7e5fd3d6c71c1aa9b2d55eccb3dc40f96777381650e821a2845ab18b188', '5adcb5971681274f04187f2ebb0d69e09df67c8fc23ea13ee7b09c3d59ff5582', '0a04cf7757e61eefc49a8c3429d41433ad106ef01ab2ec9f86225d81c2b2ddb0', 'b99e2f9c1400666f5aa3d6a87672c54f071a5d09682d19a87335eba73d4d796f', 'c86bd9e1044d76ac5ec4030874884897b8eb6f55488cf3ce6a026045868169c7', 'fa8134a4ea40c716e79fb26a28a4e4eee9c39aff58c2eedd195f1a5ee121aebd', '1c66993dc068ea95bbb53acd4969a2d006164d4ed212746e5b3b799610f91c3c', 'f3375c49d83efa20220cf71ca4267eb4c33a3eadde9522a6d3d1dc8338f56705', 'b539b06f2a656e9876306eeeda122dd1ee10099ef0b6b34f7e0219561f5d960c', 'eecb30946117c6b56c6d42721e6944dfd1ed8356b8d9658acfd5d3d427d31012', '30f48dbcdfa3d32b12f2797155803019d3698c0e60a7a6bfebce9171a6833f64', 'b1398884d8693b8e09e2ca126e721b7855ae650c457c6e46e01308d78ca5a2ff', 'f1f7c03014c6024b39b84330996c22b48a8cc16c1f8bf3e52d956996c3ed8f29']\n",
      "\n",
      "zm_hexstr: 9db5d220104995c3b30c4ec8472a8dd292f3e5ca759a919ce5428e3e9f3ba486\n"
     ]
    }
   ],
   "source": [
    "proofs=[]\n",
    "with open('proofs.txt', 'r') as f:\n",
    "    for i in f.readlines():\n",
    "        proofs.append(i.strip()) #去掉每行头尾空白  \n",
    "        \n",
    "zm_hexstr = proofs[0]\n",
    "\n",
    "print(\"proofs:\\n\", proofs)\n",
    "print(\"\\nzm_hexstr:\", zm_hexstr)"
   ]
  },
  {
   "cell_type": "code",
   "execution_count": 7,
   "id": "4d08b5ff-5594-4e52-ae2a-8557aa492a09",
   "metadata": {},
   "outputs": [
    {
     "name": "stdout",
     "output_type": "stream",
     "text": [
      "index: 14 \n",
      "ciphertext: b'\\x9d\\xb5\\xd2 \\x10I\\x95\\xc3\\xb3\\x0cN\\xc8G*\\x8d\\xd2\\x92\\xf3\\xe5\\xcau\\x9a\\x91\\x9c\\xe5B\\x8e>\\x9f;\\xa4\\x86'\n",
      "\n",
      "packed_data: b'14b\"\\\\xefVNf7\\\\xa2\\\\x1a2\\\\n\\\\xbe\\\\x17k\\\\x9c=\\\\x0c|\\\\x07\\\\x10\\\\xfb\\\\xa7\\\\xa3\\'\\\\xbe\\\\xd8\\\\xe8\\\\x8a`\\\\x86\\\\x0c\\\\xb4\\\\xc8\\\\xc5\"'\n",
      "hash_result: b'\\xa6\\x97>\\xbav\\x06\\xb7\\xe0P\\xda\\xd8\\xa7\\xe5\\xc4\\xaf\\xdaY\\x8a\\x11\\xb7U\\xaa\\x92\\x11\\xda\\xc4S\\xd7\\xc8\\xb5\\x13n'\n",
      "\n",
      "result b';\"\\xec\\x9afO\"#\\xe3\\xd6\\x96o\\xa2\\xee\"\\x08\\xcby\\xf4} 0\\x03\\x8d?\\x86\\xdd\\xe9W\\x8e\\xb7\\xe8'\n",
      "\n",
      "與file_root不一致(贖回成功)\n"
     ]
    }
   ],
   "source": [
    "# 測試 complain_about_root\n",
    "\n",
    "# 轉bytes\n",
    "Zm = bytes.fromhex(zm_hexstr)\n",
    "#Zm = bytes(b's\\xe8\\xfb3\\xedso\\xfb\\xc2K\\xdd3\\x19o\\xc92\\x12\\x07z\\x89i\\x9ddDf\\x94\\xe4\\xc6\\x83\\xb6I\\xe9')\n",
    "proofZm = [bytes.fromhex(proof) for proof in proofs]\n",
    "\n",
    "complain_about_root(Zm, proofZm)"
   ]
  },
  {
   "cell_type": "code",
   "execution_count": 9,
   "id": "082b813a-15e3-416e-9c78-625fee7c7690",
   "metadata": {},
   "outputs": [
    {
     "name": "stdout",
     "output_type": "stream",
     "text": [
      "b'\\x9d\\xb5\\xd2 \\x10I\\x95\\xc3\\xb3\\x0cN\\xc8G*\\x8d\\xd2\\x92\\xf3\\xe5\\xcau\\x9a\\x91\\x9c\\xe5B\\x8e>\\x9f;\\xa4\\x86'\n",
      "[b'\\x9d\\xb5\\xd2 \\x10I\\x95\\xc3\\xb3\\x0cN\\xc8G*\\x8d\\xd2\\x92\\xf3\\xe5\\xcau\\x9a\\x91\\x9c\\xe5B\\x8e>\\x9f;\\xa4\\x86', b'\\xa3\\x1e;n\\x94\\xfc!\\xa1\\xc1\\x89`<a\\x02\\x1cD\\x02\\x84\\xb3\\xee\\x85\\xc8\\x93\\xec\\x0e9\\xf45\\xc3+\\xfb\\x16', b'\\x86\\x9b\\xc7\\xe5\\xfd=lq\\xc1\\xaa\\x9b-U\\xec\\xcb=\\xc4\\x0f\\x96ws\\x81e\\x0e\\x82\\x1a(E\\xab\\x18\\xb1\\x88', b\"Z\\xdc\\xb5\\x97\\x16\\x81'O\\x04\\x18\\x7f.\\xbb\\ri\\xe0\\x9d\\xf6|\\x8f\\xc2>\\xa1>\\xe7\\xb0\\x9c=Y\\xffU\\x82\", b'\\n\\x04\\xcfwW\\xe6\\x1e\\xef\\xc4\\x9a\\x8c4)\\xd4\\x143\\xad\\x10n\\xf0\\x1a\\xb2\\xec\\x9f\\x86\"]\\x81\\xc2\\xb2\\xdd\\xb0', b'\\xb9\\x9e/\\x9c\\x14\\x00foZ\\xa3\\xd6\\xa8vr\\xc5O\\x07\\x1a]\\th-\\x19\\xa8s5\\xeb\\xa7=Myo', b'\\xc8k\\xd9\\xe1\\x04Mv\\xac^\\xc4\\x03\\x08t\\x88H\\x97\\xb8\\xeboUH\\x8c\\xf3\\xcej\\x02`E\\x86\\x81i\\xc7', b'\\xfa\\x814\\xa4\\xea@\\xc7\\x16\\xe7\\x9f\\xb2j(\\xa4\\xe4\\xee\\xe9\\xc3\\x9a\\xffX\\xc2\\xee\\xdd\\x19_\\x1a^\\xe1!\\xae\\xbd', b'\\x1cf\\x99=\\xc0h\\xea\\x95\\xbb\\xb5:\\xcdIi\\xa2\\xd0\\x06\\x16MN\\xd2\\x12tn[;y\\x96\\x10\\xf9\\x1c<', b'\\xf37\\\\I\\xd8>\\xfa \"\\x0c\\xf7\\x1c\\xa4&~\\xb4\\xc3:>\\xad\\xde\\x95\"\\xa6\\xd3\\xd1\\xdc\\x838\\xf5g\\x05', b'\\xb59\\xb0o*en\\x98v0n\\xee\\xda\\x12-\\xd1\\xee\\x10\\t\\x9e\\xf0\\xb6\\xb3O~\\x02\\x19V\\x1f]\\x96\\x0c', b\"\\xee\\xcb0\\x94a\\x17\\xc6\\xb5lmBr\\x1eiD\\xdf\\xd1\\xed\\x83V\\xb8\\xd9e\\x8a\\xcf\\xd5\\xd3\\xd4'\\xd3\\x10\\x12\", b'0\\xf4\\x8d\\xbc\\xdf\\xa3\\xd3+\\x12\\xf2yqU\\x800\\x19\\xd3i\\x8c\\x0e`\\xa7\\xa6\\xbf\\xeb\\xce\\x91q\\xa6\\x83?d', b'\\xb19\\x88\\x84\\xd8i;\\x8e\\t\\xe2\\xca\\x12nr\\x1bxU\\xaee\\x0cE|nF\\xe0\\x13\\x08\\xd7\\x8c\\xa5\\xa2\\xff', b'\\xf1\\xf7\\xc00\\x14\\xc6\\x02K9\\xb8C0\\x99l\"\\xb4\\x8a\\x8c\\xc1l\\x1f\\x8b\\xf3\\xe5-\\x95i\\x96\\xc3\\xed\\x8f)']\n"
     ]
    }
   ],
   "source": [
    "print(Zm)\n",
    "print(proofZm)"
   ]
  },
  {
   "cell_type": "code",
   "execution_count": 10,
   "id": "01273a73-beb8-4180-ad3d-ba877ef454ca",
   "metadata": {},
   "outputs": [
    {
     "name": "stdout",
     "output_type": "stream",
     "text": [
      "b'\\xa6\\x97>\\xbav\\x06\\xb7\\xe0P\\xda\\xd8\\xa7\\xe5\\xc4\\xaf\\xdaY\\x8a\\x11\\xb7U\\xaa\\x92\\x11\\xda\\xc4S\\xd7\\xc8\\xb5\\x13n'\n",
      "b';\"\\xec\\x9afO\"#\\xe3\\xd6\\x96o\\xa2\\xee\"\\x08\\xcby\\xf4} 0\\x03\\x8d?\\x86\\xdd\\xe9W\\x8e\\xb7\\xe8'\n",
      "\n",
      "b'\\xa1\\x10\\xdc\\xdc!L\\x89\\xd6\\x84\\xa8\\xcf\\xc3\\x01\\x19\\x08\\xf7\\x88R\\xe8\\xf0=\\xe9\\xc6\\x178\\x8b\\xd3\\xc2d\\xb4\\xfc\\x19'\n"
     ]
    }
   ],
   "source": [
    "# 生成 file root\n",
    "h = sha256(bytes(str(14) + str(key), 'utf-8')).digest()\n",
    "tfile_root = bytes([a ^ b for a, b in zip(h, Zm)])\n",
    "\n",
    "print(h)  \n",
    "print(tfile_root)\n",
    "\n",
    "print()    \n",
    "print(file_root)"
   ]
  },
  {
   "cell_type": "code",
   "execution_count": 11,
   "id": "bf15ab9a-ad17-481c-906f-eadef751fdb7",
   "metadata": {},
   "outputs": [],
   "source": [
    "def complain_about_leaf(index_out, index_in, Z_out, Z_in1, Z_in2, proof_Z_out, proof_Z_in):\n",
    "\n",
    "    # Step 1: Verify the output hash and its Merkle tree path\n",
    "    #assert vrfy(index_out, Z_out, proof_Z_out), \"Invalid output proof\"\n",
    "\n",
    "    # Step 2: Calculate the intermediate result Xout\n",
    "    Xout = crypt_small(index_out, Z_out)\n",
    "\n",
    "    # Step 3: Verify the first input hash and its Merkle tree path\n",
    "    #assert vrfy(index_in, sha256(b\"\".join(Z_in1)).digest(), proof_Z_in), \"Invalid input proof\"\n",
    "\n",
    "    # Step 4: Verify the second input hash and its Merkle tree path\n",
    "    #assert proof_Z_in[0] == sha256(b\"\".join(Z_in2)).digest(), \"Invalid input proof\"\n",
    "\n",
    "    # Step 5: Compare the computed hashes\n",
    "    #computed_hashes = sha256(b\"\".join([crypt_large(index_in, Z_in1), crypt_large(index_in + 1, Z_in2)])).digest()\n",
    "    a=bytes([crypt_large(index_in, Z_in1), crypt_large(index_in + 1, Z_in2)], 'utf-8')\n",
    "    computed_hashes = sha256(a).digest()\n",
    "    #assert Xout != computed_hashes, \"Hashes do not match\"\n",
    "\n",
    "    # If all conditions are satisfied, transfer funds to the receiver\n",
    "    # receiver.call.value(price)\n",
    "    print(f\"Funds transferred to {receiver}\")\n",
    "    # Set phase to created\n",
    "    #global phase\n",
    "    #phase = stage['created']\n",
    "    #print(\"Phase set to created\")"
   ]
  },
  {
   "cell_type": "code",
   "execution_count": 30,
   "id": "75d35810-83cd-4136-8a9b-50976cb79738",
   "metadata": {},
   "outputs": [],
   "source": [
    "def crypt_large(index, ciphertext):\n",
    "    print(\"\\ncrypt_large\")\n",
    "    length = len(ciphertext)\n",
    "    index *= length\n",
    "    for i in range(length):\n",
    "        print(ciphertext[i])\n",
    "        #ciphertext[i] = sha256(b\"\".join([index.to_bytes(32, 'big'), key, ciphertext[i]])).digest()\n",
    "        \n",
    "        a=bytes(str(index) + str(key) + str(ciphertext[i]), 'utf-8')\n",
    "        ciphertext[i] = sha256(a).digest()\n",
    "        \n",
    "\n",
    "\n",
    "        #ciphertext[i] = sha256(index.to_bytes(32, 'big') + key + ciphertext[i]).digest()\n",
    "        \n",
    "        index += 1\n",
    "    return ciphertext"
   ]
  },
  {
   "cell_type": "code",
   "execution_count": 13,
   "id": "56a80527-b34e-43ae-b3a1-a8a5b8952a98",
   "metadata": {},
   "outputs": [
    {
     "name": "stdout",
     "output_type": "stream",
     "text": [
      "9db5d220104995c3b30c4ec8472a8dd292f3e5ca759a919ce5428e3e9f3ba486\n",
      "a31e3b6e94fc21a1c189603c61021c440284b3ee85c893ec0e39f435c32bfb16\n",
      "869bc7e5fd3d6c71c1aa9b2d55eccb3dc40f96777381650e821a2845ab18b188\n",
      "5adcb5971681274f04187f2ebb0d69e09df67c8fc23ea13ee7b09c3d59ff5582\n",
      "0a04cf7757e61eefc49a8c3429d41433ad106ef01ab2ec9f86225d81c2b2ddb0\n",
      "b99e2f9c1400666f5aa3d6a87672c54f071a5d09682d19a87335eba73d4d796f\n",
      "c86bd9e1044d76ac5ec4030874884897b8eb6f55488cf3ce6a026045868169c7\n",
      "fa8134a4ea40c716e79fb26a28a4e4eee9c39aff58c2eedd195f1a5ee121aebd\n",
      "1c66993dc068ea95bbb53acd4969a2d006164d4ed212746e5b3b799610f91c3c\n",
      "f3375c49d83efa20220cf71ca4267eb4c33a3eadde9522a6d3d1dc8338f56705\n",
      "b539b06f2a656e9876306eeeda122dd1ee10099ef0b6b34f7e0219561f5d960c\n",
      "eecb30946117c6b56c6d42721e6944dfd1ed8356b8d9658acfd5d3d427d31012\n",
      "30f48dbcdfa3d32b12f2797155803019d3698c0e60a7a6bfebce9171a6833f64\n",
      "b1398884d8693b8e09e2ca126e721b7855ae650c457c6e46e01308d78ca5a2ff\n",
      "f1f7c03014c6024b39b84330996c22b48a8cc16c1f8bf3e52d956996c3ed8f29\n",
      "[b'p\\xb3\\xbc\\xf9\\x1e\\xbe\\xfd\\x0e\\x12x\\x1c\\x9a:!\\xe4ket\\xacy\\xe4a\\xd8\\xacLK\\x10^\\x00AM\\n', b'\\x13\\xfe\\x07\\x82:\\xdd\\xce\\xff\\x9a\\xf2\\x93\\xfb\\x06T\\xb1Dd\\xfe\\xf5=\\xa9\\x12\\xf2\\x1dQ\\x18\\xfa^\\xbb\\xb8BH', b\"\\xd6\\xf4\\xb8D'7\\xbe\\x1bW\\xb2\\xc6b\\xff\\xac\\xe0P_x>\\x94\\xc3C\\x01\\xba\\x1cD\\x8bp\\x84\\x06\\xd1\\x1a\", b'\\x16\\xd9?\\xc2Nyc\\xa5\\x99\\xab\\xe7w\\xa1\\xb1\\xb4\\xb3\\x1dLRxQ-\\x13\\xb0\\xc5\\x1c\\x9d\\x97\\xb7\\x1c\\xaa\\xbc', b'F\\xf7\\xd3mNg\\xbe@(:\\x8cw\\xdc\\xfc\\xfem? \\x94\\xc03b\\x86\\xe5\\x97\\xb4ST\\xa0\\x80\\x19\\xd7', b\"\\x8c\\x9e\\xed\\xb2\\x902\\\\\\xf7c#\\x995\\xfe\\n\\xb0CB\\xa7\\xa5\\x94\\xa9l'\\xdf\\xb0\\x15j\\x05\\xbbL\\xe9\\xd6\", b'f\\xa4\\xb2\"P\\xde\\x1c\\xd1\\xc4U\\xe53OY\\xd4\\xb8`\\xe2\\xb0\\xdc\\x93\\x9c\\xcb\\x94\\xc1p-iG\\x18\\xd3\\xb3', b'\\n\\x04\\xae\\x1b\\x82e\\xbb\\xa0|>\\xde\\x1c\\x0c\\x1c\\xe5\\xee\\x11\\xf33\\xbd8\\xee\\x86\\x93\\xedL\\xac\\xfa{\\xbc\\x80R', b'\\x15\\xea5;r\\xb3\\xf1\\x1b\\x1df\\xa8\\xce\\xfdms\"\\x10\\xd9P\\x08\\x19\\x1ba\\x06\\x8b\\x18)\\xab7\\xe9\\xe2\\xa4', b'\\xfc\\xe8\\x9c\\x99\\xee\\xb4*um\\x9dIF$\\x92\\x92\\xc9\\x15\\xa6\\xd8\\xd4\\x0f\\xd5\\xd3\\x17l\\\\\\x8f\\xf2^H\\xe8\\xda', b'(\\xcc# >Z\\xb2\\x0b\\x02\\x1e>+S\\xdd\\xd9\\x07\\x9c\\xa1\\x81\\x80y\\xd6\\xb2\\x0f6\\x82\\x9dj>9\\x8b\\x01', b'\\xb5\\x156Q\\xcf\\x91\\x17\\xa3f\\xaf/,\\xe8\\xc3\\xc6P\\x9d3\\xccq\\x11\\x92\\x91q88\\t\\x02yrPo', b'\\x9c\\x05\\x1f^}W$\\xd6\\x93g\\xa4\\xb0\\xfd2\\x06\\x9do*\\xc8\\xe0\\xdb!k\\xaf\\xd8\\xb1\\xd8#\\x90\\x9b\\x05\\xd6', b'\\xe6\\xf3e\\xec\\xd5\\xa3H\\xad\\xd50\\xcc\\x9e\\x98A\\x06W\\xd5\\xb6\\xd7\\xce8{\\x15\\xa8sa\\xcdW^\\xeb\\xd8\\xa1', b'\\xd8\\x83(\\x98<=\\x10\\x88e\\xd0\\x84n\\xd6CY\\x9ac\\xaf\\xa7\\x19 @\\x06\\x11\\xf4\\x88\\xf2\\xa3/\\xc0\\xf5\\x18']\n"
     ]
    }
   ],
   "source": [
    "# 測試 crypt_large，proofs會被覆蓋\n",
    "#print(\"proofs:\\n\", proofs)\n",
    "#print()\n",
    "ciphertext = crypt_large(5, proofs)\n",
    "print(ciphertext)"
   ]
  },
  {
   "cell_type": "code",
   "execution_count": 14,
   "id": "b61abe20-a36c-4f4b-93cb-20a3d8ceb9b8",
   "metadata": {},
   "outputs": [],
   "source": [
    "def vrfy(index, value, proof):\n",
    "    for i in range(3):\n",
    "        if (index & 1 << i) >> i == 1:\n",
    "            value = sha256(b\"\".join([proof[3 - i], value])).digest()\n",
    "        else:\n",
    "            value = sha256(b\"\".join([value, proof[3 - i]])).digest()\n",
    "    return value == ciphertext_root"
   ]
  },
  {
   "cell_type": "code",
   "execution_count": 25,
   "id": "08108590-8949-491f-b5b6-c7d7435a4fc8",
   "metadata": {},
   "outputs": [],
   "source": [
    "def complain_about_leaf1(index_out, index_in1, index_in2, Z_out, Z_in1, Z_in2, proof_Z_out, proof_Z_in):\n",
    "\n",
    "    Xout = crypt_small(index_out, Z_out)\n",
    "\n",
    "    #computed_hashes = sha256(b\"\".join([crypt_large(index_in, Z_in1), crypt_large(index_in + 1, Z_in2)])).digest()\n",
    "    #a=bytes([crypt_large(index_in, Z_in1), crypt_large(index_in + 1, Z_in2)], 'utf-8')\n",
    "    a=bytes([crypt_large(index_in1, Z_in1), crypt_large(index_in2, Z_in2)], 'utf-8')\n",
    "    computed_hashes = sha256(a).digest()\n",
    "    \n",
    "    print(f\"Funds transferred to receiver\")\n",
    "    "
   ]
  },
  {
   "cell_type": "code",
   "execution_count": 16,
   "id": "c0a7d869-56cc-4bb4-8ac4-9dcf9c18c29c",
   "metadata": {},
   "outputs": [
    {
     "ename": "IndentationError",
     "evalue": "expected an indented block (281141705.py, line 12)",
     "output_type": "error",
     "traceback": [
      "\u001b[1;36m  File \u001b[1;32m\"C:\\Users\\islab\\AppData\\Local\\Temp\\ipykernel_2220\\281141705.py\"\u001b[1;36m, line \u001b[1;32m12\u001b[0m\n\u001b[1;33m    print(f\"Funds transferred to receiver\")\u001b[0m\n\u001b[1;37m    ^\u001b[0m\n\u001b[1;31mIndentationError\u001b[0m\u001b[1;31m:\u001b[0m expected an indented block\n"
     ]
    }
   ],
   "source": [
    "def complainAboutNode(index_out, index_in1, index_in2, Z_out, Z_in1, Z_in2, proof_Z_out, proof_Z_in):\n",
    "\n",
    "    Xout = crypt_small(index_out, Z_out)\n",
    "\n",
    "    a=bytes(str(crypt_small(index_in1, Z_in1)) + str(crypt_small(index_in2, Z_in2)), 'utf-8')\n",
    "    computed_hashes = sha256(a).digest()\n",
    "    \n",
    "    if xout != keccak256(crypt_small(index_in, z_in_1) + crypt_small(index_in + 1, z_in_2)):\n",
    "        \n",
    "\n",
    "    \n",
    "    print(f\"Funds transferred to receiver\")"
   ]
  },
  {
   "cell_type": "code",
   "execution_count": 32,
   "id": "29033e15-c21f-4943-ad0d-d4e724e76578",
   "metadata": {},
   "outputs": [
    {
     "name": "stdout",
     "output_type": "stream",
     "text": [
      "index: 0 \n",
      "ciphertext: b'\\x02\\x11\\xaa\\x13\\x96b\\xc0\\xc4 \\xc6$\\x0fJ\\xfcx8\\xf8D\\xee\\th!\\xf0\\xff8\\xe2\\xcc\\x81\\xcf_`\\xff'\n",
      "\n",
      "packed_data: b'0b\"\\\\xefVNf7\\\\xa2\\\\x1a2\\\\n\\\\xbe\\\\x17k\\\\x9c=\\\\x0c|\\\\x07\\\\x10\\\\xfb\\\\xa7\\\\xa3\\'\\\\xbe\\\\xd8\\\\xe8\\\\x8a`\\\\x86\\\\x0c\\\\xb4\\\\xc8\\\\xc5\"'\n",
      "hash_result: b'i8\\xcc\\x1e\\x02\\xa0}\\x84\\xefj\\xa9b\\xa1\\x1e_\\x0f\\x91\\xe5\\xd6\\xa2-\\xd6\\xf5\\x981b\\x93\\xee\\x1c\\xd0\\xfb8'\n",
      "\n",
      "result b\"k)f\\r\\x94\\xc2\\xbd@\\xcf\\xac\\x8dm\\xeb\\xe2'7i\\xa18\\xabE\\xf7\\x05g\\t\\x80_o\\xd3\\x8f\\x9b\\xc7\"\n",
      "\n",
      "crypt_large\n",
      "43\n"
     ]
    },
    {
     "ename": "TypeError",
     "evalue": "'bytes' object does not support item assignment",
     "output_type": "error",
     "traceback": [
      "\u001b[1;31m---------------------------------------------------------------------------\u001b[0m",
      "\u001b[1;31mTypeError\u001b[0m                                 Traceback (most recent call last)",
      "\u001b[1;32m~\\AppData\\Local\\Temp\\ipykernel_2220\\1334730110.py\u001b[0m in \u001b[0;36m<module>\u001b[1;34m\u001b[0m\n\u001b[0;32m      9\u001b[0m \u001b[0mproof_Z_in\u001b[0m \u001b[1;33m=\u001b[0m \u001b[1;36m2\u001b[0m\u001b[1;33m\u001b[0m\u001b[1;33m\u001b[0m\u001b[0m\n\u001b[0;32m     10\u001b[0m \u001b[1;33m\u001b[0m\u001b[0m\n\u001b[1;32m---> 11\u001b[1;33m \u001b[0mcomplain_about_leaf1\u001b[0m\u001b[1;33m(\u001b[0m\u001b[0mindex_out\u001b[0m\u001b[1;33m,\u001b[0m \u001b[0mindex_in1\u001b[0m\u001b[1;33m,\u001b[0m \u001b[0mindex_in2\u001b[0m\u001b[1;33m,\u001b[0m \u001b[0mZ_out\u001b[0m\u001b[1;33m,\u001b[0m \u001b[0mZ_in1\u001b[0m\u001b[1;33m,\u001b[0m \u001b[0mZ_in2\u001b[0m\u001b[1;33m,\u001b[0m \u001b[0mproof_Z_out\u001b[0m\u001b[1;33m,\u001b[0m \u001b[0mproof_Z_in\u001b[0m\u001b[1;33m)\u001b[0m\u001b[1;33m\u001b[0m\u001b[1;33m\u001b[0m\u001b[0m\n\u001b[0m",
      "\u001b[1;32m~\\AppData\\Local\\Temp\\ipykernel_2220\\3839666313.py\u001b[0m in \u001b[0;36mcomplain_about_leaf1\u001b[1;34m(index_out, index_in1, index_in2, Z_out, Z_in1, Z_in2, proof_Z_out, proof_Z_in)\u001b[0m\n\u001b[0;32m      5\u001b[0m     \u001b[1;31m#computed_hashes = sha256(b\"\".join([crypt_large(index_in, Z_in1), crypt_large(index_in + 1, Z_in2)])).digest()\u001b[0m\u001b[1;33m\u001b[0m\u001b[1;33m\u001b[0m\u001b[0m\n\u001b[0;32m      6\u001b[0m     \u001b[1;31m#a=bytes([crypt_large(index_in, Z_in1), crypt_large(index_in + 1, Z_in2)], 'utf-8')\u001b[0m\u001b[1;33m\u001b[0m\u001b[1;33m\u001b[0m\u001b[0m\n\u001b[1;32m----> 7\u001b[1;33m     \u001b[0ma\u001b[0m\u001b[1;33m=\u001b[0m\u001b[0mbytes\u001b[0m\u001b[1;33m(\u001b[0m\u001b[1;33m[\u001b[0m\u001b[0mcrypt_large\u001b[0m\u001b[1;33m(\u001b[0m\u001b[0mindex_in1\u001b[0m\u001b[1;33m,\u001b[0m \u001b[0mZ_in1\u001b[0m\u001b[1;33m)\u001b[0m\u001b[1;33m,\u001b[0m \u001b[0mcrypt_large\u001b[0m\u001b[1;33m(\u001b[0m\u001b[0mindex_in2\u001b[0m\u001b[1;33m,\u001b[0m \u001b[0mZ_in2\u001b[0m\u001b[1;33m)\u001b[0m\u001b[1;33m]\u001b[0m\u001b[1;33m,\u001b[0m \u001b[1;34m'utf-8'\u001b[0m\u001b[1;33m)\u001b[0m\u001b[1;33m\u001b[0m\u001b[1;33m\u001b[0m\u001b[0m\n\u001b[0m\u001b[0;32m      8\u001b[0m     \u001b[0mcomputed_hashes\u001b[0m \u001b[1;33m=\u001b[0m \u001b[0msha256\u001b[0m\u001b[1;33m(\u001b[0m\u001b[0ma\u001b[0m\u001b[1;33m)\u001b[0m\u001b[1;33m.\u001b[0m\u001b[0mdigest\u001b[0m\u001b[1;33m(\u001b[0m\u001b[1;33m)\u001b[0m\u001b[1;33m\u001b[0m\u001b[1;33m\u001b[0m\u001b[0m\n\u001b[0;32m      9\u001b[0m \u001b[1;33m\u001b[0m\u001b[0m\n",
      "\u001b[1;32m~\\AppData\\Local\\Temp\\ipykernel_2220\\1817186098.py\u001b[0m in \u001b[0;36mcrypt_large\u001b[1;34m(index, ciphertext)\u001b[0m\n\u001b[0;32m      8\u001b[0m \u001b[1;33m\u001b[0m\u001b[0m\n\u001b[0;32m      9\u001b[0m         \u001b[0ma\u001b[0m\u001b[1;33m=\u001b[0m\u001b[0mbytes\u001b[0m\u001b[1;33m(\u001b[0m\u001b[0mstr\u001b[0m\u001b[1;33m(\u001b[0m\u001b[0mindex\u001b[0m\u001b[1;33m)\u001b[0m \u001b[1;33m+\u001b[0m \u001b[0mstr\u001b[0m\u001b[1;33m(\u001b[0m\u001b[0mkey\u001b[0m\u001b[1;33m)\u001b[0m \u001b[1;33m+\u001b[0m \u001b[0mstr\u001b[0m\u001b[1;33m(\u001b[0m\u001b[0mciphertext\u001b[0m\u001b[1;33m[\u001b[0m\u001b[0mi\u001b[0m\u001b[1;33m]\u001b[0m\u001b[1;33m)\u001b[0m\u001b[1;33m,\u001b[0m \u001b[1;34m'utf-8'\u001b[0m\u001b[1;33m)\u001b[0m\u001b[1;33m\u001b[0m\u001b[1;33m\u001b[0m\u001b[0m\n\u001b[1;32m---> 10\u001b[1;33m         \u001b[0mciphertext\u001b[0m\u001b[1;33m[\u001b[0m\u001b[0mi\u001b[0m\u001b[1;33m]\u001b[0m \u001b[1;33m=\u001b[0m \u001b[0msha256\u001b[0m\u001b[1;33m(\u001b[0m\u001b[0ma\u001b[0m\u001b[1;33m)\u001b[0m\u001b[1;33m.\u001b[0m\u001b[0mdigest\u001b[0m\u001b[1;33m(\u001b[0m\u001b[1;33m)\u001b[0m\u001b[1;33m\u001b[0m\u001b[1;33m\u001b[0m\u001b[0m\n\u001b[0m\u001b[0;32m     11\u001b[0m \u001b[1;33m\u001b[0m\u001b[0m\n\u001b[0;32m     12\u001b[0m \u001b[1;33m\u001b[0m\u001b[0m\n",
      "\u001b[1;31mTypeError\u001b[0m: 'bytes' object does not support item assignment"
     ]
    }
   ],
   "source": [
    "# 測試 complain_about_leaf\n",
    "index_out = 0\n",
    "index_in1 = 1\n",
    "index_in2 = 8\n",
    "Z_out = b'\\x02\\x11\\xaa\\x13\\x96b\\xc0\\xc4 \\xc6$\\x0fJ\\xfcx8\\xf8D\\xee\\th!\\xf0\\xff8\\xe2\\xcc\\x81\\xcf_`\\xff'\n",
    "Z_in1 = b'+jq\\x08mqO\\xc3K\\xa1\\xba\\x1f\\x8b\\xed]y-\\xe6\\x12NK}*\\x07\\x07\\xf0\\x1f\\xe3\\xc8\\xb4\\xac\\xed'\n",
    "Z_in2 = b'\\x15\\xea5;r\\xb3\\xf1\\x1b\\x1df\\xa8\\xce\\xfdms\"\\x10\\xd9P\\x08\\x19\\x1ba\\x06\\x8b\\x18)\\xab7\\xe9\\xe2\\xa4'\n",
    "proof_Z_out = 1\n",
    "proof_Z_in = 2\n",
    "\n",
    "complain_about_leaf1(index_out, index_in1, index_in2, Z_out, Z_in1, Z_in2, proof_Z_out, proof_Z_in)\n"
   ]
  },
  {
   "cell_type": "code",
   "execution_count": 18,
   "id": "f2793645-4487-4cc9-a870-1ada42a332f7",
   "metadata": {},
   "outputs": [
    {
     "ename": "NameError",
     "evalue": "name 'complainAboutNode' is not defined",
     "output_type": "error",
     "traceback": [
      "\u001b[1;31m---------------------------------------------------------------------------\u001b[0m",
      "\u001b[1;31mNameError\u001b[0m                                 Traceback (most recent call last)",
      "\u001b[1;32m~\\AppData\\Local\\Temp\\ipykernel_2220\\727704416.py\u001b[0m in \u001b[0;36m<module>\u001b[1;34m\u001b[0m\n\u001b[0;32m      9\u001b[0m \u001b[0mproof_Z_in\u001b[0m \u001b[1;33m=\u001b[0m \u001b[1;36m2\u001b[0m\u001b[1;33m\u001b[0m\u001b[1;33m\u001b[0m\u001b[0m\n\u001b[0;32m     10\u001b[0m \u001b[1;33m\u001b[0m\u001b[0m\n\u001b[1;32m---> 11\u001b[1;33m \u001b[0mcomplainAboutNode\u001b[0m\u001b[1;33m(\u001b[0m\u001b[0mindex_out\u001b[0m\u001b[1;33m,\u001b[0m \u001b[0mindex_in1\u001b[0m\u001b[1;33m,\u001b[0m \u001b[0mindex_in2\u001b[0m\u001b[1;33m,\u001b[0m \u001b[0mZ_out\u001b[0m\u001b[1;33m,\u001b[0m \u001b[0mZ_in1\u001b[0m\u001b[1;33m,\u001b[0m \u001b[0mZ_in2\u001b[0m\u001b[1;33m,\u001b[0m \u001b[0mproof_Z_out\u001b[0m\u001b[1;33m,\u001b[0m \u001b[0mproof_Z_in\u001b[0m\u001b[1;33m)\u001b[0m\u001b[1;33m\u001b[0m\u001b[1;33m\u001b[0m\u001b[0m\n\u001b[0m",
      "\u001b[1;31mNameError\u001b[0m: name 'complainAboutNode' is not defined"
     ]
    }
   ],
   "source": [
    "# 測試 complainAboutNode\n",
    "index_out = 0\n",
    "index_in1 = 1\n",
    "index_in2 = 8\n",
    "Z_out = b'\\x02\\x11\\xaa\\x13\\x96b\\xc0\\xc4 \\xc6$\\x0fJ\\xfcx8\\xf8D\\xee\\th!\\xf0\\xff8\\xe2\\xcc\\x81\\xcf_`\\xff'\n",
    "Z_in1 = b'+jq\\x08mqO\\xc3K\\xa1\\xba\\x1f\\x8b\\xed]y-\\xe6\\x12NK}*\\x07\\x07\\xf0\\x1f\\xe3\\xc8\\xb4\\xac\\xed'\n",
    "Z_in2 = b'\\x15\\xea5;r\\xb3\\xf1\\x1b\\x1df\\xa8\\xce\\xfdms\"\\x10\\xd9P\\x08\\x19\\x1ba\\x06\\x8b\\x18)\\xab7\\xe9\\xe2\\xa4'\n",
    "proof_Z_out = 1\n",
    "proof_Z_in = 2\n",
    "\n",
    "complainAboutNode(index_out, index_in1, index_in2, Z_out, Z_in1, Z_in2, proof_Z_out, proof_Z_in)"
   ]
  },
  {
   "cell_type": "code",
   "execution_count": 1,
   "id": "b3772f94-40de-499b-9231-a932828a7c8e",
   "metadata": {},
   "outputs": [
    {
     "ename": "FileNotFoundError",
     "evalue": "[Errno 2] No such file or directory: 'proofs.txt'",
     "output_type": "error",
     "traceback": [
      "\u001b[1;31m---------------------------------------------------------------------------\u001b[0m",
      "\u001b[1;31mFileNotFoundError\u001b[0m                         Traceback (most recent call last)",
      "\u001b[1;32m~\\AppData\\Local\\Temp\\ipykernel_3268\\1214625934.py\u001b[0m in \u001b[0;36m<module>\u001b[1;34m\u001b[0m\n\u001b[0;32m      1\u001b[0m \u001b[0mproofs\u001b[0m\u001b[1;33m=\u001b[0m\u001b[1;33m[\u001b[0m\u001b[1;33m]\u001b[0m\u001b[1;33m\u001b[0m\u001b[1;33m\u001b[0m\u001b[0m\n\u001b[1;32m----> 2\u001b[1;33m \u001b[1;32mwith\u001b[0m \u001b[0mopen\u001b[0m\u001b[1;33m(\u001b[0m\u001b[1;34m'proofs.txt'\u001b[0m\u001b[1;33m,\u001b[0m \u001b[1;34m'r'\u001b[0m\u001b[1;33m)\u001b[0m \u001b[1;32mas\u001b[0m \u001b[0mf\u001b[0m\u001b[1;33m:\u001b[0m\u001b[1;33m\u001b[0m\u001b[1;33m\u001b[0m\u001b[0m\n\u001b[0m\u001b[0;32m      3\u001b[0m     \u001b[1;32mfor\u001b[0m \u001b[0mi\u001b[0m \u001b[1;32min\u001b[0m \u001b[0mf\u001b[0m\u001b[1;33m.\u001b[0m\u001b[0mreadlines\u001b[0m\u001b[1;33m(\u001b[0m\u001b[1;33m)\u001b[0m\u001b[1;33m:\u001b[0m\u001b[1;33m\u001b[0m\u001b[1;33m\u001b[0m\u001b[0m\n\u001b[0;32m      4\u001b[0m         \u001b[0mproofs\u001b[0m\u001b[1;33m.\u001b[0m\u001b[0mappend\u001b[0m\u001b[1;33m(\u001b[0m\u001b[0mi\u001b[0m\u001b[1;33m.\u001b[0m\u001b[0mstrip\u001b[0m\u001b[1;33m(\u001b[0m\u001b[1;33m)\u001b[0m\u001b[1;33m)\u001b[0m \u001b[1;31m#去掉每行头尾空白\u001b[0m\u001b[1;33m\u001b[0m\u001b[1;33m\u001b[0m\u001b[0m\n\u001b[0;32m      5\u001b[0m \u001b[0mzm_hexstr\u001b[0m \u001b[1;33m=\u001b[0m \u001b[0mproofs\u001b[0m\u001b[1;33m[\u001b[0m\u001b[1;36m0\u001b[0m\u001b[1;33m]\u001b[0m\u001b[1;33m\u001b[0m\u001b[1;33m\u001b[0m\u001b[0m\n",
      "\u001b[1;31mFileNotFoundError\u001b[0m: [Errno 2] No such file or directory: 'proofs.txt'"
     ]
    }
   ],
   "source": [
    "proofs=[]\n",
    "with open('proofs.txt', 'r') as f:\n",
    "    for i in f.readlines():\n",
    "        proofs.append(i.strip()) #去掉每行头尾空白  \n",
    "zm_hexstr = proofs[0]\n",
    "\n",
    "print(\"OK\")\n",
    "#print(\"proofs:\\n\", proofs, \"\\n\")\n",
    "#print(\"zm_hexstr:\\n\", zm_hexstr)"
   ]
  },
  {
   "cell_type": "code",
   "execution_count": null,
   "id": "fe0023d3-5875-41f3-8a08-896c99be56a9",
   "metadata": {},
   "outputs": [],
   "source": []
  },
  {
   "cell_type": "code",
   "execution_count": null,
   "id": "e61b15f0-2016-4cb5-85a2-18e5d7ef1b09",
   "metadata": {},
   "outputs": [],
   "source": []
  },
  {
   "cell_type": "code",
   "execution_count": null,
   "id": "0c9f4637-c4b1-452e-a33b-5e973a24ebeb",
   "metadata": {},
   "outputs": [],
   "source": []
  },
  {
   "cell_type": "code",
   "execution_count": 5,
   "id": "bb5abe61-16d8-4358-935c-e3034f5aaca1",
   "metadata": {},
   "outputs": [],
   "source": [
    "from typing import List\n",
    "import typing\n",
    "import hashlib\n",
    "from web3 import Web3\n",
    "from typing import List, Optional, Tuple\n",
    "\n",
    "# 創建一個 Web3 實例\n",
    "w3 = Web3()\n",
    "\n",
    "# Merkle tree\n",
    "class Node:\n",
    "    def __init__(self, left, right, value: bytes,content)-> None:\n",
    "        self.left: Node = left\n",
    "        self.right: Node = right\n",
    "        self.value = value\n",
    "        self.content = content\n",
    "\n",
    "    @staticmethod\n",
    "    #def hash(val: str) -> bytes:\n",
    "    #    return hashlib.sha256(val.encode('utf-8')).hexdigest()\n",
    "    \n",
    "    def keccak(val: str) -> bytes:\n",
    "        return w3.solidity_keccak(['string'], [val]).hex()\n",
    "\n",
    "    def __str__(self):\n",
    "        return(str(self.value))\n",
    "    \n",
    "class MerkleTree:\n",
    "    def __init__(self, values: List[str])-> None:\n",
    "        self.__buildTree(values)\n",
    "        self.tree_array = self.__toArray(self.root)\n",
    "\n",
    "    def __buildTree(self, values: List[str])-> None:\n",
    "        \n",
    "        leaves: List[Node] = [Node(None, None, Node.keccak(e), e) for e in values] \n",
    "        if len(leaves) % 2 == 1:\n",
    "            leaves.append(leaves[-1:][0])  # duplicate last elem if odd number of elements\n",
    "        self.root = self.__buildTreeRec(leaves)\n",
    "\n",
    "    def __buildTreeRec(self, nodes: List[Node])-> Node:\n",
    "        half: int = len(nodes) // 2\n",
    "\n",
    "        if len(nodes) == 2:\n",
    "             return Node(nodes[0], nodes[1], w3.solidity_keccak(['bytes32', 'bytes32'], [nodes[0].value, nodes[1].value]).hex(), nodes[0].content+\"+\"+nodes[1].content)\n",
    "        \n",
    "        left: Node = self.__buildTreeRec(nodes[:half])\n",
    "        right: Node = self.__buildTreeRec(nodes[half:])\n",
    "        value: bytes = w3.solidity_keccak(['bytes32', 'bytes32'], [left.value, right.value]).hex()\n",
    "        #value: str = Node.hash(left.value + right.value)\n",
    "        content: str = self.__buildTreeRec(nodes[:half]).content+\"+\"+self.__buildTreeRec(nodes[half:]).content\n",
    "        return Node(left, right, value,content)\n",
    "    \n",
    "    \n",
    "    #---------------------------------------------------------\n",
    "    def printTree(self)-> None:\n",
    "        self.__printTreeRec(self.root)\n",
    "    def __printTreeRec(self, node)-> None:\n",
    "        if node != None:\n",
    "            if node.left != None:\n",
    "                print(\"Left: \"+str(node.left))\n",
    "                print(\"Right: \"+str(node.right))\n",
    "                #else:\n",
    "                #  print(\"Input\")\n",
    "\n",
    "                print(\"Value: \"+str(node.value))\n",
    "                print(\"Content: \"+str(node.content))\n",
    "                print(\"\")\n",
    "                self.__printTreeRec(node.left)\n",
    "                self.__printTreeRec(node.right)\n",
    "                \n",
    "    def getElem(self)-> None:\n",
    "        self._getElem(self.root)\n",
    "    def _getElem(self, node)-> None:\n",
    "        if node != None:\n",
    "            result.append(node.value)\n",
    "            self._getElem(node.left)\n",
    "            self._getElem(node.right)\n",
    "            \n",
    "    def getElemWithoutLeaf(self) -> None:\n",
    "        self._getElemWithoutLeaf(self.root)\n",
    "\n",
    "    def _getElemWithoutLeaf(self, node) -> None:\n",
    "        if node != None:\n",
    "            if node.left is None and node.right is None:\n",
    "                # 当前节点是叶子节点，不执行 append 操作\n",
    "                pass\n",
    "            else:\n",
    "                result1.append(node.value)\n",
    "                self._getElemWithoutLeaf(node.left)\n",
    "                self._getElemWithoutLeaf(node.right)\n",
    "\n",
    "    def getRootHash(self)-> str:\n",
    "         return self.root.value\n",
    "    \n",
    "    def findChild(self) -> Optional[List[str]]:\n",
    "        return self._findChild(self.root)\n",
    "    \n",
    "    def _findChild(self, node) -> Optional[List[str]]:\n",
    "        if node is not None:\n",
    "            if node.value == wrong_output:\n",
    "                print(\"Left: \" + str(node.left))\n",
    "                print(\"Right: \" + str(node.right))\n",
    "                print(\"Value: \" + str(node.value))\n",
    "                print(type(node.value))\n",
    "                print()\n",
    "                return [str(node.left), str(node.right)]\n",
    "            left_result = self._findChild(node.left)\n",
    "            if left_result is not None:\n",
    "                return left_result\n",
    "            right_result = self._findChild(node.right)\n",
    "            if right_result is not None:\n",
    "                return right_result\n",
    "        return None\n",
    "    \n",
    "    def __toArray(self, node: Node) -> List[str]:\n",
    "        if node is None:\n",
    "            return []\n",
    "\n",
    "        left_array = self.__toArray(node.left)\n",
    "        right_array = self.__toArray(node.right)\n",
    "\n",
    "        return left_array + right_array + [node]\n"
   ]
  },
  {
   "cell_type": "code",
   "execution_count": 6,
   "id": "d2ef6401-41e3-4a81-9900-a9fa2c95a272",
   "metadata": {},
   "outputs": [
    {
     "name": "stdout",
     "output_type": "stream",
     "text": [
      "['H1', 'H2', 'H1+H2', 'H3', 'H4', 'H3+H4', 'H1+H2+H3+H4']\n"
     ]
    }
   ],
   "source": [
    "\n",
    "# 创建 Merkle 树\n",
    "values = [\"H1\", \"H2\", \"H3\", \"H4\"]\n",
    "merkle_tree = MerkleTree(values)\n",
    "\n",
    "# 输出 Merkle 树的数组表示\n",
    "tree_array = merkle_tree.tree_array\n",
    "output = [node.content if isinstance(node, Node) else node for node in tree_array]\n",
    "print(output)\n",
    "    \n"
   ]
  },
  {
   "cell_type": "code",
   "execution_count": 5,
   "id": "4cfd9347-30bf-4e02-87e4-139d4989f5e4",
   "metadata": {},
   "outputs": [],
   "source": [
    "def print_merkle_tree_bottom_to_top(root: Node, depth: int = 0):\n",
    "        if root is None:\n",
    "            return\n",
    "\n",
    "        # Traverse to the bottom of the tree\n",
    "        if root.left is not None:\n",
    "            print_merkle_tree_bottom_to_top(root.left, depth + 1)\n",
    "        if root.right is not None:\n",
    "            print_merkle_tree_bottom_to_top(root.right, depth + 1)\n",
    "\n",
    "        # Print current node\n",
    "        print(\"  \" * depth + str(root.value) + \" - \" + root.content)"
   ]
  },
  {
   "cell_type": "code",
   "execution_count": null,
   "id": "1acc871b-1aa6-41c5-bbc1-a852827f7b60",
   "metadata": {},
   "outputs": [],
   "source": [
    "def collect_merkle_tree_by_level(root: Node) -> List[List[Tuple[str, str]]]:\n",
    "    if root is None:\n",
    "        return []\n",
    "\n",
    "    result = []\n",
    "    queue = [(root, 0)]\n",
    "\n",
    "    while queue:\n",
    "        node, level = queue.pop(0)\n",
    "        \n",
    "        if level == len(result):\n",
    "            result.append([])\n",
    "\n",
    "        result[level].append((node.value, node.content))\n",
    "\n",
    "        if node.left:\n",
    "            queue.append((node.left, level + 1))\n",
    "        if node.right:\n",
    "            queue.append((node.right, level + 1))\n",
    "\n",
    "    return result\n",
    "\n",
    "# Example usage\n",
    "values = [\"value1\", \"value2\", \"value3\", \"value4\", \"value5\"]\n",
    "merkle_tree = MerkleTree(values)\n",
    "\n",
    "# Collect the Merkle tree nodes by level from bottom to top\n",
    "result_by_level = collect_merkle_tree_by_level(merkle_tree.root)\n",
    "\n",
    "# Flatten the result list and reverse to get from bottom to top\n",
    "flattened_result = [item for sublist in result_by_level[::-1] for item in sublist]\n",
    "\n",
    "# Print the result list\n",
    "for value, content in flattened_result:\n",
    "    print(f\"{value} - {content}\")"
   ]
  },
  {
   "cell_type": "code",
   "execution_count": null,
   "id": "625d1bf7-34ca-4dfa-b901-b8f0f7d30580",
   "metadata": {},
   "outputs": [],
   "source": []
  },
  {
   "cell_type": "code",
   "execution_count": 7,
   "id": "38ad89d8-2607-4295-9b30-9482188fa810",
   "metadata": {},
   "outputs": [
    {
     "name": "stdout",
     "output_type": "stream",
     "text": [
      "['H1+H2+H3+H4', 'H1+H2', 'H3+H4', 'H1', 'H2', 'H3', 'H4']\n"
     ]
    }
   ],
   "source": [
    "from typing import List\n",
    "import hashlib\n",
    "from web3 import Web3\n",
    "\n",
    "w3 = Web3()\n",
    "\n",
    "class Node:\n",
    "    def __init__(self, left, right, value: bytes, content) -> None:\n",
    "        self.left: Node = left\n",
    "        self.right: Node = right\n",
    "        self.value = value\n",
    "        self.content = content\n",
    "\n",
    "    @staticmethod\n",
    "    def keccak(val: str) -> bytes:\n",
    "        return w3.solidity_keccak(['string'], [val]).hex()\n",
    "\n",
    "    def __str__(self):\n",
    "        return str(self.value)\n",
    "\n",
    "class MerkleTree:\n",
    "    def __init__(self, values: List[str]) -> None:\n",
    "        self.__buildTree(values)\n",
    "\n",
    "    def __buildTree(self, values: List[str]) -> None:\n",
    "        leaves: List[Node] = [Node(None, None, Node.keccak(e), e) for e in values]\n",
    "        if len(leaves) % 2 == 1:\n",
    "            leaves.append(leaves[-1:][0])  # duplicate last elem if odd number of elements\n",
    "        self.root = self.__buildTreeRec(leaves)\n",
    "\n",
    "    def __buildTreeRec(self, nodes: List[Node]) -> Node:\n",
    "        half: int = len(nodes) // 2\n",
    "\n",
    "        if len(nodes) == 2:\n",
    "            return Node(nodes[0], nodes[1], w3.solidity_keccak(['bytes32', 'bytes32'], [nodes[0].value, nodes[1].value]).hex(), nodes[0].content + \"+\" + nodes[1].content)\n",
    "        \n",
    "        left: Node = self.__buildTreeRec(nodes[:half])\n",
    "        right: Node = self.__buildTreeRec(nodes[half:])\n",
    "        value: bytes = w3.solidity_keccak(['bytes32', 'bytes32'], [left.value, right.value]).hex()\n",
    "        content: str = left.content + \"+\" + right.content\n",
    "        return Node(left, right, value, content)\n",
    "\n",
    "    def get_tree_array(self) -> List[str]:\n",
    "        if not self.root:\n",
    "            return []\n",
    "\n",
    "        queue = [self.root]\n",
    "        result = []\n",
    "\n",
    "        while queue:\n",
    "            node = queue.pop(0)\n",
    "            result.append(node.content)\n",
    "\n",
    "            if node.left:\n",
    "                queue.append(node.left)\n",
    "            if node.right:\n",
    "                queue.append(node.right)\n",
    "\n",
    "        return result\n",
    "\n",
    "# Example usage\n",
    "values = ['H1', 'H2', 'H3', 'H4']\n",
    "merkle_tree = MerkleTree(values)\n",
    "tree_array = merkle_tree.get_tree_array()\n",
    "print(tree_array)\n"
   ]
  },
  {
   "cell_type": "code",
   "execution_count": null,
   "id": "38d4779b-dbdb-4013-9f35-84b8a0c48e26",
   "metadata": {},
   "outputs": [],
   "source": [
    "from web3 import Web3\n",
    "w3 = Web3()\n",
    "\n",
    "root = '0xbc22fa032178a72a1d2eb3f9dad057b12d97bd190ddd629de3b6a7131dd1324f'\n",
    "y0_correct = '0xc651b5dc27c4e06dd2fad78e3eb25eade3aff9266bc7f6db00e23c47a6cc367f'\n",
    "y0 = '0xdf7e22f6561d3f254def309e633c6de1b632137555abf6cb7008776e7b4e74a1'\n",
    "y1 = '0x01c83cf1199463a2eeca2adfdc91dd6840687a0c268f132ab2d4f8829a4aeeb8'\n",
    "a = w3.solidity_keccak(['bytes32', 'bytes32'], [y0_correct, y1]).hex()\n",
    "print(a)\n",
    "\n",
    "y5 = '0xbb154142ff7d4a48ad5ee698b9f698a5d3167163c1a789552bf558c98b6d1db1'\n",
    "b = w3.solidity_keccak(['bytes32', 'bytes32'], [a, y5]).hex()\n",
    "print(b)\n",
    "print(root)"
   ]
  }
 ],
 "metadata": {
  "kernelspec": {
   "display_name": "Python 3 (ipykernel)",
   "language": "python",
   "name": "python3"
  },
  "language_info": {
   "codemirror_mode": {
    "name": "ipython",
    "version": 3
   },
   "file_extension": ".py",
   "mimetype": "text/x-python",
   "name": "python",
   "nbconvert_exporter": "python",
   "pygments_lexer": "ipython3",
   "version": "3.9.13"
  }
 },
 "nbformat": 4,
 "nbformat_minor": 5
}
