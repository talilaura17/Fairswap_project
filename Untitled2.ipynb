{
 "cells": [
  {
   "cell_type": "code",
   "execution_count": 1,
   "id": "74be4130-5d0c-4fe1-b308-96740a67e10c",
   "metadata": {},
   "outputs": [],
   "source": [
    "from web3 import Web3\n",
    "\n",
    "# 創建一個 Web3 實例\n",
    "w3 = Web3()\n",
    "\n",
    "# w3.solidity_keccak(['string'], ['a']).hex()"
   ]
  },
  {
   "cell_type": "code",
   "execution_count": 56,
   "id": "e22f9335-4d90-43bb-952e-b5c87d2f6196",
   "metadata": {},
   "outputs": [
    {
     "name": "stdout",
     "output_type": "stream",
     "text": [
      "n\n",
      "n\n",
      "n\n",
      "n\n",
      "n\n",
      "n\n",
      "n\n"
     ]
    }
   ],
   "source": [
    "#!/usr/bin/python3\n",
    "import hashlib,sys\n",
    "    \n",
    "class MerkleTreeNode:\n",
    "    def __init__(self,value):\n",
    "        self.left = None\n",
    "        self.right = None\n",
    "        self.value = value\n",
    "        if isinstance(value, bytes):\n",
    "            print(\"y\")\n",
    "            self.hashValue = w3.solidity_keccak(['bytes32'], [value]).hex()\n",
    "        else:\n",
    "            print(\"n\")\n",
    "            self.hashValue = w3.solidity_keccak(['string'], [value]).hex()\n",
    "    \n",
    "def buildTree(leaves,f):\n",
    "    nodes = []\n",
    "    for i in leaves:\n",
    "        nodes.append(MerkleTreeNode(i))\n",
    "\n",
    "    while len(nodes)!=1:\n",
    "        temp = []\n",
    "        for i in range(0,len(nodes),2):\n",
    "            node1 = nodes[i]\n",
    "            if i+1 < len(nodes):\n",
    "                node2 = nodes[i+1]\n",
    "            else:\n",
    "                temp.append(nodes[i])\n",
    "                break\n",
    "            f.write(\"Left child : \"+ node1.value + \" | Hash : \" + node1.hashValue +\" \\n\")\n",
    "            f.write(\"Right child : \"+ node2.value + \" | Hash : \" + node2.hashValue +\" \\n\")\n",
    "            concatenatedHash = node1.hashValue + node2.hashValue\n",
    "            parent = MerkleTreeNode(concatenatedHash)\n",
    "            parent.left = node1\n",
    "            parent.right = node2\n",
    "            f.write(\"Parent(concatenation of \"+ node1.value + \" and \" + node2.value + \") : \" +parent.value + \" | Hash : \" + parent.hashValue +\" \\n\")\n",
    "            temp.append(parent)\n",
    "        nodes = temp \n",
    "    return nodes[0]\n",
    "\n",
    "leaves = [\"a\", \"b\", \"c\", \"d\"]\n",
    "f = open(\"merkle.tree\", \"w\")\n",
    "root = buildTree(leaves,f)\n",
    "f.close()"
   ]
  },
  {
   "cell_type": "code",
   "execution_count": 53,
   "id": "d038efc9-80ef-4c3f-8436-36ec23beba98",
   "metadata": {},
   "outputs": [
    {
     "name": "stdout",
     "output_type": "stream",
     "text": [
      "b'Left child : a | Hash : 0x3ac225168df54212a25c1c01fd35bebfea408fdac2e31ddd6f80a4bbf9a5f1cb \\r\\n'\n",
      "\n",
      "b'Right child : b | Hash : 0xb5553de315e0edf504d9150af82dafa5c4667fa618ed0a6f19c69b41166c5510 \\r\\n'\n",
      "\n",
      "b'Parent(concatenation of a and b) : 0x3ac225168df54212a25c1c01fd35bebfea408fdac2e31ddd6f80a4bbf9a5f1cb0xb5553de315e0edf504d9150af82dafa5c4667fa618ed0a6f19c69b41166c5510 | Hash : 0x5f532725975999c811ae13be41fb93a2dc961d792aabec5b07b1d961cddfded2 \\r\\n'\n",
      "\n",
      "b'Left child : c | Hash : 0x0b42b6393c1f53060fe3ddbfcd7aadcca894465a5a438f69c87d790b2299b9b2 \\r\\n'\n",
      "\n",
      "b'Right child : d | Hash : 0xf1918e8562236eb17adc8502332f4c9c82bc14e19bfc0aa10ab674ff75b3d2f3 \\r\\n'\n",
      "\n",
      "b'Parent(concatenation of c and d) : 0x0b42b6393c1f53060fe3ddbfcd7aadcca894465a5a438f69c87d790b2299b9b20xf1918e8562236eb17adc8502332f4c9c82bc14e19bfc0aa10ab674ff75b3d2f3 | Hash : 0xf2812278c73bfe791ea412701acc1697b7b14d4b50fed8c1ba7aa600d781118a \\r\\n'\n",
      "\n",
      "b'Left child : 0x3ac225168df54212a25c1c01fd35bebfea408fdac2e31ddd6f80a4bbf9a5f1cb0xb5553de315e0edf504d9150af82dafa5c4667fa618ed0a6f19c69b41166c5510 | Hash : 0x5f532725975999c811ae13be41fb93a2dc961d792aabec5b07b1d961cddfded2 \\r\\n'\n",
      "\n",
      "b'Right child : 0x0b42b6393c1f53060fe3ddbfcd7aadcca894465a5a438f69c87d790b2299b9b20xf1918e8562236eb17adc8502332f4c9c82bc14e19bfc0aa10ab674ff75b3d2f3 | Hash : 0xf2812278c73bfe791ea412701acc1697b7b14d4b50fed8c1ba7aa600d781118a \\r\\n'\n",
      "\n",
      "b'Parent(concatenation of 0x3ac225168df54212a25c1c01fd35bebfea408fdac2e31ddd6f80a4bbf9a5f1cb0xb5553de315e0edf504d9150af82dafa5c4667fa618ed0a6f19c69b41166c5510 and 0x0b42b6393c1f53060fe3ddbfcd7aadcca894465a5a438f69c87d790b2299b9b20xf1918e8562236eb17adc8502332f4c9c82bc14e19bfc0aa10ab674ff75b3d2f3) : 0x5f532725975999c811ae13be41fb93a2dc961d792aabec5b07b1d961cddfded20xf2812278c73bfe791ea412701acc1697b7b14d4b50fed8c1ba7aa600d781118a | Hash : 0xec5859a8693913943977a3f54b3b4a8ff95f8a69e7f299642bb4340f20ef2245 \\r\\n'\n",
      "\n"
     ]
    }
   ],
   "source": [
    "with open(\"merkle.tree\", \"rb\") as f:\n",
    "    data = f.readlines()\n",
    "for i in data:\n",
    "    print(i)\n",
    "    print()"
   ]
  },
  {
   "cell_type": "code",
   "execution_count": null,
   "id": "002f8655-5bac-4519-8980-dbaf85564b93",
   "metadata": {},
   "outputs": [],
   "source": []
  },
  {
   "cell_type": "code",
   "execution_count": null,
   "id": "df5ba30b-6619-4c71-897d-f5889e661c37",
   "metadata": {},
   "outputs": [],
   "source": []
  },
  {
   "cell_type": "code",
   "execution_count": 25,
   "id": "43cc0d5d-3665-4591-a99c-f12e64a30e96",
   "metadata": {},
   "outputs": [
    {
     "name": "stdout",
     "output_type": "stream",
     "text": [
      "1 :  9722201502e620d70d78ee63045f3493812c206b988cbbe76c28918a7364fdbd\n",
      "1\n",
      "2 :  e99905ac9f9583a5737a07d20a7129343f486f5f549b42c05192046188ef5f66\n",
      "2\n",
      "3 :  4c89fefa814dbe46b640ca2ffb4682a1eaad32985c6604e98cc0a2fd76e49550\n",
      "3\n",
      "4 :  2ce80d2bc0bfe54c2499d066ac958c02304ce64ca318ae19a4636c32d583429c\n",
      "4\n"
     ]
    }
   ],
   "source": [
    "from pymerkle import InmemoryTree as MerkleTree\n",
    "\n",
    "tree = MerkleTree(algorithm='keccak_256')\n",
    "\n",
    "x = ['a', 'b', 'c', 'd']\n",
    "for i in x:\n",
    "    index = tree.append_entry(i.encode()) # leaf index\n",
    "    value = tree.get_leaf(index).hex()        # leaf hash\n",
    "    print(index,': ',value)\n",
    "    print(tree.get_size())"
   ]
  },
  {
   "cell_type": "code",
   "execution_count": null,
   "id": "5e67e687-7aad-4a39-b587-95324ac46a7e",
   "metadata": {},
   "outputs": [],
   "source": []
  },
  {
   "cell_type": "code",
   "execution_count": 23,
   "id": "735a373e-5479-4a7f-822c-96e5d8a9ccdb",
   "metadata": {},
   "outputs": [
    {
     "name": "stdout",
     "output_type": "stream",
     "text": [
      "\n",
      "\n",
      " └─d0c277df...\n",
      "    ├──00d25e3e...\n",
      "    │   ├──97222015...\n",
      "    │   └──e99905ac...\n",
      "    └──0e4c742c...\n",
      "        ├──4c89fefa...\n",
      "        └──2ce80d2b...\n",
      "\n",
      "\n",
      "4\n",
      "d0c277dfc49909fb27fb9a2fc5000f8c9a49dfb3a1e54a2cc3f1bebe11c2b18c\n"
     ]
    }
   ],
   "source": [
    "print(tree)\n",
    "size = tree.get_size()    # number of leaves\n",
    "print(size)\n",
    "state = tree.get_state()    # current root-hash\n",
    "print(state.hex())"
   ]
  },
  {
   "cell_type": "code",
   "execution_count": null,
   "id": "7a539785-d07d-4bf4-9428-8a510806bd72",
   "metadata": {},
   "outputs": [],
   "source": []
  },
  {
   "cell_type": "code",
   "execution_count": null,
   "id": "40007173-308a-449e-af2b-9a640b6853ac",
   "metadata": {},
   "outputs": [],
   "source": []
  },
  {
   "cell_type": "code",
   "execution_count": 101,
   "id": "e4057e2e-0940-49b1-adf8-2644d9445958",
   "metadata": {},
   "outputs": [],
   "source": [
    "from typing import List\n",
    "import typing\n",
    "import hashlib\n",
    "from web3 import Web3\n",
    "\n",
    "# 創建一個 Web3 實例\n",
    "w3 = Web3()"
   ]
  },
  {
   "cell_type": "code",
   "execution_count": 102,
   "id": "47b3596c-5c72-4c98-a81c-acb501431248",
   "metadata": {},
   "outputs": [],
   "source": [
    "class Node:\n",
    "    def __init__(self, left, right, value: str,content)-> None:\n",
    "        self.left: Node = left\n",
    "        self.right: Node = right\n",
    "        self.value = value\n",
    "        self.content = content\n",
    "\n",
    "    @staticmethod\n",
    "    #def hash(val: str) -> bytes:\n",
    "    #    return hashlib.sha256(val.encode('utf-8')).hexdigest()\n",
    "    \n",
    "    def keccak(val: str) -> bytes:\n",
    "        return w3.solidity_keccak(['string'], [val]).hex()\n",
    "\n",
    "    def __str__(self):\n",
    "        return(str(self.value))"
   ]
  },
  {
   "cell_type": "code",
   "execution_count": 103,
   "id": "bb5cf6b5-4cc5-485c-9dc1-b0787a310194",
   "metadata": {},
   "outputs": [],
   "source": [
    "class MerkleTree:\n",
    "    def __init__(self, values: List[str])-> None:\n",
    "        self.__buildTree(values)\n",
    "\n",
    "    def __buildTree(self, values: List[str])-> None:\n",
    "\n",
    "        #leaves: List[Node] = [Node(None, None, Node.hash(e),e) for e in values]\n",
    "        #if len(leaves) % 2 ==1:\n",
    "        #   leaves.append(leaves[-1:][0])# duplicate last elem if odd number of elements\n",
    "        #   self.root: Node = self.__buildTreeRec(leaves)\n",
    "        \n",
    "        leaves: List[Node] = [Node(None, None, Node.keccak(e), e) for e in values] \n",
    "        if len(leaves) % 2 == 1:\n",
    "            leaves.append(leaves[-1:][0])  # duplicate last elem if odd number of elements\n",
    "        self.root = self.__buildTreeRec(leaves)\n",
    "\n",
    "    def __buildTreeRec(self, nodes: List[Node])-> Node:\n",
    "        half: int = len(nodes) // 2\n",
    "\n",
    "        if len(nodes) == 2:\n",
    "             return Node(nodes[0], nodes[1], w3.solidity_keccak(['bytes32', 'bytes32'], [nodes[0].value, nodes[1].value]).hex(), nodes[0].content+\"+\"+nodes[1].content)\n",
    "        \n",
    "        left: Node = self.__buildTreeRec(nodes[:half])\n",
    "        right: Node = self.__buildTreeRec(nodes[half:])\n",
    "        value: bytes = w3.solidity_keccak(['bytes32', 'bytes32'], [left.value, right.value]).hex()\n",
    "        #value: str = Node.hash(left.value + right.value)\n",
    "        content: str = self.__buildTreeRec(nodes[:half]).content+\"+\"+self.__buildTreeRec(nodes[half:]).content\n",
    "        return Node(left, right, value,content)\n",
    "    \n",
    "    \n",
    "    #---------------------------------------------------------\n",
    "    def printTree(self)-> None:\n",
    "        self.__printTreeRec(self.root)\n",
    "    def __printTreeRec(self, node)-> None:\n",
    "        if node != None:\n",
    "            if node.left != None:\n",
    "                print(\"Left: \"+str(node.left))\n",
    "                print(\"Right: \"+str(node.right))\n",
    "                #else:\n",
    "                #  print(\"Input\")\n",
    "\n",
    "                print(\"Value: \"+str(node.value))\n",
    "                print(\"Content: \"+str(node.content))\n",
    "                print(\"\")\n",
    "                self.__printTreeRec(node.left)\n",
    "                self.__printTreeRec(node.right)\n",
    "                \n",
    "    def getElem(self)-> None:\n",
    "        self._getElem(self.root)\n",
    "    def _getElem(self, node)-> None:\n",
    "        if node != None:\n",
    "            result.append(node.value)\n",
    "            self._getElem(node.left)\n",
    "            self._getElem(node.right)\n",
    "    \n",
    "    def getElemWithoutLeaf(self) -> None:\n",
    "        self._getElemWithoutLeaf(self.root)\n",
    "\n",
    "    def _getElemWithoutLeaf(self, node) -> None:\n",
    "        if node != None:\n",
    "            if node.left is None and node.right is None:\n",
    "                # 当前节点是叶子节点，不执行 append 操作\n",
    "                pass\n",
    "            else:\n",
    "                result.append(node.value)\n",
    "                self._getElemWithoutLeaf(node.left)\n",
    "                self._getElemWithoutLeaf(node.right)\n",
    "\n",
    "    def getRootHash(self)-> str:\n",
    "         return self.root.value\n"
   ]
  },
  {
   "cell_type": "code",
   "execution_count": 104,
   "id": "d067ff6b-1bb7-48d9-a68b-8153f889a375",
   "metadata": {},
   "outputs": [
    {
     "name": "stdout",
     "output_type": "stream",
     "text": [
      "result個數:  15\n",
      "\n",
      "result=\n",
      "0xcd07272f4955ddcfdac38ff36dff9d3e4353498923679ab548ba87e34648e4a3\n",
      "0x68203f90e9d07dc5859259d7536e87a6ba9d345f2552b5b9de2999ddce9ce1bf\n",
      "0x805b21d846b189efaeb0377d6bb0d201b3872a363e607c25088f025b0c6ae1f8\n",
      "0x3ac225168df54212a25c1c01fd35bebfea408fdac2e31ddd6f80a4bbf9a5f1cb\n",
      "0xb5553de315e0edf504d9150af82dafa5c4667fa618ed0a6f19c69b41166c5510\n",
      "0xd253a52d4cb00de2895e85f2529e2976e6aaaa5c18106b68ab66813e14415669\n",
      "0x0b42b6393c1f53060fe3ddbfcd7aadcca894465a5a438f69c87d790b2299b9b2\n",
      "0xf1918e8562236eb17adc8502332f4c9c82bc14e19bfc0aa10ab674ff75b3d2f3\n",
      "0xf313fc9eb1c4864b1b8e78296656fb7831cc0ed46361bf3452db1c4cec430050\n",
      "0xf0b49bb4b0d9396e0315755ceafaa280707b32e75e6c9053f5cdf2679dcd5c6a\n",
      "0xa8982c89d80987fb9a510e25981ee9170206be21af3c8e0eb312ef1d3382e761\n",
      "0xd1e8aeb79500496ef3dc2e57ba746a8315d048b7a664a2bf948db4fa91960483\n",
      "0xe18a5c2ee5202ecdefed683f03145b1343304dbed01aecb94032b7f801844f0a\n",
      "0x14bcc435f49d130d189737f9762feb25c44ef5b886bef833e31a702af6be4748\n",
      "0xa766932420cc6e9072394bef2c036ad8972c44696fee29397bd5e2c06001f615\n",
      "\n",
      "root:  0xcd07272f4955ddcfdac38ff36dff9d3e4353498923679ab548ba87e34648e4a3\n"
     ]
    }
   ],
   "source": [
    "elems = ['a', 'b', 'c', 'd','e', 'f', 'g', 'h']\n",
    "# 建 merkle tree\n",
    "mtree = MerkleTree(elems)\n",
    "\n",
    "# 取出 merkle tree 的值\n",
    "result=[]\n",
    "mtree.getElem()\n",
    "print('result個數: ',len(result))\n",
    "\n",
    "print(\"\")\n",
    "print('result=')\n",
    "print(*result, sep = \"\\n\")\n",
    "\n",
    "print(\"\")\n",
    "print(\"root: \", mtree.getRootHash())"
   ]
  },
  {
   "cell_type": "code",
   "execution_count": 105,
   "id": "05b9e4b8-abb7-40be-8d5f-c990da548efa",
   "metadata": {},
   "outputs": [
    {
     "name": "stdout",
     "output_type": "stream",
     "text": [
      "Left: 0x68203f90e9d07dc5859259d7536e87a6ba9d345f2552b5b9de2999ddce9ce1bf\n",
      "Right: 0xf313fc9eb1c4864b1b8e78296656fb7831cc0ed46361bf3452db1c4cec430050\n",
      "Value: 0xcd07272f4955ddcfdac38ff36dff9d3e4353498923679ab548ba87e34648e4a3\n",
      "Content: a+b+c+d+e+f+g+h\n",
      "\n",
      "Left: 0x805b21d846b189efaeb0377d6bb0d201b3872a363e607c25088f025b0c6ae1f8\n",
      "Right: 0xd253a52d4cb00de2895e85f2529e2976e6aaaa5c18106b68ab66813e14415669\n",
      "Value: 0x68203f90e9d07dc5859259d7536e87a6ba9d345f2552b5b9de2999ddce9ce1bf\n",
      "Content: a+b+c+d\n",
      "\n",
      "Left: 0x3ac225168df54212a25c1c01fd35bebfea408fdac2e31ddd6f80a4bbf9a5f1cb\n",
      "Right: 0xb5553de315e0edf504d9150af82dafa5c4667fa618ed0a6f19c69b41166c5510\n",
      "Value: 0x805b21d846b189efaeb0377d6bb0d201b3872a363e607c25088f025b0c6ae1f8\n",
      "Content: a+b\n",
      "\n",
      "Left: 0x0b42b6393c1f53060fe3ddbfcd7aadcca894465a5a438f69c87d790b2299b9b2\n",
      "Right: 0xf1918e8562236eb17adc8502332f4c9c82bc14e19bfc0aa10ab674ff75b3d2f3\n",
      "Value: 0xd253a52d4cb00de2895e85f2529e2976e6aaaa5c18106b68ab66813e14415669\n",
      "Content: c+d\n",
      "\n",
      "Left: 0xf0b49bb4b0d9396e0315755ceafaa280707b32e75e6c9053f5cdf2679dcd5c6a\n",
      "Right: 0xe18a5c2ee5202ecdefed683f03145b1343304dbed01aecb94032b7f801844f0a\n",
      "Value: 0xf313fc9eb1c4864b1b8e78296656fb7831cc0ed46361bf3452db1c4cec430050\n",
      "Content: e+f+g+h\n",
      "\n",
      "Left: 0xa8982c89d80987fb9a510e25981ee9170206be21af3c8e0eb312ef1d3382e761\n",
      "Right: 0xd1e8aeb79500496ef3dc2e57ba746a8315d048b7a664a2bf948db4fa91960483\n",
      "Value: 0xf0b49bb4b0d9396e0315755ceafaa280707b32e75e6c9053f5cdf2679dcd5c6a\n",
      "Content: e+f\n",
      "\n",
      "Left: 0x14bcc435f49d130d189737f9762feb25c44ef5b886bef833e31a702af6be4748\n",
      "Right: 0xa766932420cc6e9072394bef2c036ad8972c44696fee29397bd5e2c06001f615\n",
      "Value: 0xe18a5c2ee5202ecdefed683f03145b1343304dbed01aecb94032b7f801844f0a\n",
      "Content: g+h\n",
      "\n"
     ]
    }
   ],
   "source": [
    "mtree.printTree()"
   ]
  },
  {
   "cell_type": "code",
   "execution_count": 107,
   "id": "96d571f0-629c-4191-8e15-121e85683e76",
   "metadata": {},
   "outputs": [
    {
     "ename": "TypeError",
     "evalue": "getElemWithoutLeaf() takes 1 positional argument but 2 were given",
     "output_type": "error",
     "traceback": [
      "\u001b[1;31m---------------------------------------------------------------------------\u001b[0m",
      "\u001b[1;31mTypeError\u001b[0m                                 Traceback (most recent call last)",
      "\u001b[1;32m~\\AppData\\Local\\Temp\\ipykernel_6784\\2884492504.py\u001b[0m in \u001b[0;36m<module>\u001b[1;34m\u001b[0m\n\u001b[1;32m----> 1\u001b[1;33m \u001b[0mmtree\u001b[0m\u001b[1;33m.\u001b[0m\u001b[0mgetElemWithoutLeaf\u001b[0m\u001b[1;33m(\u001b[0m\u001b[1;34m'a'\u001b[0m\u001b[1;33m)\u001b[0m\u001b[1;33m\u001b[0m\u001b[1;33m\u001b[0m\u001b[0m\n\u001b[0m",
      "\u001b[1;31mTypeError\u001b[0m: getElemWithoutLeaf() takes 1 positional argument but 2 were given"
     ]
    }
   ],
   "source": [
    "mtree.getElemWithoutLeaf('a')"
   ]
  },
  {
   "cell_type": "code",
   "execution_count": 13,
   "id": "d9955921-f080-4346-82d4-05d874c3f80a",
   "metadata": {},
   "outputs": [
    {
     "ename": "ValueError",
     "evalue": "{'message': 'VM Exception while processing transaction: invalid opcode', 'stack': 'RuntimeError: VM Exception while processing transaction: invalid opcode\\n    at LegacyTransaction.fillFromResult (C:\\\\Program Files\\\\WindowsApps\\\\GanacheUI_2.7.1.0_x64__rb4352f0jd4m2\\\\app\\\\resources\\\\static\\\\node\\\\node_modules\\\\ganache\\\\dist\\\\node\\\\1.js:2:12745)\\n    at Miner.<anonymous> (C:\\\\Program Files\\\\WindowsApps\\\\GanacheUI_2.7.1.0_x64__rb4352f0jd4m2\\\\app\\\\resources\\\\static\\\\node\\\\node_modules\\\\ganache\\\\dist\\\\node\\\\1.js:2:36703)\\n    at async Miner.<anonymous> (C:\\\\Program Files\\\\WindowsApps\\\\GanacheUI_2.7.1.0_x64__rb4352f0jd4m2\\\\app\\\\resources\\\\static\\\\node\\\\node_modules\\\\ganache\\\\dist\\\\node\\\\1.js:2:35116)\\n    at async Miner.mine (C:\\\\Program Files\\\\WindowsApps\\\\GanacheUI_2.7.1.0_x64__rb4352f0jd4m2\\\\app\\\\resources\\\\static\\\\node\\\\node_modules\\\\ganache\\\\dist\\\\node\\\\1.js:2:39680)\\n    at async Blockchain.mine (C:\\\\Program Files\\\\WindowsApps\\\\GanacheUI_2.7.1.0_x64__rb4352f0jd4m2\\\\app\\\\resources\\\\static\\\\node\\\\node_modules\\\\ganache\\\\dist\\\\node\\\\1.js:2:60063)\\n    at async Promise.all (index 0)\\n    at async TransactionPool.emit (C:\\\\Program Files\\\\WindowsApps\\\\GanacheUI_2.7.1.0_x64__rb4352f0jd4m2\\\\app\\\\resources\\\\static\\\\node\\\\node_modules\\\\ganache\\\\node_modules\\\\emittery\\\\index.js:303:3)', 'code': -32000, 'name': 'RuntimeError', 'data': {'hash': '0x189e7bd7ca1b0d9000174d607922d59f63dd12a535931feb8c10fe80647cbdf1', 'programCounter': 9, 'result': '0x189e7bd7ca1b0d9000174d607922d59f63dd12a535931feb8c10fe80647cbdf1', 'reason': None, 'message': 'invalid opcode'}}",
     "output_type": "error",
     "traceback": [
      "\u001b[1;31m---------------------------------------------------------------------------\u001b[0m",
      "\u001b[1;31mValueError\u001b[0m                                Traceback (most recent call last)",
      "Cell \u001b[1;32mIn[13], line 34\u001b[0m\n\u001b[0;32m     31\u001b[0m signed_transaction \u001b[38;5;241m=\u001b[39m w3\u001b[38;5;241m.\u001b[39meth\u001b[38;5;241m.\u001b[39maccount\u001b[38;5;241m.\u001b[39msign_transaction(transaction, private_key)\n\u001b[0;32m     33\u001b[0m \u001b[38;5;66;03m# 發送交易並等待確認\u001b[39;00m\n\u001b[1;32m---> 34\u001b[0m tx_hash \u001b[38;5;241m=\u001b[39m w3\u001b[38;5;241m.\u001b[39meth\u001b[38;5;241m.\u001b[39msend_raw_transaction(signed_transaction\u001b[38;5;241m.\u001b[39mrawTransaction)\n\u001b[0;32m     35\u001b[0m tx_receipt \u001b[38;5;241m=\u001b[39m w3\u001b[38;5;241m.\u001b[39meth\u001b[38;5;241m.\u001b[39mwait_for_transaction_receipt(tx_hash)\n\u001b[0;32m     37\u001b[0m \u001b[38;5;66;03m# 獲取已部署合約的地址\u001b[39;00m\n",
      "File \u001b[1;32m~\\anaconda3\\Lib\\site-packages\\web3\\eth\\eth.py:396\u001b[0m, in \u001b[0;36mEth.send_raw_transaction\u001b[1;34m(self, transaction)\u001b[0m\n\u001b[0;32m    395\u001b[0m \u001b[38;5;28;01mdef\u001b[39;00m \u001b[38;5;21msend_raw_transaction\u001b[39m(\u001b[38;5;28mself\u001b[39m, transaction: Union[HexStr, \u001b[38;5;28mbytes\u001b[39m]) \u001b[38;5;241m-\u001b[39m\u001b[38;5;241m>\u001b[39m HexBytes:\n\u001b[1;32m--> 396\u001b[0m     \u001b[38;5;28;01mreturn\u001b[39;00m \u001b[38;5;28mself\u001b[39m\u001b[38;5;241m.\u001b[39m_send_raw_transaction(transaction)\n",
      "File \u001b[1;32m~\\anaconda3\\Lib\\site-packages\\web3\\module.py:75\u001b[0m, in \u001b[0;36mretrieve_blocking_method_call_fn.<locals>.caller\u001b[1;34m(*args, **kwargs)\u001b[0m\n\u001b[0;32m     68\u001b[0m     \u001b[38;5;28;01mreturn\u001b[39;00m LogFilter(eth_module\u001b[38;5;241m=\u001b[39mmodule, filter_id\u001b[38;5;241m=\u001b[39merr\u001b[38;5;241m.\u001b[39mfilter_id)\n\u001b[0;32m     70\u001b[0m (\n\u001b[0;32m     71\u001b[0m     result_formatters,\n\u001b[0;32m     72\u001b[0m     error_formatters,\n\u001b[0;32m     73\u001b[0m     null_result_formatters,\n\u001b[0;32m     74\u001b[0m ) \u001b[38;5;241m=\u001b[39m response_formatters\n\u001b[1;32m---> 75\u001b[0m result \u001b[38;5;241m=\u001b[39m w3\u001b[38;5;241m.\u001b[39mmanager\u001b[38;5;241m.\u001b[39mrequest_blocking(\n\u001b[0;32m     76\u001b[0m     method_str, params, error_formatters, null_result_formatters\n\u001b[0;32m     77\u001b[0m )\n\u001b[0;32m     78\u001b[0m \u001b[38;5;28;01mreturn\u001b[39;00m apply_result_formatters(result_formatters, result)\n",
      "File \u001b[1;32m~\\anaconda3\\Lib\\site-packages\\web3\\manager.py:330\u001b[0m, in \u001b[0;36mRequestManager.request_blocking\u001b[1;34m(self, method, params, error_formatters, null_result_formatters)\u001b[0m\n\u001b[0;32m    326\u001b[0m \u001b[38;5;250m\u001b[39m\u001b[38;5;124;03m\"\"\"\u001b[39;00m\n\u001b[0;32m    327\u001b[0m \u001b[38;5;124;03mMake a synchronous request using the provider\u001b[39;00m\n\u001b[0;32m    328\u001b[0m \u001b[38;5;124;03m\"\"\"\u001b[39;00m\n\u001b[0;32m    329\u001b[0m response \u001b[38;5;241m=\u001b[39m \u001b[38;5;28mself\u001b[39m\u001b[38;5;241m.\u001b[39m_make_request(method, params)\n\u001b[1;32m--> 330\u001b[0m \u001b[38;5;28;01mreturn\u001b[39;00m \u001b[38;5;28mself\u001b[39m\u001b[38;5;241m.\u001b[39mformatted_response(\n\u001b[0;32m    331\u001b[0m     response, params, error_formatters, null_result_formatters\n\u001b[0;32m    332\u001b[0m )\n",
      "File \u001b[1;32m~\\anaconda3\\Lib\\site-packages\\web3\\manager.py:293\u001b[0m, in \u001b[0;36mRequestManager.formatted_response\u001b[1;34m(response, params, error_formatters, null_result_formatters)\u001b[0m\n\u001b[0;32m    287\u001b[0m         _raise_bad_response_format(\n\u001b[0;32m    288\u001b[0m             response, \u001b[38;5;124m\"\u001b[39m\u001b[38;5;124merror[\u001b[39m\u001b[38;5;124m'\u001b[39m\u001b[38;5;124mmessage\u001b[39m\u001b[38;5;124m'\u001b[39m\u001b[38;5;124m] must be a string\u001b[39m\u001b[38;5;124m\"\u001b[39m\n\u001b[0;32m    289\u001b[0m         )\n\u001b[0;32m    291\u001b[0m     apply_error_formatters(error_formatters, response)\n\u001b[1;32m--> 293\u001b[0m     \u001b[38;5;28;01mraise\u001b[39;00m \u001b[38;5;167;01mValueError\u001b[39;00m(error)\n\u001b[0;32m    295\u001b[0m \u001b[38;5;66;03m# Format and validate results\u001b[39;00m\n\u001b[0;32m    296\u001b[0m \u001b[38;5;28;01melif\u001b[39;00m \u001b[38;5;124m\"\u001b[39m\u001b[38;5;124mresult\u001b[39m\u001b[38;5;124m\"\u001b[39m \u001b[38;5;129;01min\u001b[39;00m response:\n\u001b[0;32m    297\u001b[0m     \u001b[38;5;66;03m# Null values for result should apply null_result_formatters\u001b[39;00m\n\u001b[0;32m    298\u001b[0m     \u001b[38;5;66;03m# Skip when result not present in the response (fallback to False)\u001b[39;00m\n",
      "\u001b[1;31mValueError\u001b[0m: {'message': 'VM Exception while processing transaction: invalid opcode', 'stack': 'RuntimeError: VM Exception while processing transaction: invalid opcode\\n    at LegacyTransaction.fillFromResult (C:\\\\Program Files\\\\WindowsApps\\\\GanacheUI_2.7.1.0_x64__rb4352f0jd4m2\\\\app\\\\resources\\\\static\\\\node\\\\node_modules\\\\ganache\\\\dist\\\\node\\\\1.js:2:12745)\\n    at Miner.<anonymous> (C:\\\\Program Files\\\\WindowsApps\\\\GanacheUI_2.7.1.0_x64__rb4352f0jd4m2\\\\app\\\\resources\\\\static\\\\node\\\\node_modules\\\\ganache\\\\dist\\\\node\\\\1.js:2:36703)\\n    at async Miner.<anonymous> (C:\\\\Program Files\\\\WindowsApps\\\\GanacheUI_2.7.1.0_x64__rb4352f0jd4m2\\\\app\\\\resources\\\\static\\\\node\\\\node_modules\\\\ganache\\\\dist\\\\node\\\\1.js:2:35116)\\n    at async Miner.mine (C:\\\\Program Files\\\\WindowsApps\\\\GanacheUI_2.7.1.0_x64__rb4352f0jd4m2\\\\app\\\\resources\\\\static\\\\node\\\\node_modules\\\\ganache\\\\dist\\\\node\\\\1.js:2:39680)\\n    at async Blockchain.mine (C:\\\\Program Files\\\\WindowsApps\\\\GanacheUI_2.7.1.0_x64__rb4352f0jd4m2\\\\app\\\\resources\\\\static\\\\node\\\\node_modules\\\\ganache\\\\dist\\\\node\\\\1.js:2:60063)\\n    at async Promise.all (index 0)\\n    at async TransactionPool.emit (C:\\\\Program Files\\\\WindowsApps\\\\GanacheUI_2.7.1.0_x64__rb4352f0jd4m2\\\\app\\\\resources\\\\static\\\\node\\\\node_modules\\\\ganache\\\\node_modules\\\\emittery\\\\index.js:303:3)', 'code': -32000, 'name': 'RuntimeError', 'data': {'hash': '0x189e7bd7ca1b0d9000174d607922d59f63dd12a535931feb8c10fe80647cbdf1', 'programCounter': 9, 'result': '0x189e7bd7ca1b0d9000174d607922d59f63dd12a535931feb8c10fe80647cbdf1', 'reason': None, 'message': 'invalid opcode'}}"
     ]
    }
   ],
   "source": [
    "from web3 import Web3\n",
    "import json\n",
    "\n",
    "# 連接到本地以太坊節點\n",
    "w3 = Web3(Web3.HTTPProvider('http://127.0.0.1:7545'))\n",
    "\n",
    "# 檢查連接\n",
    "assert w3.is_connected(), \"Failed to connect to the Ethereum node\"\n",
    "\n",
    "# 設置帳戶和私鑰\n",
    "account = '0xD2ba6B552Aa333b15b69DB2CB173C8c50415e0cd'  # 你的以太坊帳戶地址\n",
    "private_key = '0x4e768f45a9106f44ee9718de6eaee54ec09b0dc72a835f9a17c6848a0db55955'  # 你的私鑰\n",
    "\n",
    "# 加載智能合約ABI\n",
    "with open('abi6.json', 'r') as file:\n",
    "    contract_abi = json.load(file)\n",
    "contract_bytecode = '0x67226767ba5F3cA978B7b69268E8518caEe944f2'\n",
    "\n",
    "# 部署合約\n",
    "ExampleContract = w3.eth.contract(abi=contract_abi, bytecode=contract_bytecode)\n",
    "\n",
    "# 建立交易\n",
    "transaction = ExampleContract.constructor().build_transaction({\n",
    "    'from': account,\n",
    "    'nonce': w3.eth.get_transaction_count(account),\n",
    "    'gas': 2000000,\n",
    "    'gasPrice': w3.to_wei('50', 'gwei')\n",
    "})\n",
    "\n",
    "# 使用私鑰簽名交易\n",
    "signed_transaction = w3.eth.account.sign_transaction(transaction, private_key)\n",
    "\n",
    "# 發送交易並等待確認\n",
    "tx_hash = w3.eth.send_raw_transaction(signed_transaction.rawTransaction)\n",
    "tx_receipt = w3.eth.wait_for_transaction_receipt(tx_hash)\n",
    "\n",
    "# 獲取已部署合約的地址\n",
    "contract_address = tx_receipt.contractAddress\n",
    "\n",
    "# 創建合約實例\n",
    "contract_instance = w3.eth.contract(address=contract_address, abi=contract_abi)\n",
    "\n",
    "# 調用合約函數\n",
    "sij, kij, s_bar, s_recovered = contract_instance.functions.example().call()\n",
    "\n",
    "print(f\"sij (random):\\t{sij}\")\n",
    "print(f\"kij (random):\\t{kij}\")\n",
    "print(f\"s_bar (encrypted):\\t{s_bar}\")\n",
    "print(f\"sij (recovered):\\t{s_recovered}\")\n"
   ]
  },
  {
   "cell_type": "code",
   "execution_count": 1,
   "id": "a62655fb-d7be-4c69-8657-21377f42d488",
   "metadata": {},
   "outputs": [],
   "source": [
    "def split_data(data, n):\n",
    "    # 确定每块的大小\n",
    "    block_size = len(data) // n\n",
    "    remainder = len(data) % n\n",
    "    blocks = []\n",
    "\n",
    "    # 将数据分成n块\n",
    "    start = 0\n",
    "    for i in range(n):\n",
    "        end = start + block_size + (1 if i < remainder else 0)\n",
    "        blocks.append(data[start:end])\n",
    "        start = end\n",
    "\n",
    "    return blocks"
   ]
  },
  {
   "cell_type": "code",
   "execution_count": 3,
   "id": "3420d4aa-cd8a-4935-bba9-8a2cff772ca0",
   "metadata": {},
   "outputs": [
    {
     "name": "stdout",
     "output_type": "stream",
     "text": [
      "elems1個數:  8\n",
      "elems1=\n",
      "1234567890123456789012345678 | 901234567890123456789012345 | 678901234567890123456789012 | 345678901234567890123456789 | 012345678901234567890123456 | 7890abcdefgabcdefgabcdefgab | cdefgabcdefgabcdefgabcdefga | bcdefgabcdefgabcdefgabcdefg\n"
     ]
    }
   ],
   "source": [
    "file_path = 'data1.txt'\n",
    "# block個數只能4 8 16 32 ...\n",
    "n = 8\n",
    "\n",
    "with open(file_path, 'r', encoding='utf-8') as f:\n",
    "    data = f.read()\n",
    "    \n",
    "elems1 = split_data(data, n)\n",
    "\n",
    "print('elems1個數: ',len(elems1))\n",
    "print('elems1=')\n",
    "print(*elems1, sep = \" | \")"
   ]
  },
  {
   "cell_type": "code",
   "execution_count": null,
   "id": "2882f27a-dd8a-4557-a693-8da259032730",
   "metadata": {},
   "outputs": [],
   "source": []
  }
 ],
 "metadata": {
  "kernelspec": {
   "display_name": "Python 3 (ipykernel)",
   "language": "python",
   "name": "python3"
  },
  "language_info": {
   "codemirror_mode": {
    "name": "ipython",
    "version": 3
   },
   "file_extension": ".py",
   "mimetype": "text/x-python",
   "name": "python",
   "nbconvert_exporter": "python",
   "pygments_lexer": "ipython3",
   "version": "3.11.7"
  }
 },
 "nbformat": 4,
 "nbformat_minor": 5
}
