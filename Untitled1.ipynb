{
 "cells": [
  {
   "cell_type": "code",
   "execution_count": 1,
   "id": "a0c9c25c-9dd6-4814-872d-5a36ae19708a",
   "metadata": {},
   "outputs": [
    {
     "name": "stdout",
     "output_type": "stream",
     "text": [
      "0x3ac225168df54212a25c1c01fd35bebfea408fdac2e31ddd6f80a4bbf9a5f1cb\n"
     ]
    }
   ],
   "source": [
    "from web3 import Web3\n",
    "\n",
    "# 創建一個 Web3 實例\n",
    "w3 = Web3()\n",
    "\n",
    "packed_data = w3.solidity_keccak(['string'], ['a'])\n",
    "\n",
    "print(packed_data.hex())"
   ]
  },
  {
   "cell_type": "code",
   "execution_count": 29,
   "id": "74158914-298d-448a-a895-2172d60d5ab6",
   "metadata": {},
   "outputs": [
    {
     "name": "stdout",
     "output_type": "stream",
     "text": [
      "0x689e5e504d9681a9b5b9bf89443e3082f6700b7cb8dfe93fad0dddfdc12cdb24\n",
      "0xb5553de315e0edf504d9150af82dafa5c4667fa618ed0a6f19c69b41166c5510\n",
      "0x0b42b6393c1f53060fe3ddbfcd7aadcca894465a5a438f69c87d790b2299b9b2\n",
      "0xf1918e8562236eb17adc8502332f4c9c82bc14e19bfc0aa10ab674ff75b3d2f3\n"
     ]
    }
   ],
   "source": [
    "h0 = w3.solidity_keccak(['string'], ['哈哈']).hex()\n",
    "h1 = w3.solidity_keccak(['string'], ['b']).hex()\n",
    "h2 = w3.solidity_keccak(['string'], ['c']).hex()\n",
    "h3 = w3.solidity_keccak(['string'], ['d']).hex()\n",
    "\n",
    "print(h0)\n",
    "print(h1)\n",
    "print(h2)\n",
    "print(h3)"
   ]
  },
  {
   "cell_type": "code",
   "execution_count": 10,
   "id": "cff7e9f4-66fb-4886-a248-926cec0b2d19",
   "metadata": {},
   "outputs": [
    {
     "name": "stdout",
     "output_type": "stream",
     "text": [
      "0x805b21d846b189efaeb0377d6bb0d201b3872a363e607c25088f025b0c6ae1f8\n",
      "0xd253a52d4cb00de2895e85f2529e2976e6aaaa5c18106b68ab66813e14415669\n"
     ]
    }
   ],
   "source": [
    "h01=w3.solidity_keccak(['bytes32', 'bytes32'], [h0, h1]).hex()\n",
    "h23=w3.solidity_keccak(['bytes32', 'bytes32'], [h2, h3]).hex()\n",
    "\n",
    "print(h01)\n",
    "print(h23)"
   ]
  },
  {
   "cell_type": "code",
   "execution_count": 11,
   "id": "715473e7-d42f-4061-a1d4-f52d69301995",
   "metadata": {},
   "outputs": [
    {
     "name": "stdout",
     "output_type": "stream",
     "text": [
      "0x68203f90e9d07dc5859259d7536e87a6ba9d345f2552b5b9de2999ddce9ce1bf\n"
     ]
    }
   ],
   "source": [
    "hroot = w3.solidity_keccak(['bytes32', 'bytes32'], [h01, h23]).hex()\n",
    "\n",
    "print(hroot)"
   ]
  },
  {
   "cell_type": "code",
   "execution_count": 3,
   "id": "4da9b3dc-dad6-4ced-9351-8b254da34361",
   "metadata": {},
   "outputs": [
    {
     "name": "stdout",
     "output_type": "stream",
     "text": [
      "0xf75663dcf6ba9c343a650dd24d162ecd334d7d06bc1a14de06acf66617b30ac0\n"
     ]
    }
   ],
   "source": [
    "h1='0x7fc555f525bac63eeb39175c97fc448eb1ccba5f66e31ed6155832d784ef601c'\n",
    "h2='0x5b2da5dceefabe0eec1809837178aa4cfdbfd8ddb5de394fd5e57125f1942be0'\n",
    "h = w3.solidity_keccak(['bytes32', 'bytes32'], [h1, h2]).hex()\n",
    "\n",
    "print(h)"
   ]
  },
  {
   "cell_type": "code",
   "execution_count": 23,
   "id": "551052f4-9e12-40eb-9daa-065c2740523c",
   "metadata": {},
   "outputs": [],
   "source": [
    "from Crypto.Cipher import AES\n",
    "from Crypto.Random import get_random_bytes\n",
    "from Crypto.Util.Padding import pad, unpad\n",
    "\n",
    "def generate_key():\n",
    "    return get_random_bytes(32)\n",
    "\n",
    "def encrypt(data, key):\n",
    "    cipher = AES.new(key, AES.MODE_CBC)\n",
    "    ciphertext = cipher.encrypt(pad(data.encode('utf-8'), AES.block_size))\n",
    "    iv = cipher.iv\n",
    "    return ciphertext, iv\n",
    "\n",
    "def decrypt(ciphertext, key, iv):\n",
    "    cipher = AES.new(key, AES.MODE_CBC, iv)\n",
    "    decrypted_data = unpad(cipher.decrypt(ciphertext), AES.block_size)\n",
    "    return decrypted_data.decode('utf-8')"
   ]
  },
  {
   "cell_type": "code",
   "execution_count": 24,
   "id": "7fd116a0-4994-49b0-bc50-76ddf43ecefc",
   "metadata": {},
   "outputs": [
    {
     "name": "stdout",
     "output_type": "stream",
     "text": [
      "b'\\xb36\\xc9\\x05vE\\xb8\\xc7\\xc0;i\\x8b\\x1f\\x01\\x17`\\xb2\\x86v\\r\\x14s\\x0e\\x8fH\\xeaP7\\xdb\\xe7}\\xe2'\n"
     ]
    }
   ],
   "source": [
    "key = generate_key()\n",
    "print(key)"
   ]
  },
  {
   "cell_type": "code",
   "execution_count": 27,
   "id": "e3b31a00-784e-4abd-8d81-7a3423f4192f",
   "metadata": {},
   "outputs": [],
   "source": [
    "import base64\n",
    "\n",
    "data=[\"Hello!\", \"World!\"]\n",
    "ciphertextList=[]\n",
    "ivList=[]\n",
    "\n",
    "for d in data:\n",
    "    ciphertext, iv = encrypt(d, key)\n",
    "    ciphertextList.append(ciphertext)\n",
    "    ivList.append(iv)\n",
    "\n",
    "# 将加密后的数据和初始化向量转换为Base64编码的字符串\n",
    "encrypted_data_list = [base64.b64encode(ciphertext).decode('utf-8') for ciphertext in ciphertextList]\n",
    "iv_data_list = [base64.b64encode(iv).decode('utf-8') for iv in ivList]\n",
    "\n",
    "# 写入文本文件\n",
    "with open(\"encrypted_data.txt\", \"w\") as file:\n",
    "    for encrypted_data, iv_data in zip(encrypted_data_list, iv_data_list):\n",
    "        file.write(encrypted_data + \",\" + iv_data + \"\\n\")"
   ]
  },
  {
   "cell_type": "code",
   "execution_count": 28,
   "id": "d6f99957-bdb8-41e1-acc4-ef065d1de6f5",
   "metadata": {},
   "outputs": [
    {
     "name": "stdout",
     "output_type": "stream",
     "text": [
      "Hello!\n",
      "World!\n"
     ]
    }
   ],
   "source": [
    "import base64\n",
    "\n",
    "# 读取加密数据和初始化向量\n",
    "ciphertext_list = []\n",
    "iv_list = []\n",
    "with open(\"encrypted_data.txt\", \"r\") as file:\n",
    "    for line in file:\n",
    "        encrypted_data, iv_data = line.strip().split(\",\")\n",
    "        ciphertext_list.append(base64.b64decode(encrypted_data))\n",
    "        iv_list.append(base64.b64decode(iv_data))\n",
    "\n",
    "# 使用相同的密钥和初始化向量逐个解密数据\n",
    "for ciphertext, iv in zip(ciphertext_list, iv_list):\n",
    "    decrypted_data = decrypt(ciphertext, key, iv)\n",
    "    print(decrypted_data)\n"
   ]
  },
  {
   "cell_type": "code",
   "execution_count": 30,
   "id": "ed56707e-f073-4f2f-80d8-6e842ae763e6",
   "metadata": {},
   "outputs": [
    {
     "name": "stdout",
     "output_type": "stream",
     "text": [
      "['This is', ' a samp', 'le data.']\n"
     ]
    }
   ],
   "source": [
    "def split_data(data, n):\n",
    "    # 确定每块的大小\n",
    "    block_size = len(data) // n\n",
    "    blocks = []\n",
    "\n",
    "    # 将数据分成n块\n",
    "    for i in range(n):\n",
    "        start = i * block_size\n",
    "        end = start + block_size\n",
    "        if i == n - 1:\n",
    "            # 最后一块可能比其他块大\n",
    "            end = len(data)\n",
    "        blocks.append(data[start:end])\n",
    "\n",
    "    return blocks\n",
    "\n",
    "# 示例数据\n",
    "data = \"This is a sample data.\"\n",
    "n = 3\n",
    "\n",
    "# 分割数据\n",
    "blocks = split_data(data, n)\n",
    "print(blocks)"
   ]
  },
  {
   "cell_type": "code",
   "execution_count": 34,
   "id": "23f240cb-d668-43da-8b60-4ada8783b221",
   "metadata": {},
   "outputs": [
    {
     "name": "stdout",
     "output_type": "stream",
     "text": [
      "['一二三', '四五六', '七八九', '十哈哈', '哈哈', '嗚嗚', '嗚嗚', '嗚嗚']\n"
     ]
    }
   ],
   "source": [
    "def split_data(data, n):\n",
    "    # 确定每块的大小\n",
    "    block_size = len(data) // n\n",
    "    remainder = len(data) % n\n",
    "    blocks = []\n",
    "\n",
    "    # 将数据分成n块\n",
    "    start = 0\n",
    "    for i in range(n):\n",
    "        end = start + block_size + (1 if i < remainder else 0)\n",
    "        blocks.append(data[start:end])\n",
    "        start = end\n",
    "\n",
    "    return blocks\n",
    "\n",
    "# 示例数据\n",
    "data = \"一二三四五六七八九十哈哈哈哈嗚嗚嗚嗚嗚嗚\"\n",
    "n = 8\n",
    "\n",
    "# 分割数据\n",
    "blocks = split_data(data, n)\n",
    "print(blocks)"
   ]
  },
  {
   "cell_type": "code",
   "execution_count": 35,
   "id": "2bada6a8-6075-41ba-99ef-4847e6d6503a",
   "metadata": {},
   "outputs": [],
   "source": [
    "def create_file_from_array(array, file_path):\n",
    "    # 将数组的前8项合并为一个字符串\n",
    "    data = ''.join(array[:8])\n",
    "\n",
    "    # 将字符串写入文件\n",
    "    with open(file_path, 'w') as f:\n",
    "        f.write(data)\n",
    "\n",
    "# 示例数组\n",
    "array = ['data1', 'data2', 'data3', 'data4', 'data5', 'data6', 'data7', 'data8']\n",
    "\n",
    "# 创建文件\n",
    "file_path = 'output1.txt'\n",
    "create_file_from_array(array, file_path)\n"
   ]
  },
  {
   "cell_type": "code",
   "execution_count": null,
   "id": "fe16f386-7ff9-4342-babe-1246cf29f686",
   "metadata": {},
   "outputs": [],
   "source": []
  },
  {
   "cell_type": "code",
   "execution_count": 8,
   "id": "23467d55-f163-408e-b45a-d0038f0a8675",
   "metadata": {},
   "outputs": [
    {
     "name": "stdout",
     "output_type": "stream",
     "text": [
      "0xaf6397d9a0b7387ad9c601d9d025eef35c74d6e50bf19f85c8fea1417323226c\n",
      "<class 'str'>\n",
      "b'\\xafc\\x97\\xd9\\xa0\\xb78z\\xd9\\xc6\\x01\\xd9\\xd0%\\xee\\xf3\\\\t\\xd6\\xe5\\x0b\\xf1\\x9f\\x85\\xc8\\xfe\\xa1As#\"l'\n",
      "<class 'bytes'>\n"
     ]
    }
   ],
   "source": [
    "datahash=\"0xaf6397d9a0b7387ad9c601d9d025eef35c74d6e50bf19f85c8fea1417323226c\"\n",
    "\n",
    "d = bytes.fromhex(datahash[2:])\n",
    "\n",
    "print(datahash)\n",
    "print(type(datahash))\n",
    "\n",
    "print(d)\n",
    "print(type(d))"
   ]
  },
  {
   "cell_type": "code",
   "execution_count": 19,
   "id": "65ac2029-c0d3-41e5-8cd3-51c101d3f740",
   "metadata": {},
   "outputs": [
    {
     "name": "stdout",
     "output_type": "stream",
     "text": [
      "b'\\xb6k\\xc7\\xed\\x08\\xfdz\\xab>\\xddy\\xcb\\xc2\\xcb\\xb6}\\xea\\xa9 \\xab\\x91\\x95\\x90s\\xc5fz6\\x13\\xab\\xf5$'\n",
      "0xb66bc7ed08fd7aab3edd79cbc2cbb67deaa920ab91959073c5667a3613abf524\n",
      "0xb66bc7ed08fd7aab3edd79cbc2cbb67deaa920ab91959073c5667a3613abf524\n"
     ]
    }
   ],
   "source": [
    "# 將數據寫入文件\n",
    "root=\"0x447932660e9c39674232735d255eaeb0f9d282016546e11dc557fada27ebc63f\"\n",
    "h0 = w3.solidity_keccak(['bytes32'], [root])\n",
    "print(h0)\n",
    "print(h0.hex())\n",
    "\n",
    "with open('data.bin', 'wb') as file:\n",
    "    file.write(h0)\n",
    "\n",
    "\n",
    "# 從文件中讀取數據\n",
    "with open('data.bin', 'rb') as file:\n",
    "    read = file.read(32)  # 假設 root 是 32 字節\n",
    "print('0x'+read.hex())\n"
   ]
  },
  {
   "cell_type": "code",
   "execution_count": null,
   "id": "7136c510-a8fb-4abb-bd9f-de266568ee10",
   "metadata": {},
   "outputs": [],
   "source": [
    "# test w3.to_hex\n",
    "print(decrypted_data[8])\n",
    "d = w3.to_bytes(hexstr=decrypted_data[8])\n",
    "print(d)\n",
    "print(d.hex())\n",
    "print(w3.to_hex(d))"
   ]
  },
  {
   "cell_type": "code",
   "execution_count": 21,
   "id": "82553e1b-aa94-4c8d-ae7a-7b051fe32884",
   "metadata": {},
   "outputs": [
    {
     "name": "stdout",
     "output_type": "stream",
     "text": [
      "<class 'bytes'>\n"
     ]
    }
   ],
   "source": [
    "with open(\"key.txt\", \"rb\") as f:\n",
    "    key = f.read()\n",
    "    \n",
    "print(type(key))"
   ]
  },
  {
   "cell_type": "code",
   "execution_count": null,
   "id": "6ea1bee9-8f76-4f6e-8f24-7ccfc5c4ca8a",
   "metadata": {},
   "outputs": [],
   "source": [
    "with open(\"key.txt\", \"rb\") as f:\n",
    "    key = f.read()\n",
    "    \n",
    "print(type(key))"
   ]
  },
  {
   "cell_type": "code",
   "execution_count": 25,
   "id": "2a44cf17-f515-4f05-8408-655bfbf101ec",
   "metadata": {},
   "outputs": [
    {
     "name": "stdout",
     "output_type": "stream",
     "text": [
      "{'datahash': '0xaf6397d9a0b7387ad9c601d9d025eef35c74d6e50bf19f85c8fea1417323226c', 'index': 0, 'root': '0x447932660e9c39674232735d255eaeb0f9d282016546e11dc557fada27ebc63f', 'inputsZ': ['OLlK6qwjXjoplVbJpaKdMg==,RO2xGyhIChI4PBfC/2dZAQ==', 'igJZcUdGjgwzMqOYwP4Uqw==,3UEbIFl+91igUytBpbc95Q=='], 'outputZ': 'xv5YtD83S+insKsHEmVLzIIymOrxspUTKZhaLX/m8lAnPXV0djv0CC+p0jOByR+TeW5qhdAL9CkQXmx+gmhQhnUGTZapOK+oqQY7VhMDBVk=,cE7cCRW7dXQwl9Stebweiw==', 'proofs': ['0x95d0adc829dc67deb774026fee4833791e15151066dc0e0391a07d7599b166db', '0x0d9f506b889080d3a5dfaa7b5e45489caeed3699d5c1acf952a297ba81f1ffa9', '0xd6abd29796899a8ae81ac5f55d363de6da72754f8a77293e507f0a63057a6578', '0x7d42de38e3e76b9609744394e91e6709a1bca7ca06a5fecfdd20da0599e1d460']}\n",
      "0x447932660e9c39674232735d255eaeb0f9d282016546e11dc557fada27ebc63f\n",
      "<class 'str'>\n"
     ]
    }
   ],
   "source": [
    "import json\n",
    "\n",
    "with open('verify_item.json', 'rb') as f:\n",
    "    loaded_verify_item = json.load(f)\n",
    "    \n",
    "print(loaded_verify_item)\n",
    "print(loaded_verify_item['root'])\n",
    "print(type(loaded_verify_item['root']))"
   ]
  },
  {
   "cell_type": "code",
   "execution_count": 26,
   "id": "86a7b2d1-daa8-47b9-a931-20611bf72592",
   "metadata": {},
   "outputs": [
    {
     "ename": "TypeError",
     "evalue": "a bytes-like object is required, not 'str'",
     "output_type": "error",
     "traceback": [
      "\u001b[1;31m---------------------------------------------------------------------------\u001b[0m",
      "\u001b[1;31mTypeError\u001b[0m                                 Traceback (most recent call last)",
      "\u001b[1;32m~\\AppData\\Local\\Temp\\ipykernel_2420\\4098855506.py\u001b[0m in \u001b[0;36m<module>\u001b[1;34m\u001b[0m\n\u001b[0;32m      4\u001b[0m \u001b[1;33m\u001b[0m\u001b[0m\n\u001b[0;32m      5\u001b[0m \u001b[1;32mwith\u001b[0m \u001b[0mopen\u001b[0m\u001b[1;33m(\u001b[0m\u001b[1;34m'verify_item.txt'\u001b[0m\u001b[1;33m,\u001b[0m \u001b[1;34m'wb'\u001b[0m\u001b[1;33m)\u001b[0m \u001b[1;32mas\u001b[0m \u001b[0mf\u001b[0m\u001b[1;33m:\u001b[0m\u001b[1;33m\u001b[0m\u001b[1;33m\u001b[0m\u001b[0m\n\u001b[1;32m----> 6\u001b[1;33m     \u001b[0mf\u001b[0m\u001b[1;33m.\u001b[0m\u001b[0mwrite\u001b[0m\u001b[1;33m(\u001b[0m\u001b[0mdatahash\u001b[0m\u001b[1;33m)\u001b[0m\u001b[1;33m\u001b[0m\u001b[1;33m\u001b[0m\u001b[0m\n\u001b[0m\u001b[0;32m      7\u001b[0m     \u001b[0mf\u001b[0m\u001b[1;33m.\u001b[0m\u001b[0mwrite\u001b[0m\u001b[1;33m(\u001b[0m\u001b[0mindex\u001b[0m\u001b[1;33m)\u001b[0m\u001b[1;33m\u001b[0m\u001b[1;33m\u001b[0m\u001b[0m\n\u001b[0;32m      8\u001b[0m     \u001b[0mf\u001b[0m\u001b[1;33m.\u001b[0m\u001b[0mwrite\u001b[0m\u001b[1;33m(\u001b[0m\u001b[0mroot\u001b[0m\u001b[1;33m)\u001b[0m\u001b[1;33m\u001b[0m\u001b[1;33m\u001b[0m\u001b[0m\n",
      "\u001b[1;31mTypeError\u001b[0m: a bytes-like object is required, not 'str'"
     ]
    }
   ],
   "source": [
    "datahash = '0xaf6397d9a0b7387ad9c601d9d025eef35c74d6e50bf19f85c8fea1417323226c'\n",
    "index = 0\n",
    "root = '0x447932660e9c39674232735d255eaeb0f9d282016546e11dc557fada27ebc63f'\n",
    "\n",
    "with open('testBytes.txt', 'wb') as f:\n",
    "    f.write(datahash)\n",
    "    f.write(index)\n",
    "    f.write(root)\n"
   ]
  },
  {
   "cell_type": "code",
   "execution_count": 32,
   "id": "ff8da4c0-a7d9-4748-b2e5-4fbe41c48fca",
   "metadata": {},
   "outputs": [
    {
     "name": "stdout",
     "output_type": "stream",
     "text": [
      "b'\\xa7f\\x93$ \\xccn\\x90r9K\\xef,\\x03j\\xd8\\x97,Dio\\xee)9{\\xd5\\xe2\\xc0`\\x01\\xf6\\x15'\n",
      "<class 'hexbytes.main.HexBytes'>\n"
     ]
    }
   ],
   "source": [
    "h = w3.solidity_keccak(['string'], ['h'])\n",
    "\n",
    "print(h)\n",
    "print(type(h))\n",
    "\n",
    "with open('testBytes.txt', 'wb') as f:\n",
    "    f.write(h)"
   ]
  },
  {
   "cell_type": "code",
   "execution_count": 34,
   "id": "59edf751-28b2-4b6a-b217-eeeb97c8abca",
   "metadata": {},
   "outputs": [
    {
     "name": "stdout",
     "output_type": "stream",
     "text": [
      "b'\\xa7f\\x93$ \\xccn\\x90r9K\\xef,\\x03j\\xd8\\x97,Dio\\xee)9{\\xd5\\xe2\\xc0`\\x01\\xf6\\x15'\n",
      "a766932420cc6e9072394bef2c036ad8972c44696fee29397bd5e2c06001f615\n"
     ]
    }
   ],
   "source": [
    "with open(\"testBytes.txt\", \"rb\") as f:\n",
    "    testBytes = f.read()\n",
    "print(testBytes)\n",
    "print(testBytes.hex())"
   ]
  },
  {
   "cell_type": "code",
   "execution_count": 45,
   "id": "46eb29a6-aab8-45fa-be0a-ea4fe533a8c4",
   "metadata": {},
   "outputs": [
    {
     "name": "stdout",
     "output_type": "stream",
     "text": [
      "0xa766932420cc6e9072394bef2c036ad8972c44696fee29397bd5e2c06001f615\n",
      "<class 'str'>\n"
     ]
    }
   ],
   "source": [
    "r = w3.to_hex(h)\n",
    "print(r)\n",
    "print(type(r))"
   ]
  },
  {
   "cell_type": "code",
   "execution_count": 61,
   "id": "bfffc216-1b63-49e8-b05e-2db1f7d242ea",
   "metadata": {},
   "outputs": [
    {
     "name": "stdout",
     "output_type": "stream",
     "text": [
      "[\"0xc6f5f6b93feb5aead542f2abadc5d725424bb0151e1a6654dca143823457fd4f\", \"0xbb93fe72d9f875c67c22944c1a9588b158694762d10bc6cbddea5eefaf1d6d76\", \"0xebb474d798546e028d62fb7dbf3ab70f3fe107019146556ec9f703ab42d84bd4\", \"0xcc12d7856bb2cff80372a323a80b787af4d6badbc8b39724376fef5f00b2dd6a\"]\n",
      "[\"0xdca9f23574914edf1a01459d86738c03f6fe0d64eaf5973e7358bd70821e3ca2\", \"0x3a9333cfe54951e21526d2d6476777e4e0f05a557757ea57c2ebd84ddf31e6ff\", \"0xc6d8b1c74a228d4032b1282c1aecca5bd8b8078d679a62063111b5f017fe2a3c\", \"0x313061931cc951294a38fc1a2ebc19c876710c2be2afc211371aba8aaa7709cd\"]\n"
     ]
    }
   ],
   "source": [
    "proof = \"['0xc6f5f6b93feb5aead542f2abadc5d725424bb0151e1a6654dca143823457fd4f', '0xbb93fe72d9f875c67c22944c1a9588b158694762d10bc6cbddea5eefaf1d6d76', '0xebb474d798546e028d62fb7dbf3ab70f3fe107019146556ec9f703ab42d84bd4', '0xcc12d7856bb2cff80372a323a80b787af4d6badbc8b39724376fef5f00b2dd6a']\"\n",
    "input = \"['0xdca9f23574914edf1a01459d86738c03f6fe0d64eaf5973e7358bd70821e3ca2', '0x3a9333cfe54951e21526d2d6476777e4e0f05a557757ea57c2ebd84ddf31e6ff', '0xc6d8b1c74a228d4032b1282c1aecca5bd8b8078d679a62063111b5f017fe2a3c', '0x313061931cc951294a38fc1a2ebc19c876710c2be2afc211371aba8aaa7709cd']\"\n",
    "\n",
    "print(proof.replace(\"'\", \"\\\"\"))\n",
    "print(input.replace(\"'\", \"\\\"\"))"
   ]
  },
  {
   "cell_type": "code",
   "execution_count": 63,
   "id": "b5864d4e-839d-41f1-a780-ddac2c5e1c36",
   "metadata": {},
   "outputs": [
    {
     "name": "stdout",
     "output_type": "stream",
     "text": [
      "Root: 14\n",
      "    L--- 13\n",
      "        L--- 11\n",
      "            L--- 7\n",
      "            R--- 6\n",
      "        R--- 10\n",
      "            L--- 5\n",
      "            R--- 4\n",
      "    R--- 12\n",
      "        L--- 9\n",
      "            L--- 3\n",
      "            R--- 2\n",
      "        R--- 8\n",
      "            L--- 1\n",
      "            R--- 0\n"
     ]
    }
   ],
   "source": [
    "class TreeNode:\n",
    "    def __init__(self, val=0, left=None, right=None):\n",
    "        self.val = val\n",
    "        self.left = left\n",
    "        self.right = right\n",
    "\n",
    "def generate_tree(nodes, start=0):\n",
    "    if start >= len(nodes):\n",
    "        return None\n",
    "    root = TreeNode(nodes[start])\n",
    "    root.left = generate_tree(nodes, 2 * start + 1)\n",
    "    root.right = generate_tree(nodes, 2 * start + 2)\n",
    "    return root\n",
    "\n",
    "def print_tree(root, level=0, prefix=\"Root: \"):\n",
    "    if not root:\n",
    "        return\n",
    "    print(\" \" * (level * 4) + prefix + str(root.val))\n",
    "    if root.left: print_tree(root.left, level + 1, \"L--- \")\n",
    "    if root.right: print_tree(root.right, level + 1, \"R--- \")\n",
    "\n",
    "# 節點值從 31 到 1\n",
    "nodes = list(range(14, -1, -1))\n",
    "tree = generate_tree(nodes)\n",
    "print_tree(tree)\n"
   ]
  },
  {
   "cell_type": "code",
   "execution_count": null,
   "id": "62b42057-2dff-42df-a190-8902401e11e1",
   "metadata": {},
   "outputs": [],
   "source": [
    "from web3 import Web3\n",
    "import time\n",
    "import json\n",
    "\n",
    "# 連接ganache\n",
    "ganache_url = \"http://localhost:7545\"\n",
    "web3 = Web3(Web3.HTTPProvider(ganache_url))\n",
    "\n",
    "print(f'連接狀態: {web3.is_connected()}')\n",
    "\n",
    "# 合约地址和 ABI\n",
    "contract_address = '0x7b96aF9Bd211cBf6BA5b0dd53aa61Dc5806b6AcE'\n",
    "\n",
    "with open('abi8.json', 'r') as file:\n",
    "    contract_abi = json.load(file) \n",
    "\n",
    "# 创建合约实例\n",
    "contract = web3.eth.contract(address=contract_address, abi=contract_abi)\n",
    "\n",
    "# 监听事件\n",
    "def handle_event(event):\n",
    "    print(f\"Event received: {event}\")\n",
    "    # 调用外部程序或 API 获取数据\n",
    "    data = fetch_data_from_external_source()\n",
    "    # 将数据发送回智能合约\n",
    "    send_data_to_contract(event['args']['caller'], data)\n",
    "\n",
    "def fetch_data_from_external_source():\n",
    "    # 模拟外部数据获取过程\n",
    "    return 42\n",
    "\n",
    "def send_data_to_contract(caller_address, data):\n",
    "    # 使用私钥对交易进行签名\n",
    "    private_key = '0x05bdd1aa1ae4202edd88d25c0c34ae40a1e11ae47f582739e53d67e34ba2284f'\n",
    "    account_address = '0x09ea376Ff3D21010615c4f263a72AF13AEDF77CD'\n",
    "    nonce = web3.eth.get_transaction_count(account_address)\n",
    "    transaction = contract.functions.receiveData(data).build_transaction({\n",
    "        'from': account_address,\n",
    "        'nonce': nonce,\n",
    "        'gas': 2000000,\n",
    "        'gasPrice': web3.to_wei('50', 'gwei')\n",
    "    })\n",
    "    signed_txn = web3.eth.account.sign_transaction(transaction, private_key)\n",
    "    tx_hash = web3.eth.send_raw_transaction(signed_txn.rawTransaction)\n",
    "    print(f\"Transaction sent: {web3.to_hex(tx_hash)}\")"
   ]
  },
  {
   "cell_type": "code",
   "execution_count": 110,
   "id": "a1a68540-f45b-4454-911e-487b3d4fd05b",
   "metadata": {},
   "outputs": [
    {
     "name": "stdout",
     "output_type": "stream",
     "text": [
      "連接狀態: True\n"
     ]
    }
   ],
   "source": [
    "# test 触发 requestData 事件\n",
    "\n",
    "from web3 import Web3\n",
    "import time\n",
    "import json\n",
    "\n",
    "# 連接ganache\n",
    "ganache_url = \"http://localhost:7545\"\n",
    "web3 = Web3(Web3.HTTPProvider(ganache_url))\n",
    "\n",
    "print(f'連接狀態: {web3.is_connected()}')\n",
    "\n",
    "# 合约地址和 ABI\n",
    "contract_address = '0x768Fd64fA4bcB5cd09EE07DbE2efd0e3F9A80eE8'\n",
    "\n",
    "with open('abi8.json', 'r') as file:\n",
    "    contract_abi = json.load(file) \n",
    "\n",
    "# 创建合约实例\n",
    "contract = web3.eth.contract(address=contract_address, abi=contract_abi)\n"
   ]
  },
  {
   "cell_type": "code",
   "execution_count": 106,
   "id": "e80ef736-3d9d-4c07-b314-4cda73ef778c",
   "metadata": {},
   "outputs": [
    {
     "ename": "Web3ValidationError",
     "evalue": "\nCould not identify the intended function with name `requestData`, positional arguments with type(s) `` and keyword arguments with type(s) `{}`.\nFound 1 function(s) with the name `requestData`: ['requestData(uint256)']\nFunction invocation failed due to improper number of arguments.",
     "output_type": "error",
     "traceback": [
      "\u001b[1;31m---------------------------------------------------------------------------\u001b[0m",
      "\u001b[1;31mWeb3ValidationError\u001b[0m                       Traceback (most recent call last)",
      "\u001b[1;32m~\\AppData\\Local\\Temp\\ipykernel_2420\\1042221307.py\u001b[0m in \u001b[0;36m<module>\u001b[1;34m\u001b[0m\n\u001b[0;32m     14\u001b[0m     \u001b[0mprint\u001b[0m\u001b[1;33m(\u001b[0m\u001b[1;34mf\"requestData Transaction sent: {web3.to_hex(tx_hash)}\"\u001b[0m\u001b[1;33m)\u001b[0m\u001b[1;33m\u001b[0m\u001b[1;33m\u001b[0m\u001b[0m\n\u001b[0;32m     15\u001b[0m \u001b[1;33m\u001b[0m\u001b[0m\n\u001b[1;32m---> 16\u001b[1;33m \u001b[0mtrigger_request_data\u001b[0m\u001b[1;33m(\u001b[0m\u001b[1;33m)\u001b[0m\u001b[1;33m\u001b[0m\u001b[1;33m\u001b[0m\u001b[0m\n\u001b[0m",
      "\u001b[1;32m~\\AppData\\Local\\Temp\\ipykernel_2420\\1042221307.py\u001b[0m in \u001b[0;36mtrigger_request_data\u001b[1;34m()\u001b[0m\n\u001b[0;32m      4\u001b[0m     \u001b[0maccount_address\u001b[0m \u001b[1;33m=\u001b[0m \u001b[1;34m'0x7439a45be3a121e74Ef79b504dE0200b8260D9c3'\u001b[0m\u001b[1;33m\u001b[0m\u001b[1;33m\u001b[0m\u001b[0m\n\u001b[0;32m      5\u001b[0m     \u001b[0mnonce\u001b[0m \u001b[1;33m=\u001b[0m \u001b[0mweb3\u001b[0m\u001b[1;33m.\u001b[0m\u001b[0meth\u001b[0m\u001b[1;33m.\u001b[0m\u001b[0mget_transaction_count\u001b[0m\u001b[1;33m(\u001b[0m\u001b[0maccount_address\u001b[0m\u001b[1;33m)\u001b[0m\u001b[1;33m\u001b[0m\u001b[1;33m\u001b[0m\u001b[0m\n\u001b[1;32m----> 6\u001b[1;33m     transaction = contract.functions.requestData().build_transaction({\n\u001b[0m\u001b[0;32m      7\u001b[0m         \u001b[1;34m'from'\u001b[0m\u001b[1;33m:\u001b[0m \u001b[0maccount_address\u001b[0m\u001b[1;33m,\u001b[0m\u001b[1;33m\u001b[0m\u001b[1;33m\u001b[0m\u001b[0m\n\u001b[0;32m      8\u001b[0m         \u001b[1;34m'nonce'\u001b[0m\u001b[1;33m:\u001b[0m \u001b[0mnonce\u001b[0m\u001b[1;33m,\u001b[0m\u001b[1;33m\u001b[0m\u001b[1;33m\u001b[0m\u001b[0m\n",
      "\u001b[1;32m~\\anaconda3\\lib\\site-packages\\web3\\contract\\contract.py\u001b[0m in \u001b[0;36m__call__\u001b[1;34m(self, *args, **kwargs)\u001b[0m\n\u001b[0;32m    236\u001b[0m         \u001b[1;32melse\u001b[0m\u001b[1;33m:\u001b[0m\u001b[1;33m\u001b[0m\u001b[1;33m\u001b[0m\u001b[0m\n\u001b[0;32m    237\u001b[0m             \u001b[0mclone\u001b[0m\u001b[1;33m.\u001b[0m\u001b[0mkwargs\u001b[0m \u001b[1;33m=\u001b[0m \u001b[0mkwargs\u001b[0m\u001b[1;33m\u001b[0m\u001b[1;33m\u001b[0m\u001b[0m\n\u001b[1;32m--> 238\u001b[1;33m         \u001b[0mclone\u001b[0m\u001b[1;33m.\u001b[0m\u001b[0m_set_function_info\u001b[0m\u001b[1;33m(\u001b[0m\u001b[1;33m)\u001b[0m\u001b[1;33m\u001b[0m\u001b[1;33m\u001b[0m\u001b[0m\n\u001b[0m\u001b[0;32m    239\u001b[0m         \u001b[1;32mreturn\u001b[0m \u001b[0mclone\u001b[0m\u001b[1;33m\u001b[0m\u001b[1;33m\u001b[0m\u001b[0m\n\u001b[0;32m    240\u001b[0m \u001b[1;33m\u001b[0m\u001b[0m\n",
      "\u001b[1;32m~\\anaconda3\\lib\\site-packages\\web3\\contract\\base_contract.py\u001b[0m in \u001b[0;36m_set_function_info\u001b[1;34m(self)\u001b[0m\n\u001b[0;32m    423\u001b[0m     \u001b[1;32mdef\u001b[0m \u001b[0m_set_function_info\u001b[0m\u001b[1;33m(\u001b[0m\u001b[0mself\u001b[0m\u001b[1;33m)\u001b[0m \u001b[1;33m->\u001b[0m \u001b[1;32mNone\u001b[0m\u001b[1;33m:\u001b[0m\u001b[1;33m\u001b[0m\u001b[1;33m\u001b[0m\u001b[0m\n\u001b[0;32m    424\u001b[0m         \u001b[1;32mif\u001b[0m \u001b[1;32mnot\u001b[0m \u001b[0mself\u001b[0m\u001b[1;33m.\u001b[0m\u001b[0mabi\u001b[0m\u001b[1;33m:\u001b[0m\u001b[1;33m\u001b[0m\u001b[1;33m\u001b[0m\u001b[0m\n\u001b[1;32m--> 425\u001b[1;33m             self.abi = find_matching_fn_abi(\n\u001b[0m\u001b[0;32m    426\u001b[0m                 \u001b[0mself\u001b[0m\u001b[1;33m.\u001b[0m\u001b[0mcontract_abi\u001b[0m\u001b[1;33m,\u001b[0m\u001b[1;33m\u001b[0m\u001b[1;33m\u001b[0m\u001b[0m\n\u001b[0;32m    427\u001b[0m                 \u001b[0mself\u001b[0m\u001b[1;33m.\u001b[0m\u001b[0mw3\u001b[0m\u001b[1;33m.\u001b[0m\u001b[0mcodec\u001b[0m\u001b[1;33m,\u001b[0m\u001b[1;33m\u001b[0m\u001b[1;33m\u001b[0m\u001b[0m\n",
      "\u001b[1;32m~\\anaconda3\\lib\\site-packages\\web3\\_utils\\contracts.py\u001b[0m in \u001b[0;36mfind_matching_fn_abi\u001b[1;34m(abi, abi_codec, fn_identifier, args, kwargs)\u001b[0m\n\u001b[0;32m    206\u001b[0m         )\n\u001b[0;32m    207\u001b[0m \u001b[1;33m\u001b[0m\u001b[0m\n\u001b[1;32m--> 208\u001b[1;33m         \u001b[1;32mraise\u001b[0m \u001b[0mWeb3ValidationError\u001b[0m\u001b[1;33m(\u001b[0m\u001b[0mmessage\u001b[0m\u001b[1;33m)\u001b[0m\u001b[1;33m\u001b[0m\u001b[1;33m\u001b[0m\u001b[0m\n\u001b[0m\u001b[0;32m    209\u001b[0m \u001b[1;33m\u001b[0m\u001b[0m\n\u001b[0;32m    210\u001b[0m \u001b[1;33m\u001b[0m\u001b[0m\n",
      "\u001b[1;31mWeb3ValidationError\u001b[0m: \nCould not identify the intended function with name `requestData`, positional arguments with type(s) `` and keyword arguments with type(s) `{}`.\nFound 1 function(s) with the name `requestData`: ['requestData(uint256)']\nFunction invocation failed due to improper number of arguments."
     ]
    }
   ],
   "source": [
    "def trigger_request_data():\n",
    "    # 使用私钥对交易进行签名\n",
    "    private_key = '0x6f66f3fa08379a98c0e1f92e6a9dedf1252a503f4faf33c45b51e4bdc121840a'\n",
    "    account_address = '0x7439a45be3a121e74Ef79b504dE0200b8260D9c3'\n",
    "    nonce = web3.eth.get_transaction_count(account_address)\n",
    "    transaction = contract.functions.requestData().build_transaction({\n",
    "        'from': account_address,\n",
    "        'nonce': nonce,\n",
    "        'gas': 2000000,\n",
    "        'gasPrice': web3.to_wei('50', 'gwei')\n",
    "    })\n",
    "    signed_txn = web3.eth.account.sign_transaction(transaction, private_key)\n",
    "    tx_hash = web3.eth.send_raw_transaction(signed_txn.rawTransaction)\n",
    "    print(f\"requestData Transaction sent: {web3.to_hex(tx_hash)}\")\n",
    "\n",
    "trigger_request_data()"
   ]
  },
  {
   "cell_type": "code",
   "execution_count": null,
   "id": "71e53aa6-1477-416c-8916-033bc465488e",
   "metadata": {},
   "outputs": [],
   "source": []
  },
  {
   "cell_type": "code",
   "execution_count": 111,
   "id": "da3996a6-69a0-4b8b-9049-8fe13f66ef76",
   "metadata": {},
   "outputs": [
    {
     "name": "stdout",
     "output_type": "stream",
     "text": [
      "b'X\\xde\\x9d\\x1f\\x028|\\x03\\xfc\\x8bCD\\xa5\\xf9\\x0c\\xe2\\x87\\xc6\\x11F\"\\xda\\xaa\\xcfF\\xfc|\\x16+-\\xfd\\x96'\n"
     ]
    }
   ],
   "source": [
    "result = contract.functions.getA().call()\n",
    "print(result)"
   ]
  },
  {
   "cell_type": "code",
   "execution_count": 112,
   "id": "842e24c2-b819-47a2-8c18-a3ef1615ed52",
   "metadata": {},
   "outputs": [
    {
     "name": "stdout",
     "output_type": "stream",
     "text": [
      "原文件大小: 2050 bytes\n",
      "加密後文件大小: 2080 bytes\n",
      "解密後文件大小: 2050 bytes\n"
     ]
    }
   ],
   "source": [
    "import os\n",
    "from Crypto.Cipher import AES\n",
    "from Crypto.Util.Padding import pad, unpad\n",
    "from Crypto.Random import get_random_bytes\n",
    "\n",
    "def encrypt_file(file_path, key):\n",
    "    with open(file_path, 'rb') as f:\n",
    "        data = f.read()\n",
    "    \n",
    "    cipher = AES.new(key, AES.MODE_CBC)\n",
    "    iv = cipher.iv\n",
    "    encrypted_data = cipher.encrypt(pad(data, AES.block_size))\n",
    "    \n",
    "    encrypted_file_path = file_path + '.enc'\n",
    "    with open(encrypted_file_path, 'wb') as f:\n",
    "        f.write(iv + encrypted_data)\n",
    "    \n",
    "    return encrypted_file_path\n",
    "\n",
    "def decrypt_file(encrypted_file_path, key):\n",
    "    with open(encrypted_file_path, 'rb') as f:\n",
    "        iv = f.read(16)\n",
    "        encrypted_data = f.read()\n",
    "    \n",
    "    cipher = AES.new(key, AES.MODE_CBC, iv)\n",
    "    data = unpad(cipher.decrypt(encrypted_data), AES.block_size)\n",
    "    \n",
    "    decrypted_file_path = encrypted_file_path.replace('.enc', '.dec')\n",
    "    with open(decrypted_file_path, 'wb') as f:\n",
    "        f.write(data)\n",
    "    \n",
    "    return decrypted_file_path\n",
    "\n",
    "file_path = 'data2.txt'  # 假設這是你要加密的文件\n",
    "key = get_random_bytes(16)  # 使用16字節的密鑰\n",
    "\n",
    "encrypted_file_path = encrypt_file(file_path, key)\n",
    "print(f'原文件大小: {os.path.getsize(file_path)} bytes')\n",
    "print(f'加密後文件大小: {os.path.getsize(encrypted_file_path)} bytes')\n",
    "\n",
    "decrypted_file_path = decrypt_file(encrypted_file_path, key)\n",
    "print(f'解密後文件大小: {os.path.getsize(decrypted_file_path)} bytes')\n"
   ]
  },
  {
   "cell_type": "code",
   "execution_count": 4,
   "id": "a1b8a54e-b49d-4995-a5f4-f0a81b051f03",
   "metadata": {},
   "outputs": [
    {
     "name": "stderr",
     "output_type": "stream",
     "text": [
      "IOPub data rate exceeded.\n",
      "The Jupyter server will temporarily stop sending output\n",
      "to the client in order to avoid crashing it.\n",
      "To change this limit, set the config variable\n",
      "`--ServerApp.iopub_data_rate_limit`.\n",
      "\n",
      "Current values:\n",
      "ServerApp.iopub_data_rate_limit=1000000.0 (bytes/sec)\n",
      "ServerApp.rate_limit_window=3.0 (secs)\n",
      "\n"
     ]
    }
   ],
   "source": [
    "import os\n",
    "import zipfile\n",
    "from Crypto.Cipher import AES\n",
    "from Crypto.Util.Padding import pad, unpad\n",
    "from Crypto.Random import get_random_bytes\n",
    "\n",
    "def split_file(file_path, num_parts):\n",
    "    with open(file_path, 'rb') as f:\n",
    "        data = f.read()\n",
    "    \n",
    "    part_size = len(data) // num_parts\n",
    "    parts = [data[i * part_size: (i + 1) * part_size] for i in range(num_parts - 1)]\n",
    "    parts.append(data[(num_parts - 1) * part_size:])\n",
    "\n",
    "    return parts\n",
    "\n",
    "def encrypt_parts(parts, key):\n",
    "    encrypted_parts = []\n",
    "    for part in parts:\n",
    "        cipher = AES.new(key, AES.MODE_CBC)\n",
    "        iv = cipher.iv\n",
    "        encrypted_part = iv + cipher.encrypt(pad(part, AES.block_size))\n",
    "        encrypted_parts.append(encrypted_part)\n",
    "    return encrypted_parts\n",
    "\n",
    "def decrypt_parts(encrypted_parts, key):\n",
    "    decrypted_parts = []\n",
    "    for encrypted_part in encrypted_parts:\n",
    "        iv = encrypted_part[:16]\n",
    "        encrypted_data = encrypted_part[16:]\n",
    "        cipher = AES.new(key, AES.MODE_CBC, iv)\n",
    "        decrypted_part = unpad(cipher.decrypt(encrypted_data), AES.block_size)\n",
    "        decrypted_parts.append(decrypted_part)\n",
    "    return decrypted_parts\n",
    "\n",
    "def combine_parts(parts, output_file):\n",
    "    with open(output_file, 'wb') as f:\n",
    "        for part in parts:\n",
    "            f.write(part)\n",
    "\n",
    "def main():\n",
    "    zip_file_path = 'pvz2.1.zip'\n",
    "    num_parts = 8\n",
    "    key = get_random_bytes(16)  # 16 bytes key for AES-128\n",
    "\n",
    "    # Split the ZIP file into parts\n",
    "    parts = split_file(zip_file_path, num_parts)\n",
    "    #print(parts[0])\n",
    "\n",
    "    # Encrypt each part\n",
    "    encrypted_parts = encrypt_parts(parts, key)\n",
    "\n",
    "    # Save encrypted parts to files (optional)\n",
    "    for i, part in enumerate(encrypted_parts):\n",
    "        with open(f'encrypted_part_{i}.bin', 'wb') as f:\n",
    "            f.write(part)\n",
    "\n",
    "    # Decrypt each part\n",
    "    decrypted_parts = decrypt_parts(encrypted_parts, key)\n",
    "    #print('decrypted_parts: ', decrypted_parts)\n",
    "\n",
    "    # Combine decrypted parts back into a ZIP file\n",
    "    combined_file_path = 'decrypted_combined.zip'\n",
    "    combine_parts(decrypted_parts, combined_file_path)\n",
    "\n",
    "    # Verify that the decrypted ZIP file is valid\n",
    "    with zipfile.ZipFile(combined_file_path, 'r') as zip_ref:\n",
    "        zip_ref.extractall('extracted_files')\n",
    "\n",
    "if __name__ == \"__main__\":\n",
    "    main()\n"
   ]
  },
  {
   "cell_type": "code",
   "execution_count": 9,
   "id": "ebaf7979-0324-44e9-816d-25e1e1bb2bd8",
   "metadata": {},
   "outputs": [
    {
     "name": "stdout",
     "output_type": "stream",
     "text": [
      "File type: application/x-dosexec\n",
      "Processing as an EXE file.\n",
      "application/x-dosexec\n"
     ]
    }
   ],
   "source": [
    "import os\n",
    "import magic\n",
    "from Crypto.Cipher import AES\n",
    "from Crypto.Util.Padding import pad, unpad\n",
    "from Crypto.Random import get_random_bytes\n",
    "\n",
    "def get_file_type(file_path):\n",
    "    mime = magic.Magic(mime=True)\n",
    "    file_type = mime.from_file(file_path)\n",
    "    return file_type\n",
    "\n",
    "def split_file(file_path, num_parts):\n",
    "    with open(file_path, 'rb') as f:\n",
    "        data = f.read()\n",
    "    \n",
    "    part_size = len(data) // num_parts\n",
    "    parts = [data[i * part_size: (i + 1) * part_size] for i in range(num_parts - 1)]\n",
    "    parts.append(data[(num_parts - 1) * part_size:])\n",
    "    \n",
    "    return parts\n",
    "\n",
    "def encrypt_parts(parts, key):\n",
    "    encrypted_parts = []\n",
    "    for part in parts:\n",
    "        cipher = AES.new(key, AES.MODE_CBC)\n",
    "        iv = cipher.iv\n",
    "        encrypted_part = iv + cipher.encrypt(pad(part, AES.block_size))\n",
    "        encrypted_parts.append(encrypted_part)\n",
    "    return encrypted_parts\n",
    "\n",
    "def decrypt_parts(encrypted_parts, key):\n",
    "    decrypted_parts = []\n",
    "    for encrypted_part in encrypted_parts:\n",
    "        iv = encrypted_part[:16]\n",
    "        encrypted_data = encrypted_part[16:]\n",
    "        cipher = AES.new(key, AES.MODE_CBC, iv)\n",
    "        decrypted_part = unpad(cipher.decrypt(encrypted_data), AES.block_size)\n",
    "        decrypted_parts.append(decrypted_part)\n",
    "    return decrypted_parts\n",
    "\n",
    "def combine_parts(parts, output_file):\n",
    "    with open(output_file, 'wb') as f:\n",
    "        for part in parts:\n",
    "            f.write(part)\n",
    "\n",
    "def main():\n",
    "    #file_path = 'pvz2.1.zip'  # 可以換成任何文件的路徑\n",
    "    file_path = 'StarRail_setup_ua_0d709f05dd7e.exe'\n",
    "    num_parts = 8\n",
    "    key = get_random_bytes(16)  # 16 bytes key for AES-128\n",
    "\n",
    "    file_type = get_file_type(file_path)\n",
    "    print(f'File type: {file_type}')\n",
    "\n",
    "    if 'zip' in file_type:\n",
    "        print('Processing as a ZIP file.')\n",
    "    elif 'exe' in file_type:\n",
    "        print('Processing as an EXE file.')\n",
    "    else:\n",
    "        print('Unknown file type.')\n",
    "        return\n",
    "    print(file_type)\n",
    "\n",
    "    # Split the file into parts\n",
    "    parts = split_file(file_path, num_parts)\n",
    "\n",
    "    # Encrypt each part\n",
    "    encrypted_parts = encrypt_parts(parts, key)\n",
    "\n",
    "    # Save encrypted parts to files\n",
    "    for i, part in enumerate(encrypted_parts):\n",
    "        with open(f'encrypted_part_{i}.bin', 'wb') as f:\n",
    "            f.write(part)\n",
    "\n",
    "    # Read encrypted parts from files\n",
    "    read_encrypted_parts = []\n",
    "    for i in range(num_parts):\n",
    "        with open(f'encrypted_part_{i}.bin', 'rb') as f:\n",
    "            part = f.read()\n",
    "        read_encrypted_parts.append(part)\n",
    "\n",
    "    # Decrypt each part\n",
    "    decrypted_parts = decrypt_parts(read_encrypted_parts, key)\n",
    "\n",
    "    # Combine decrypted parts back into the original file\n",
    "    combined_file_path = 'decrypted_combined'\n",
    "    if 'zip' in file_type:\n",
    "        combined_file_path += '.zip'\n",
    "    elif 'exe' in file_type:\n",
    "        combined_file_path += '.exe'\n",
    "    combine_parts(decrypted_parts, combined_file_path)\n",
    "\n",
    "if __name__ == \"__main__\":\n",
    "    main()\n"
   ]
  },
  {
   "cell_type": "code",
   "execution_count": 17,
   "id": "734eb5a8-91ec-4610-9967-74f12321892b",
   "metadata": {},
   "outputs": [
    {
     "name": "stdout",
     "output_type": "stream",
     "text": [
      "File type: text/plain\n",
      "Processing as a text file.\n"
     ]
    }
   ],
   "source": [
    "import os\n",
    "import magic\n",
    "from Crypto.Cipher import AES\n",
    "from Crypto.Util.Padding import pad, unpad\n",
    "from Crypto.Random import get_random_bytes\n",
    "\n",
    "def get_file_type(file_path):\n",
    "    mime = magic.Magic(mime=True)\n",
    "    file_type = mime.from_file(file_path)\n",
    "    return file_type\n",
    "\n",
    "def split_file(file_path, num_parts):\n",
    "    with open(file_path, 'rb') as f:\n",
    "        data = f.read()\n",
    "    \n",
    "    part_size = len(data) // num_parts\n",
    "    parts = [data[i * part_size: (i + 1) * part_size] for i in range(num_parts - 1)]\n",
    "    parts.append(data[(num_parts - 1) * part_size:])\n",
    "    \n",
    "    return parts\n",
    "\n",
    "def encrypt_parts(parts, key):\n",
    "    encrypted_parts = []\n",
    "    for part in parts:\n",
    "        cipher = AES.new(key, AES.MODE_CBC)\n",
    "        iv = cipher.iv\n",
    "        encrypted_part = iv + cipher.encrypt(pad(part, AES.block_size))\n",
    "        encrypted_parts.append(encrypted_part)\n",
    "    return encrypted_parts\n",
    "\n",
    "def decrypt_parts(encrypted_parts, key):\n",
    "    decrypted_parts = []\n",
    "    for encrypted_part in encrypted_parts:\n",
    "        iv = encrypted_part[:16]\n",
    "        encrypted_data = encrypted_part[16:]\n",
    "        cipher = AES.new(key, AES.MODE_CBC, iv)\n",
    "        decrypted_part = unpad(cipher.decrypt(encrypted_data), AES.block_size)\n",
    "        decrypted_parts.append(decrypted_part)\n",
    "    return decrypted_parts\n",
    "\n",
    "def combine_parts(parts, output_file):\n",
    "    with open(output_file, 'wb') as f:\n",
    "        for part in parts:\n",
    "            f.write(part)\n",
    "\n",
    "def main():\n",
    "    #file_path = 'pvz2.1.zip'  # 可以換成任何文件的路徑\n",
    "    #file_path = 'StarRail_setup_ua_0d709f05dd7e.exe'\n",
    "    file_path = 'data3.txt'\n",
    "    num_parts = 8\n",
    "    key = get_random_bytes(16)  # 16 bytes key for AES-128\n",
    "\n",
    "    file_type = get_file_type(file_path)\n",
    "    print(f'File type: {file_type}')\n",
    "\n",
    "    if 'zip' in file_type:\n",
    "        print('Processing as a ZIP file.')\n",
    "        output_extension = '.zip'\n",
    "    elif 'exe' in file_type:\n",
    "        print('Processing as an EXE file.')\n",
    "        output_extension = '.exe'\n",
    "    elif 'pdf' in file_type:\n",
    "        print('Processing as a PDF file.')\n",
    "        output_extension = '.pdf'\n",
    "    elif 'png' in file_type:\n",
    "        print('Processing as a PNG image file.')\n",
    "        output_extension = '.png'\n",
    "    elif 'jpeg' in file_type or 'jpg' in file_type:\n",
    "        print('Processing as a JPEG image file.')\n",
    "        output_extension = '.jpg'\n",
    "    elif 'mp4' in file_type:\n",
    "        print('Processing as an MP4 video file.')\n",
    "        output_extension = '.mp4'\n",
    "    elif 'mp3' in file_type:\n",
    "        print('Processing as an MP3 audio file.')\n",
    "        output_extension = '.mp3'\n",
    "    elif 'text' in file_type:\n",
    "        print('Processing as a text file.')\n",
    "        output_extension = '.txt'\n",
    "    else:\n",
    "        print('Unknown file type.')\n",
    "        return\n",
    "    \n",
    "\n",
    "    # Split the file into parts\n",
    "    parts = split_file(file_path, num_parts)\n",
    "\n",
    "    # Encrypt each part\n",
    "    encrypted_parts = encrypt_parts(parts, key)\n",
    "\n",
    "    # Save encrypted parts to files\n",
    "    for i, part in enumerate(encrypted_parts):\n",
    "        with open(f'encrypted_part_{i}.bin', 'wb') as f:\n",
    "            f.write(part)\n",
    "\n",
    "    # Read encrypted parts from files\n",
    "    read_encrypted_parts = []\n",
    "    for i in range(num_parts):\n",
    "        with open(f'encrypted_part_{i}.bin', 'rb') as f:\n",
    "            part = f.read()\n",
    "        read_encrypted_parts.append(part)\n",
    "\n",
    "    # Decrypt each part\n",
    "    decrypted_parts = decrypt_parts(read_encrypted_parts, key)\n",
    "\n",
    "    # Combine decrypted parts back into the original file\n",
    "    combined_file_path = 'decrypted_combined' + output_extension\n",
    "    combine_parts(decrypted_parts, combined_file_path)\n",
    "\n",
    "if __name__ == \"__main__\":\n",
    "    main()\n"
   ]
  },
  {
   "cell_type": "code",
   "execution_count": 28,
   "id": "6883f95c-3ad2-4809-8423-07713ee266d9",
   "metadata": {},
   "outputs": [
    {
     "name": "stdout",
     "output_type": "stream",
     "text": [
      "File type: application/x-rar\n",
      "Processing as a rar file.\n"
     ]
    }
   ],
   "source": [
    "import os\n",
    "import magic\n",
    "from Crypto.Cipher import AES\n",
    "from Crypto.Util.Padding import pad, unpad\n",
    "from Crypto.Random import get_random_bytes\n",
    "\n",
    "def get_file_type(file_path):\n",
    "    mime = magic.Magic(mime=True)\n",
    "    file_type = mime.from_file(file_path)\n",
    "    return file_type\n",
    "\n",
    "def split_file(file_path, num_parts):\n",
    "    with open(file_path, 'rb') as f:\n",
    "        data = f.read()\n",
    "    \n",
    "    part_size = len(data) // num_parts\n",
    "    parts = [data[i * part_size: (i + 1) * part_size] for i in range(num_parts - 1)]\n",
    "    parts.append(data[(num_parts - 1) * part_size:])\n",
    "    \n",
    "    return parts\n",
    "\n",
    "def encrypt_parts(parts, key):\n",
    "    encrypted_parts = []\n",
    "    for part in parts:\n",
    "        cipher = AES.new(key, AES.MODE_CBC)\n",
    "        iv = cipher.iv\n",
    "        encrypted_part = iv + cipher.encrypt(pad(part, AES.block_size))\n",
    "        encrypted_parts.append(encrypted_part)\n",
    "    return encrypted_parts\n",
    "\n",
    "def main():\n",
    "    #file_path = 'pvz2.1.zip'  # 可以換成任何文件的路徑\n",
    "    #file_path = 'StarRail_setup_ua_0d709f05dd7e.rar'\n",
    "    file_path = 'data3.txt'\n",
    "    num_parts = 8\n",
    "    key = get_random_bytes(16)  # 16 bytes key for AES-128\n",
    "\n",
    "    file_type = get_file_type(file_path)\n",
    "    print(f'File type: {file_type}')\n",
    "\n",
    "    if 'zip' in file_type:\n",
    "        print('Processing as a ZIP file.')\n",
    "        output_extension = '.zip'\n",
    "    elif 'exe' in file_type:\n",
    "        print('Processing as an EXE file.')\n",
    "        output_extension = '.exe'\n",
    "    elif 'pdf' in file_type:\n",
    "        print('Processing as a PDF file.')\n",
    "        output_extension = '.pdf'\n",
    "    elif 'png' in file_type:\n",
    "        print('Processing as a PNG image file.')\n",
    "        output_extension = '.png'\n",
    "    elif 'jpeg' in file_type or 'jpg' in file_type:\n",
    "        print('Processing as a JPEG image file.')\n",
    "        output_extension = '.jpg'\n",
    "    elif 'mp4' in file_type:\n",
    "        print('Processing as an MP4 video file.')\n",
    "        output_extension = '.mp4'\n",
    "    elif 'mp3' in file_type:\n",
    "        print('Processing as an MP3 audio file.')\n",
    "        output_extension = '.mp3'\n",
    "    elif 'text' in file_type:\n",
    "        print('Processing as a text file.')\n",
    "        output_extension = '.txt'\n",
    "    elif 'rar' in file_type:\n",
    "        print('Processing as a rar file.')\n",
    "        output_extension = '.rar'\n",
    "    else:\n",
    "        print('Unknown file type.')\n",
    "        return\n",
    "    \n",
    "    with open('output_extension.txt', 'w') as f:\n",
    "        f.write(output_extension)\n",
    "\n",
    "    # Split the file into parts\n",
    "    parts = split_file(file_path, num_parts)\n",
    "\n",
    "    # Encrypt each part\n",
    "    encrypted_parts = encrypt_parts(parts, key)\n",
    "\n",
    "    # Save encrypted parts to files\n",
    "    for i, part in enumerate(encrypted_parts):\n",
    "        with open(f'encrypted_part_{i}.bin', 'wb') as f:\n",
    "            f.write(part)\n",
    "    \n",
    "    # Save the key to a file (optional)\n",
    "    with open('encryption_key.bin', 'wb') as f:\n",
    "        f.write(key)\n",
    "\n",
    "if __name__ == \"__main__\":\n",
    "    main()\n"
   ]
  },
  {
   "cell_type": "code",
   "execution_count": null,
   "id": "2039d31c-3cd4-4d02-9355-7be34ea2b81c",
   "metadata": {},
   "outputs": [],
   "source": []
  }
 ],
 "metadata": {
  "kernelspec": {
   "display_name": "Python 3 (ipykernel)",
   "language": "python",
   "name": "python3"
  },
  "language_info": {
   "codemirror_mode": {
    "name": "ipython",
    "version": 3
   },
   "file_extension": ".py",
   "mimetype": "text/x-python",
   "name": "python",
   "nbconvert_exporter": "python",
   "pygments_lexer": "ipython3",
   "version": "3.9.13"
  }
 },
 "nbformat": 4,
 "nbformat_minor": 5
}
