{
 "cells": [
  {
   "cell_type": "code",
   "execution_count": 1,
   "id": "a0c9c25c-9dd6-4814-872d-5a36ae19708a",
   "metadata": {},
   "outputs": [
    {
     "name": "stdout",
     "output_type": "stream",
     "text": [
      "0x3ac225168df54212a25c1c01fd35bebfea408fdac2e31ddd6f80a4bbf9a5f1cb\n"
     ]
    }
   ],
   "source": [
    "from web3 import Web3\n",
    "\n",
    "# 創建一個 Web3 實例\n",
    "w3 = Web3()\n",
    "\n",
    "packed_data = w3.solidity_keccak(['string'], ['a'])\n",
    "\n",
    "print(packed_data.hex())"
   ]
  },
  {
   "cell_type": "code",
   "execution_count": 29,
   "id": "74158914-298d-448a-a895-2172d60d5ab6",
   "metadata": {},
   "outputs": [
    {
     "name": "stdout",
     "output_type": "stream",
     "text": [
      "0x689e5e504d9681a9b5b9bf89443e3082f6700b7cb8dfe93fad0dddfdc12cdb24\n",
      "0xb5553de315e0edf504d9150af82dafa5c4667fa618ed0a6f19c69b41166c5510\n",
      "0x0b42b6393c1f53060fe3ddbfcd7aadcca894465a5a438f69c87d790b2299b9b2\n",
      "0xf1918e8562236eb17adc8502332f4c9c82bc14e19bfc0aa10ab674ff75b3d2f3\n"
     ]
    }
   ],
   "source": [
    "h0 = w3.solidity_keccak(['string'], ['哈哈']).hex()\n",
    "h1 = w3.solidity_keccak(['string'], ['b']).hex()\n",
    "h2 = w3.solidity_keccak(['string'], ['c']).hex()\n",
    "h3 = w3.solidity_keccak(['string'], ['d']).hex()\n",
    "\n",
    "print(h0)\n",
    "print(h1)\n",
    "print(h2)\n",
    "print(h3)"
   ]
  },
  {
   "cell_type": "code",
   "execution_count": 10,
   "id": "cff7e9f4-66fb-4886-a248-926cec0b2d19",
   "metadata": {},
   "outputs": [
    {
     "name": "stdout",
     "output_type": "stream",
     "text": [
      "0x805b21d846b189efaeb0377d6bb0d201b3872a363e607c25088f025b0c6ae1f8\n",
      "0xd253a52d4cb00de2895e85f2529e2976e6aaaa5c18106b68ab66813e14415669\n"
     ]
    }
   ],
   "source": [
    "h01=w3.solidity_keccak(['bytes32', 'bytes32'], [h0, h1]).hex()\n",
    "h23=w3.solidity_keccak(['bytes32', 'bytes32'], [h2, h3]).hex()\n",
    "\n",
    "print(h01)\n",
    "print(h23)"
   ]
  },
  {
   "cell_type": "code",
   "execution_count": 11,
   "id": "715473e7-d42f-4061-a1d4-f52d69301995",
   "metadata": {},
   "outputs": [
    {
     "name": "stdout",
     "output_type": "stream",
     "text": [
      "0x68203f90e9d07dc5859259d7536e87a6ba9d345f2552b5b9de2999ddce9ce1bf\n"
     ]
    }
   ],
   "source": [
    "hroot = w3.solidity_keccak(['bytes32', 'bytes32'], [h01, h23]).hex()\n",
    "\n",
    "print(hroot)"
   ]
  },
  {
   "cell_type": "code",
   "execution_count": null,
   "id": "4da9b3dc-dad6-4ced-9351-8b254da34361",
   "metadata": {},
   "outputs": [],
   "source": []
  },
  {
   "cell_type": "code",
   "execution_count": 23,
   "id": "551052f4-9e12-40eb-9daa-065c2740523c",
   "metadata": {},
   "outputs": [],
   "source": [
    "from Crypto.Cipher import AES\n",
    "from Crypto.Random import get_random_bytes\n",
    "from Crypto.Util.Padding import pad, unpad\n",
    "\n",
    "def generate_key():\n",
    "    return get_random_bytes(32)\n",
    "\n",
    "def encrypt(data, key):\n",
    "    cipher = AES.new(key, AES.MODE_CBC)\n",
    "    ciphertext = cipher.encrypt(pad(data.encode('utf-8'), AES.block_size))\n",
    "    iv = cipher.iv\n",
    "    return ciphertext, iv\n",
    "\n",
    "def decrypt(ciphertext, key, iv):\n",
    "    cipher = AES.new(key, AES.MODE_CBC, iv)\n",
    "    decrypted_data = unpad(cipher.decrypt(ciphertext), AES.block_size)\n",
    "    return decrypted_data.decode('utf-8')"
   ]
  },
  {
   "cell_type": "code",
   "execution_count": 24,
   "id": "7fd116a0-4994-49b0-bc50-76ddf43ecefc",
   "metadata": {},
   "outputs": [
    {
     "name": "stdout",
     "output_type": "stream",
     "text": [
      "b'\\xb36\\xc9\\x05vE\\xb8\\xc7\\xc0;i\\x8b\\x1f\\x01\\x17`\\xb2\\x86v\\r\\x14s\\x0e\\x8fH\\xeaP7\\xdb\\xe7}\\xe2'\n"
     ]
    }
   ],
   "source": [
    "key = generate_key()\n",
    "print(key)"
   ]
  },
  {
   "cell_type": "code",
   "execution_count": 27,
   "id": "e3b31a00-784e-4abd-8d81-7a3423f4192f",
   "metadata": {},
   "outputs": [],
   "source": [
    "import base64\n",
    "\n",
    "data=[\"Hello!\", \"World!\"]\n",
    "ciphertextList=[]\n",
    "ivList=[]\n",
    "\n",
    "for d in data:\n",
    "    ciphertext, iv = encrypt(d, key)\n",
    "    ciphertextList.append(ciphertext)\n",
    "    ivList.append(iv)\n",
    "\n",
    "# 将加密后的数据和初始化向量转换为Base64编码的字符串\n",
    "encrypted_data_list = [base64.b64encode(ciphertext).decode('utf-8') for ciphertext in ciphertextList]\n",
    "iv_data_list = [base64.b64encode(iv).decode('utf-8') for iv in ivList]\n",
    "\n",
    "# 写入文本文件\n",
    "with open(\"encrypted_data.txt\", \"w\") as file:\n",
    "    for encrypted_data, iv_data in zip(encrypted_data_list, iv_data_list):\n",
    "        file.write(encrypted_data + \",\" + iv_data + \"\\n\")"
   ]
  },
  {
   "cell_type": "code",
   "execution_count": 28,
   "id": "d6f99957-bdb8-41e1-acc4-ef065d1de6f5",
   "metadata": {},
   "outputs": [
    {
     "name": "stdout",
     "output_type": "stream",
     "text": [
      "Hello!\n",
      "World!\n"
     ]
    }
   ],
   "source": [
    "import base64\n",
    "\n",
    "# 读取加密数据和初始化向量\n",
    "ciphertext_list = []\n",
    "iv_list = []\n",
    "with open(\"encrypted_data.txt\", \"r\") as file:\n",
    "    for line in file:\n",
    "        encrypted_data, iv_data = line.strip().split(\",\")\n",
    "        ciphertext_list.append(base64.b64decode(encrypted_data))\n",
    "        iv_list.append(base64.b64decode(iv_data))\n",
    "\n",
    "# 使用相同的密钥和初始化向量逐个解密数据\n",
    "for ciphertext, iv in zip(ciphertext_list, iv_list):\n",
    "    decrypted_data = decrypt(ciphertext, key, iv)\n",
    "    print(decrypted_data)\n"
   ]
  },
  {
   "cell_type": "code",
   "execution_count": 30,
   "id": "ed56707e-f073-4f2f-80d8-6e842ae763e6",
   "metadata": {},
   "outputs": [
    {
     "name": "stdout",
     "output_type": "stream",
     "text": [
      "['This is', ' a samp', 'le data.']\n"
     ]
    }
   ],
   "source": [
    "def split_data(data, n):\n",
    "    # 确定每块的大小\n",
    "    block_size = len(data) // n\n",
    "    blocks = []\n",
    "\n",
    "    # 将数据分成n块\n",
    "    for i in range(n):\n",
    "        start = i * block_size\n",
    "        end = start + block_size\n",
    "        if i == n - 1:\n",
    "            # 最后一块可能比其他块大\n",
    "            end = len(data)\n",
    "        blocks.append(data[start:end])\n",
    "\n",
    "    return blocks\n",
    "\n",
    "# 示例数据\n",
    "data = \"This is a sample data.\"\n",
    "n = 3\n",
    "\n",
    "# 分割数据\n",
    "blocks = split_data(data, n)\n",
    "print(blocks)"
   ]
  },
  {
   "cell_type": "code",
   "execution_count": 34,
   "id": "23f240cb-d668-43da-8b60-4ada8783b221",
   "metadata": {},
   "outputs": [
    {
     "name": "stdout",
     "output_type": "stream",
     "text": [
      "['一二三', '四五六', '七八九', '十哈哈', '哈哈', '嗚嗚', '嗚嗚', '嗚嗚']\n"
     ]
    }
   ],
   "source": [
    "def split_data(data, n):\n",
    "    # 确定每块的大小\n",
    "    block_size = len(data) // n\n",
    "    remainder = len(data) % n\n",
    "    blocks = []\n",
    "\n",
    "    # 将数据分成n块\n",
    "    start = 0\n",
    "    for i in range(n):\n",
    "        end = start + block_size + (1 if i < remainder else 0)\n",
    "        blocks.append(data[start:end])\n",
    "        start = end\n",
    "\n",
    "    return blocks\n",
    "\n",
    "# 示例数据\n",
    "data = \"一二三四五六七八九十哈哈哈哈嗚嗚嗚嗚嗚嗚\"\n",
    "n = 8\n",
    "\n",
    "# 分割数据\n",
    "blocks = split_data(data, n)\n",
    "print(blocks)"
   ]
  },
  {
   "cell_type": "code",
   "execution_count": 35,
   "id": "2bada6a8-6075-41ba-99ef-4847e6d6503a",
   "metadata": {},
   "outputs": [],
   "source": [
    "def create_file_from_array(array, file_path):\n",
    "    # 将数组的前8项合并为一个字符串\n",
    "    data = ''.join(array[:8])\n",
    "\n",
    "    # 将字符串写入文件\n",
    "    with open(file_path, 'w') as f:\n",
    "        f.write(data)\n",
    "\n",
    "# 示例数组\n",
    "array = ['data1', 'data2', 'data3', 'data4', 'data5', 'data6', 'data7', 'data8']\n",
    "\n",
    "# 创建文件\n",
    "file_path = 'output1.txt'\n",
    "create_file_from_array(array, file_path)\n"
   ]
  },
  {
   "cell_type": "code",
   "execution_count": null,
   "id": "23467d55-f163-408e-b45a-d0038f0a8675",
   "metadata": {},
   "outputs": [],
   "source": []
  }
 ],
 "metadata": {
  "kernelspec": {
   "display_name": "Python 3 (ipykernel)",
   "language": "python",
   "name": "python3"
  },
  "language_info": {
   "codemirror_mode": {
    "name": "ipython",
    "version": 3
   },
   "file_extension": ".py",
   "mimetype": "text/x-python",
   "name": "python",
   "nbconvert_exporter": "python",
   "pygments_lexer": "ipython3",
   "version": "3.9.13"
  }
 },
 "nbformat": 4,
 "nbformat_minor": 5
}
